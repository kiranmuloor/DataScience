{
  "nbformat": 4,
  "nbformat_minor": 0,
  "metadata": {
    "colab": {
      "name": "Chapter 3 : Python Learning Group",
      "provenance": [],
      "collapsed_sections": [],
      "toc_visible": true,
      "include_colab_link": true
    },
    "kernelspec": {
      "name": "python3",
      "display_name": "Python 3"
    }
  },
  "cells": [
    {
      "cell_type": "markdown",
      "metadata": {
        "id": "view-in-github",
        "colab_type": "text"
      },
      "source": [
        "<a href=\"https://colab.research.google.com/github/kiranmuloor/DataScience/blob/master/Python/Chapter_3_Python_Learning_Group.ipynb\" target=\"_parent\"><img src=\"https://colab.research.google.com/assets/colab-badge.svg\" alt=\"Open In Colab\"/></a>"
      ]
    },
    {
      "cell_type": "markdown",
      "metadata": {
        "id": "H1CY-byrxMtx"
      },
      "source": [
        "\n",
        "\n",
        "# <h1><b><center>&nbsp;&nbsp;&nbsp;&nbsp;&nbsp;&nbsp;&nbsp;&nbsp;&nbsp;&nbsp;&nbsp;&nbsp;<u>WEEKLY ASSESSMENTS for Python Learning Group</u></center></b></h1><br>\n"
      ]
    },
    {
      "cell_type": "markdown",
      "metadata": {
        "id": "KUOHU-gDAfiz"
      },
      "source": [
        "## <h2><center><b>CHAPTER 3</b></center></h2>\n",
        "\n",
        "<b>Note: </b> The programs in this section print out a lot of stuff. By default, when multiple print statements\n",
        "are used, each one will print on a separate line. However, by adding an optional argument like end=\"\" or\n",
        "end=\"\", we can force things to stay on the same line. For instance, instead of print('Hello') we can use\n",
        "print('Hello',end=\"\"). This will make the output of some of the programs easier to read and test. Note\n",
        "also that an empty print() statement will cancel out the effect of the end optional argument. Another optional argument to check out is sep=\"\" in print function."
      ]
    },
    {
      "cell_type": "markdown",
      "metadata": {
        "id": "vZk6Y_0hSpZH"
      },
      "source": [
        "<hr>\n",
        "\n",
        "#  <h1><u><center><b> GROUP-1 (G-1) : </b></center></u></h1>\n",
        "\n",
        "\n",
        "<hr>"
      ]
    },
    {
      "cell_type": "markdown",
      "metadata": {
        "id": "kZNFqkG4V62V"
      },
      "source": [
        "<pre>1.)Print all multiples of 13 that are smaller than 100. Use the range function in the\n",
        "following manner: range (start, end, step) where \"start\" is the starting value of the\n",
        "counter, \"end\" is the end value and \"step\" is the amount by which the counter is\n",
        "increased each time.\n"
      ]
    },
    {
      "cell_type": "code",
      "metadata": {
        "id": "5758ewz1bWhr",
        "outputId": "4d64ad15-8d0d-4f8e-af38-b5b23d289349",
        "colab": {
          "base_uri": "https://localhost:8080/",
          "height": 161
        }
      },
      "source": [
        "#Solved by : Rajanna AI01\n",
        "\n",
        "#Code/Answers below :\n",
        "for i in range(0,100,13):\n",
        "  print(i)"
      ],
      "execution_count": null,
      "outputs": [
        {
          "output_type": "stream",
          "text": [
            "0\n",
            "13\n",
            "26\n",
            "39\n",
            "52\n",
            "65\n",
            "78\n",
            "91\n"
          ],
          "name": "stdout"
        }
      ]
    },
    {
      "cell_type": "code",
      "metadata": {
        "id": "6RbWXMSAnvv2",
        "outputId": "21b0f858-d015-4604-dc3f-73f6bb9fe0df",
        "colab": {
          "base_uri": "https://localhost:8080/",
          "height": 197
        }
      },
      "source": [
        "#Alternative suggested by: Taiba Naz\n",
        "for i in range(13,131,13):\n",
        "  print(i)"
      ],
      "execution_count": null,
      "outputs": [
        {
          "output_type": "stream",
          "text": [
            "13\n",
            "26\n",
            "39\n",
            "52\n",
            "65\n",
            "78\n",
            "91\n",
            "104\n",
            "117\n",
            "130\n"
          ],
          "name": "stdout"
        }
      ]
    },
    {
      "cell_type": "markdown",
      "metadata": {
        "id": "GbPXMunWxbIF"
      },
      "source": [
        "<pre>2.) Use loops to print a box like the one below. Allow the user to specify how wide and how high the box should be. Try using both for loops and while loops.\n",
        "\n",
        "EX : height = 4, width = 20\n",
        "********************\n",
        "********************\n",
        "********************\n",
        "********************\n",
        "</pre>"
      ]
    },
    {
      "cell_type": "code",
      "metadata": {
        "id": "2asp7ZRBMZgt",
        "outputId": "dab27d98-1c1e-4789-dc98-f11f8a87569c",
        "colab": {
          "base_uri": "https://localhost:8080/",
          "height": 148
        }
      },
      "source": [
        "#Solved by : vinaya\n",
        "\n",
        "#Code/Answers below :\n",
        "h = int(input(\"Enter the hight: \"))\n",
        "w = int(input(\"Enter the width:\"))\n",
        "\n",
        "for l in range(h):\n",
        "       print('*' * w)\n"
      ],
      "execution_count": null,
      "outputs": [
        {
          "output_type": "stream",
          "text": [
            "Enter the hight: 5\n",
            "Enter the width:10\n",
            "**********\n",
            "**********\n",
            "**********\n",
            "**********\n",
            "**********\n"
          ],
          "name": "stdout"
        }
      ]
    },
    {
      "cell_type": "markdown",
      "metadata": {
        "id": "eKOzwwWzSlI5"
      },
      "source": [
        "<pre>3.) Write an user-defined to print the content of the following list.  l = [apple,banana,cherry].\n",
        "</pre>"
      ]
    },
    {
      "cell_type": "code",
      "metadata": {
        "id": "Pzu7mNbT-C4b",
        "outputId": "ce5bb3ba-f473-4a28-85c7-879e103e7225",
        "colab": {
          "base_uri": "https://localhost:8080/",
          "height": 34
        }
      },
      "source": [
        "#Solved by : Pawan Rama Mali (AI01)\n",
        "\n",
        "#Code/Answers below :\n",
        "\n",
        "l = [\"apple\",\"banana\",\"cherry\"]\n",
        "print(l)"
      ],
      "execution_count": null,
      "outputs": [
        {
          "output_type": "stream",
          "text": [
            "['apple', 'banana', 'cherry']\n"
          ],
          "name": "stdout"
        }
      ]
    },
    {
      "cell_type": "code",
      "metadata": {
        "id": "7gO3IVEwUWGm",
        "outputId": "adb3b6a4-9f31-47dd-935b-cb77239f158d",
        "colab": {
          "base_uri": "https://localhost:8080/",
          "height": 71
        }
      },
      "source": [
        "#Alternative suggested by: Taiba Naz\n",
        "def fruits():\n",
        "  list=['apple','banana','cherry']\n",
        "  #Code/Answers below :\n",
        "  for i in list:\n",
        "    print(i)\n",
        "fruits()\n"
      ],
      "execution_count": null,
      "outputs": [
        {
          "output_type": "stream",
          "text": [
            "apple\n",
            "banana\n",
            "cherry\n"
          ],
          "name": "stdout"
        }
      ]
    },
    {
      "cell_type": "markdown",
      "metadata": {
        "id": "6DEBNo_m-FYi"
      },
      "source": [
        "<pre>\n",
        "4.) Find the prime numbers from 2 to 100 using nested for loops\n",
        "</pre>"
      ]
    },
    {
      "cell_type": "code",
      "metadata": {
        "id": "9Lq3w3se_U-q"
      },
      "source": [
        "#Solved by :\n",
        "\n",
        "#Code/Answers below :"
      ],
      "execution_count": null,
      "outputs": []
    },
    {
      "cell_type": "code",
      "metadata": {
        "id": "m4F30NiFWHx6",
        "outputId": "35f40e42-9a3f-4837-e7fe-f5f6109acedf",
        "colab": {
          "base_uri": "https://localhost:8080/",
          "height": 35
        }
      },
      "source": [
        "#Alternative suggested by: Taiba Naz\n",
        "\n",
        "for i in range(2,100):\n",
        "  for j in range(2,i): \n",
        "    if i%j==0:\n",
        "      break\n",
        "  else:  \n",
        "     print(i,end=\" \")   \n",
        "  \n",
        "   "
      ],
      "execution_count": null,
      "outputs": [
        {
          "output_type": "stream",
          "text": [
            "2 3 5 7 11 13 17 19 23 29 31 37 41 43 47 53 59 61 67 71 73 79 83 89 97 "
          ],
          "name": "stdout"
        }
      ]
    },
    {
      "cell_type": "markdown",
      "metadata": {
        "id": "Wzj58GY9_aIl"
      },
      "source": [
        "<pre>5.) Write a Program to print the pattern for number, n, where n is the number of lines. \n",
        "Eg : For n = 5, we get :\n",
        "    *\n",
        "   * *\n",
        "  * * *\n",
        " * * * *\n",
        "* * * * *\n"
      ]
    },
    {
      "cell_type": "code",
      "metadata": {
        "id": "J73lkuNf_n8K"
      },
      "source": [
        "#Solved by :\n",
        "\n",
        "#Code/Answers below :\n"
      ],
      "execution_count": null,
      "outputs": []
    },
    {
      "cell_type": "code",
      "metadata": {
        "id": "FhGZ78In_ToZ",
        "outputId": "2ca1728f-81e6-425e-c1c1-02c2b2811f59",
        "colab": {
          "base_uri": "https://localhost:8080/",
          "height": 143
        }
      },
      "source": [
        "#Alternative suggested by: Taiba Naz\n",
        "def stars():\n",
        "  n=int(input(\"enter any number: \"))\n",
        "  for i in range(n+1):\n",
        "    \n",
        "      print((n-i)*' '+i*' *',end =\"\")\n",
        "    \n",
        "      print()\n",
        "stars()      "
      ],
      "execution_count": null,
      "outputs": [
        {
          "output_type": "stream",
          "text": [
            "enter any number: 5\n",
            "     \n",
            "     *\n",
            "    * *\n",
            "   * * *\n",
            "  * * * *\n",
            " * * * * *\n"
          ],
          "name": "stdout"
        }
      ]
    },
    {
      "cell_type": "markdown",
      "metadata": {
        "id": "j59klTlzADQS"
      },
      "source": [
        "<pre>6.) Write a program to input a number and print its first n multiples, where n is inputted by the user.\n",
        "</pre>"
      ]
    },
    {
      "cell_type": "code",
      "metadata": {
        "id": "0CUJ2-yYARxc",
        "outputId": "3c57f53b-f040-4f7b-ce5e-32eabad19949",
        "colab": {
          "base_uri": "https://localhost:8080/",
          "height": 153
        }
      },
      "source": [
        "#Solved by :Maddipati Rakesh Kumar\n",
        "\n",
        "#Code/Answers below :\n",
        "\n",
        "def nmultiple():\n",
        "    num=int(input(\"enter number:\"))\n",
        "    mul=int(input(\"enter multiple:\"))\n",
        "    for i in range(0,mul+1):\n",
        "        print(num*i)\n",
        "\n",
        "nmultiple()"
      ],
      "execution_count": null,
      "outputs": [
        {
          "output_type": "stream",
          "text": [
            "enter number:10\n",
            "enter multiple:5\n",
            "0\n",
            "10\n",
            "20\n",
            "30\n",
            "40\n",
            "50\n"
          ],
          "name": "stdout"
        }
      ]
    },
    {
      "cell_type": "markdown",
      "metadata": {
        "id": "m1WLAuqZATVp"
      },
      "source": [
        "<hr>\n",
        "\n",
        "#  <h1><u><center><b> GROUP-2 (G-2) : </b></center></u></h1>\n",
        "\n",
        "\n",
        "<hr>"
      ]
    },
    {
      "cell_type": "markdown",
      "metadata": {
        "id": "J4D37EhyAja4"
      },
      "source": [
        "<pre>1.) Write a program to calculate and display the factorial of an inputted number without using math or cmath modules.\n",
        "</pre>"
      ]
    },
    {
      "cell_type": "code",
      "metadata": {
        "id": "HkyuZUuEAv_S",
        "outputId": "53a3acfe-40b5-4caa-fb36-cdc9167a6a88",
        "colab": {
          "base_uri": "https://localhost:8080/",
          "height": 51
        }
      },
      "source": [
        "#Solved by : Prem Kumar KM AI01\n",
        "\n",
        "#Code/Answers below :\n",
        "def fact_recursion(num): #Fuction to calculate the factorial\n",
        "    if num < 0:\n",
        "        return 0\n",
        "    if num == 0:\n",
        "        return 1\n",
        "\n",
        "    return num * fact_recursion(num - 1) #Recursive call \n",
        "\n",
        "num=int(input(\"Enter the Number to Find Factorial: \"))\n",
        "print(\"The Factorial of number:\",fact_recursion(num))    "
      ],
      "execution_count": null,
      "outputs": [
        {
          "output_type": "stream",
          "text": [
            "Enter the Number to Find Factorial: 3\n",
            "The Factorial of number: 6\n"
          ],
          "name": "stdout"
        }
      ]
    },
    {
      "cell_type": "code",
      "metadata": {
        "id": "grx92sc6cuXc",
        "outputId": "6c8c673b-30e4-4617-9012-e25246b3beaa",
        "colab": {
          "base_uri": "https://localhost:8080/",
          "height": 53
        }
      },
      "source": [
        "#Alternative suggested by: Taiba Naz\n",
        "def factorial():\n",
        "  n=int(input(\"enter a number: \"))\n",
        "  for i in range(1,n+1):\n",
        "    if n%i==0:\n",
        "      print(i,end=\" \")\n",
        "      i=i+1\n",
        "factorial()"
      ],
      "execution_count": null,
      "outputs": [
        {
          "output_type": "stream",
          "text": [
            "enter a number: 6\n",
            "1 2 3 6 "
          ],
          "name": "stdout"
        }
      ]
    },
    {
      "cell_type": "markdown",
      "metadata": {
        "id": "w9de7fjFAyKR"
      },
      "source": [
        "<pre>2.) Write a program to display sum of even numbers upto number n entered by the user.\n",
        "</pre>"
      ]
    },
    {
      "cell_type": "code",
      "metadata": {
        "id": "ebQzCYvQA8JY",
        "outputId": "06b8f22e-8b5d-49e8-a8b6-0bfdb6ea1bbc",
        "colab": {
          "base_uri": "https://localhost:8080/",
          "height": 238
        }
      },
      "source": [
        "#Solved by : Ashsih K. Singh\n",
        "\n",
        "#Code/Answers below :\n",
        "\n",
        "n = int(input(\" Please Enter the Maximum Value : \"))\n",
        "total = 0\n",
        "\n",
        "for number in range(1, n+1):\n",
        "    if(number % 2 == 0):\n",
        "        print(\"{0}\".format(number))\n",
        "        total = total + number\n",
        "\n",
        "print(\"The Sum of Even Numbers upto {0} = {1}\".format(number, total))"
      ],
      "execution_count": null,
      "outputs": [
        {
          "output_type": "stream",
          "text": [
            " Please Enter the Maximum Value : 22\n",
            "2\n",
            "4\n",
            "6\n",
            "8\n",
            "10\n",
            "12\n",
            "14\n",
            "16\n",
            "18\n",
            "20\n",
            "22\n",
            "The Sum of Even Numbers upto 22 = 132\n"
          ],
          "name": "stdout"
        }
      ]
    },
    {
      "cell_type": "markdown",
      "metadata": {
        "id": "3ortly4rA9LY"
      },
      "source": [
        "<pre>3.) Write a program to accept a number from the user and print the table of that number.\n",
        "</pre>"
      ]
    },
    {
      "cell_type": "code",
      "metadata": {
        "id": "jtUp-DJsBGiA",
        "outputId": "59b35005-d7c3-4f74-8622-8eb3cfbbfa8f",
        "colab": {
          "base_uri": "https://localhost:8080/",
          "height": 217
        }
      },
      "source": [
        "#Solved by :Vilma BA03\n",
        "\n",
        "#Code/Answers below :\n",
        "x = int(input(\"Enter a number:\"))\n",
        "for x in range (x, x+1):\n",
        "    j=1\n",
        "    while j<11:\n",
        "        print(x, \"*\",j,\"=\", x*j)\n",
        "        j=j+1\n",
        "    print"
      ],
      "execution_count": null,
      "outputs": [
        {
          "output_type": "stream",
          "text": [
            "Enter a number:3\n",
            "3 * 1 = 3\n",
            "3 * 2 = 6\n",
            "3 * 3 = 9\n",
            "3 * 4 = 12\n",
            "3 * 5 = 15\n",
            "3 * 6 = 18\n",
            "3 * 7 = 21\n",
            "3 * 8 = 24\n",
            "3 * 9 = 27\n",
            "3 * 10 = 30\n"
          ],
          "name": "stdout"
        }
      ]
    },
    {
      "cell_type": "markdown",
      "metadata": {
        "id": "wgRWqPUSBHWf"
      },
      "source": [
        "<pre>4.) Write a program to accept a single character from the user and display whether it is a vowel or consonant.\n",
        "</pre>"
      ]
    },
    {
      "cell_type": "code",
      "metadata": {
        "id": "Sv-RVX5BBOo4",
        "outputId": "eff00e99-aa62-4575-9678-42607e18c1c8",
        "colab": {
          "base_uri": "https://localhost:8080/",
          "height": 50
        }
      },
      "source": [
        "#Solved by : Rajanna AI01\n",
        "\n",
        "#Code/Answers below :\n",
        "x = input(\"Enter a single character \")\n",
        "\n",
        "lists = ['a','e','i','o','u','A','E','I','O','U']\n",
        "\n",
        "if x in lists:\n",
        "    print(\"Entered character is Vowel\")\n",
        "else:\n",
        "    print(\"Entered character is consonant\")"
      ],
      "execution_count": null,
      "outputs": [
        {
          "output_type": "stream",
          "text": [
            "Enter a single character i\n",
            "Entered character is Vowel\n"
          ],
          "name": "stdout"
        }
      ]
    },
    {
      "cell_type": "code",
      "metadata": {
        "id": "4Q-j9O618jZV",
        "outputId": "1ea6ef3b-a3f1-4caf-803f-2c36ea074875",
        "colab": {
          "base_uri": "https://localhost:8080/",
          "height": 54
        }
      },
      "source": [
        "#Alternative suggested by : Saket (Intern)\n",
        "\n",
        "#without using list and .lower() function to convert \n",
        "#inputted single character to lowercase.\n",
        "\n",
        "x = input(\"Enter a single character : \")\n",
        "\n",
        "if (len(x))==1:\n",
        "  if x.lower() in \"aeiou\":   #x.lower() converts character to lowercase\n",
        "    print(\"Entered character is Vowel!\")\n",
        "  else:\n",
        "    print(\"Entered character is a consonant\")\n",
        "\n",
        "else:\n",
        "  print(\"Please try again! Entered string is not a single character!\")"
      ],
      "execution_count": null,
      "outputs": [
        {
          "output_type": "stream",
          "text": [
            "Enter a single character : I\n",
            "Entered character is Vowel!\n"
          ],
          "name": "stdout"
        }
      ]
    },
    {
      "cell_type": "markdown",
      "metadata": {
        "id": "g2m1B6BkBQcY"
      },
      "source": [
        "<pre>5.) Write a program to accept a number and display whether the number is a palindrome or not.\n",
        "</pre>"
      ]
    },
    {
      "cell_type": "code",
      "metadata": {
        "id": "EskMaSjZBhgA"
      },
      "source": [
        "#Solved by : Bharadwaz\n"
      ],
      "execution_count": null,
      "outputs": []
    },
    {
      "cell_type": "code",
      "metadata": {
        "id": "BiHV-47rtA5Z",
        "outputId": "72979441-4710-45fa-8625-5cba30b2a2b8",
        "colab": {
          "base_uri": "https://localhost:8080/",
          "height": 53
        }
      },
      "source": [
        "num=int(input(\"Enter a number:\"))\n",
        "temp=num\n",
        "rev=0\n",
        "while(num>0):\n",
        "    dig=num%10\n",
        "    rev=rev*10+dig\n",
        "    num=num//10\n",
        "if(temp==rev):\n",
        "    print(\"The number is palindrome!\")\n",
        "else:\n",
        "    print(\"Not a palindrome!\")"
      ],
      "execution_count": null,
      "outputs": [
        {
          "output_type": "stream",
          "text": [
            "Enter a number:12321\n",
            "The number is palindrome!\n"
          ],
          "name": "stdout"
        }
      ]
    },
    {
      "cell_type": "markdown",
      "metadata": {
        "id": "rjphOT80Bkln"
      },
      "source": [
        "<pre>6.) Write a Python program to count the number of even and odd numbers from a series of numbers inputted by the user. (Hint : You can use *args concept to accept multiple numbers in an user defined function.)\n",
        "\n",
        "EG:\n",
        "Sample numbers : numbers = (1, 2, 3, 4, 5, 6, 7, 8, 9) \n",
        "Expected Output :\n",
        "Number of even numbers : 5\n",
        "Number of odd numbers : 4\n",
        "</pre>"
      ]
    },
    {
      "cell_type": "code",
      "metadata": {
        "id": "SIpo9SgaCP6h"
      },
      "source": [
        "#Solved by : Dinesh Kumar S(AI01)\n",
        "i\n",
        "#Code/Answers below :"
      ],
      "execution_count": null,
      "outputs": []
    },
    {
      "cell_type": "code",
      "metadata": {
        "id": "Y0_DNX_OZuBy",
        "outputId": "8f37eb42-5db1-44ed-ace2-1cdda17a8082",
        "colab": {
          "base_uri": "https://localhost:8080/",
          "height": 50
        }
      },
      "source": [
        "def oddREven(pX):\n",
        "    iEvenCount=0\n",
        "    iOddCount = 0\n",
        "    for i in pX:\n",
        "        if (i%2==0):            \n",
        "            iEvenCount+=1\n",
        "        else:            \n",
        "            iOddCount+=1\n",
        "    print ('Even No count :',iEvenCount,'Odd No Count :', iOddCount)\n",
        "\n",
        "x = input(\"Enter the numbers Use Comma Separator  \")\n",
        "s = list(map(int,x.split(',')))\n",
        "oddREven(s)"
      ],
      "execution_count": null,
      "outputs": [
        {
          "output_type": "stream",
          "text": [
            "Enter the numbers Use Comma Separator  1,2,3,4,5,67,67,68\n",
            "Even No count : 3 Odd No Count : 5\n"
          ],
          "name": "stdout"
        }
      ]
    },
    {
      "cell_type": "code",
      "metadata": {
        "id": "0wWVwtCHS35S",
        "outputId": "48893cee-aaf3-4f85-a68c-4a721a8eeb68",
        "colab": {
          "base_uri": "https://localhost:8080/",
          "height": 50
        }
      },
      "source": [
        "#Alternate Solved by : Rajanna AI01\n",
        "\n",
        "#Code/Answers below :\n",
        "\n",
        "def OddEven(string):\n",
        "    oddctr = 0\n",
        "    evnctr = 0\n",
        "       \n",
        "    for i in string:\n",
        "        if int(i)%2 == 0:\n",
        "            evnctr += 1\n",
        "        else:\n",
        "            oddctr += 1\n",
        "                       \n",
        "    print(\"Number of Odd's = \", oddctr , \"Number of Even's = \", evnctr)\n",
        "    \n",
        "x = input(\"Enter a list elements separated by comma \")\n",
        "x_list = x.split(\",\")\n",
        "OddEven(x_list)"
      ],
      "execution_count": null,
      "outputs": [
        {
          "output_type": "stream",
          "text": [
            "Enter a list elements separated by comma 22,11,44,55,66,77,88,99,222\n",
            "Number of Odd's =  4 Number of Even's =  5\n"
          ],
          "name": "stdout"
        }
      ]
    },
    {
      "cell_type": "code",
      "metadata": {
        "id": "rQKGAn9vez0c",
        "outputId": "77c8c90d-b976-49fd-b955-c23e45bbe0fe",
        "colab": {
          "base_uri": "https://localhost:8080/",
          "height": 33
        }
      },
      "source": [
        "#Alternate solution by Dinesh Kumar S AI01\n",
        "#Code/Answers below:\n",
        "#Method using List comprehension\n",
        "def nevenodd(n):\n",
        "    even = 0\n",
        "    odd = 0\n",
        "    even = sum([num+even for num in n if 0 in [num%2 for i in n]])\n",
        "    odd= sum([num+odd for num in n if 0 not in [num%2 for i in n]])\n",
        "    print ('Sum of Even nos : ',even, 'Sum of Odd nos : ', odd)\n",
        "nevenodd([1,2,3,4,5,6])    \n"
      ],
      "execution_count": null,
      "outputs": [
        {
          "output_type": "stream",
          "text": [
            "Sum of Even nos :  12 Sum of Odd nos :  9\n"
          ],
          "name": "stdout"
        }
      ]
    },
    {
      "cell_type": "markdown",
      "metadata": {
        "id": "Vy5VFxWoCRZw"
      },
      "source": [
        "<hr>\n",
        "\n",
        "#  <h1><u><center><b> GROUP-3 (G-3) : </b></center></u></h1>\n",
        "\n",
        "\n",
        "<hr>"
      ]
    },
    {
      "cell_type": "markdown",
      "metadata": {
        "id": "m8FiDRacCZWI"
      },
      "source": [
        "<pre>1.) WAP to find the sum of the geometric series given: S = a+ar+ar<sup>2</sup>+ar<sup>3</sup>+ar<sup>4</sup>+….ar<sup>n</sup>.\n",
        "Here : a,r and n are inputted by the user.</pre>"
      ]
    },
    {
      "cell_type": "code",
      "metadata": {
        "id": "RgO_o6bBDHCf",
        "outputId": "84a706e5-9fe6-43ff-f1c9-2e7c63bde471",
        "colab": {
          "base_uri": "https://localhost:8080/",
          "height": 205
        }
      },
      "source": [
        "#Solved by :\n",
        "\n",
        "#Code/Answers below :\n",
        "numbers = [1, 3, 5, 7, 10]\n",
        "\n",
        "\n",
        "print(reduce(lambda x, y: x*y, numbers)**(1.0/len(numbers)))"
      ],
      "execution_count": null,
      "outputs": [
        {
          "output_type": "error",
          "ename": "NameError",
          "evalue": "ignored",
          "traceback": [
            "\u001b[0;31m---------------------------------------------------------------------------\u001b[0m",
            "\u001b[0;31mNameError\u001b[0m                                 Traceback (most recent call last)",
            "\u001b[0;32m<ipython-input-2-d42d0b3c12b7>\u001b[0m in \u001b[0;36m<module>\u001b[0;34m()\u001b[0m\n\u001b[1;32m      5\u001b[0m \u001b[0;34m\u001b[0m\u001b[0m\n\u001b[1;32m      6\u001b[0m \u001b[0;34m\u001b[0m\u001b[0m\n\u001b[0;32m----> 7\u001b[0;31m \u001b[0mprint\u001b[0m\u001b[0;34m(\u001b[0m\u001b[0mreduce\u001b[0m\u001b[0;34m(\u001b[0m\u001b[0;32mlambda\u001b[0m \u001b[0mx\u001b[0m\u001b[0;34m,\u001b[0m \u001b[0my\u001b[0m\u001b[0;34m:\u001b[0m \u001b[0mx\u001b[0m\u001b[0;34m*\u001b[0m\u001b[0my\u001b[0m\u001b[0;34m,\u001b[0m \u001b[0mnumbers\u001b[0m\u001b[0;34m)\u001b[0m\u001b[0;34m**\u001b[0m\u001b[0;34m(\u001b[0m\u001b[0;36m1.0\u001b[0m\u001b[0;34m/\u001b[0m\u001b[0mlen\u001b[0m\u001b[0;34m(\u001b[0m\u001b[0mnumbers\u001b[0m\u001b[0;34m)\u001b[0m\u001b[0;34m)\u001b[0m\u001b[0;34m)\u001b[0m\u001b[0;34m\u001b[0m\u001b[0;34m\u001b[0m\u001b[0m\n\u001b[0m",
            "\u001b[0;31mNameError\u001b[0m: name 'reduce' is not defined"
          ]
        }
      ]
    },
    {
      "cell_type": "code",
      "metadata": {
        "id": "k6lXyEEgtGvZ",
        "outputId": "0dce2edb-7c49-4497-b48a-ff3b5d865287",
        "colab": {
          "base_uri": "https://localhost:8080/",
          "height": 89
        }
      },
      "source": [
        "#Alternative suggested by: Taiba Naz\n",
        "\n",
        "def geo_series():\n",
        "  a=int(input(\"enter a value: \"))\n",
        "  r=int(input(\"enter a value: \"))\n",
        "  n=int(input(\"enter a value: \"))\n",
        "  sum_series=0\n",
        "  for i in range(n+1):\n",
        "   sum_series=sum_series+(a*(r**i))\n",
        "   i=i+1\n",
        "  print(sum_series) \n",
        "geo_series() "
      ],
      "execution_count": null,
      "outputs": [
        {
          "output_type": "stream",
          "text": [
            "enter a value: 2\n",
            "enter a value: 3\n",
            "enter a value: 4\n",
            "242\n"
          ],
          "name": "stdout"
        }
      ]
    },
    {
      "cell_type": "markdown",
      "metadata": {
        "id": "96MD_o3lDI7N"
      },
      "source": [
        "<pre>2.) Convert the following for loop into while loop:<br>\n",
        "                       >>> for k in range (10,20,5):\n",
        "                               print(k)\n",
        "\n",
        "</pre>\n"
      ]
    },
    {
      "cell_type": "code",
      "metadata": {
        "id": "TxYl1LgTDb3R",
        "outputId": "f7a52de3-f23c-4a1f-a7f7-588dd4be70e7",
        "colab": {
          "base_uri": "https://localhost:8080/",
          "height": 53
        }
      },
      "source": [
        "#Solved by :Taiba naz\n",
        "\n",
        "#Code/Answers below :\n",
        "k=10 #initial value\n",
        "while k < 20: #end value\n",
        "  print(k)\n",
        "  k=k+5 #steps"
      ],
      "execution_count": null,
      "outputs": [
        {
          "output_type": "stream",
          "text": [
            "10\n",
            "15\n"
          ],
          "name": "stdout"
        }
      ]
    },
    {
      "cell_type": "markdown",
      "metadata": {
        "id": "80k8umQMDdZ5"
      },
      "source": [
        "<pre>3.) Write a  program to read a number n and compute n+nn+nnn+...+n<sup>n</sup>, where n is inputted by the user.\n",
        "Eg:\n",
        "n = 5\n",
        "output : \n",
        "5 + 5x5 + 5x5x5 + 5x5x5x5 + 5x5x5x5x5\n"
      ]
    },
    {
      "cell_type": "code",
      "metadata": {
        "id": "QlF60jmiEBzq"
      },
      "source": [
        "#Solved by :\n",
        "\n",
        "#Code/Answers below :"
      ],
      "execution_count": null,
      "outputs": []
    },
    {
      "cell_type": "markdown",
      "metadata": {
        "id": "DR06JMawEDC3"
      },
      "source": [
        "<pre>4.) Write a program to print the squares of numbers from 1 till n, where n is inputted by user.\n",
        "\n",
        "Eg : n = 4\n",
        "1, 4, 9, 16\n",
        "</pre>\n"
      ]
    },
    {
      "cell_type": "code",
      "metadata": {
        "id": "Zoys9LUQFVm4",
        "outputId": "b9236916-fa07-43ec-b373-bce7426a76c9",
        "colab": {
          "base_uri": "https://localhost:8080/",
          "height": 52
        }
      },
      "source": [
        "#Solved by :\n",
        "\n",
        "#Code/Answers below :\n",
        "number = int(input(\"Enter the number\")) # for user to input the number\n",
        "for i in range(1, number+1):  # loop to read the numbers from 1 to into number\n",
        "    print(i**2, end=\", \" if i < number else \"\") # to print the sqrt of all the number till input number"
      ],
      "execution_count": null,
      "outputs": [
        {
          "output_type": "stream",
          "text": [
            "Enter the number4\n",
            "1, 4, 9, 16"
          ],
          "name": "stdout"
        }
      ]
    },
    {
      "cell_type": "markdown",
      "metadata": {
        "id": "AIVBbVUUFgu-"
      },
      "source": [
        "<pre>5.) Write a program that uses for loops to print out 40 A’s followed by 50 B’s, all on the same line.</pre>"
      ]
    },
    {
      "cell_type": "code",
      "metadata": {
        "id": "8Tf6qztmGgHE",
        "outputId": "be23a336-7cf5-43e0-929e-d59c200d79d6",
        "colab": {
          "base_uri": "https://localhost:8080/",
          "height": 35
        }
      },
      "source": [
        "#Solved by :\n",
        "\n",
        "#Code/Answers below :\n",
        "for i in range(1):\n",
        "    print('A' * 40, 'B' * 50)"
      ],
      "execution_count": null,
      "outputs": [
        {
          "output_type": "stream",
          "text": [
            "AAAAAAAAAAAAAAAAAAAAAAAAAAAAAAAAAAAAAAAA BBBBBBBBBBBBBBBBBBBBBBBBBBBBBBBBBBBBBBBBBBBBBBBBBB\n"
          ],
          "name": "stdout"
        }
      ]
    },
    {
      "cell_type": "markdown",
      "metadata": {
        "id": "bKS0p4BdGh9F"
      },
      "source": [
        "<pre>6.) Using a while loop, write a program that prints out the integers 2, 5, 8, 11, 14, 17, and 20 in that order,\n",
        "all on the same line.\n",
        "</pre>"
      ]
    },
    {
      "cell_type": "code",
      "metadata": {
        "id": "kCgxPCdPGsmd",
        "outputId": "f96cff5f-4923-4105-96df-0ee2bf4e878c",
        "colab": {
          "base_uri": "https://localhost:8080/",
          "height": 35
        }
      },
      "source": [
        "#Solved by : Madhukeshwar R K\n",
        "\n",
        "#Code/Answers below :\n",
        "count = 2 # initializing count value to 2\n",
        "while (count < 21): # while loop to count values less then 21\n",
        "    print(count, end=\", \" if  count < 20 else \"\") # to print on same line and eliminate the last comma\n",
        "    count = count + 3     # incrementing the value by 3"
      ],
      "execution_count": null,
      "outputs": [
        {
          "output_type": "stream",
          "text": [
            "2, 5, 8, 11, 14, 17, 20"
          ],
          "name": "stdout"
        }
      ]
    },
    {
      "cell_type": "markdown",
      "metadata": {
        "id": "syNPPCHKGt0-"
      },
      "source": [
        "<hr>\n",
        "\n",
        "#  <h1><u><center><b> GROUP-4 (G-4) : </b></center></u></h1>\n",
        "\n",
        "\n",
        "<hr>"
      ]
    },
    {
      "cell_type": "markdown",
      "metadata": {
        "id": "qmCbIJemG0MG"
      },
      "source": [
        "<pre>1.) Write a program that repeatedly asks a user to enter positive integers. The user stops the program by\n",
        "entering a negative.\n",
        "</pre>"
      ]
    },
    {
      "cell_type": "code",
      "metadata": {
        "id": "NU583NitG9sd",
        "outputId": "6759b5ba-b372-4a8b-eea6-ff506ad7a0cb",
        "colab": {
          "base_uri": "https://localhost:8080/",
          "height": 153
        }
      },
      "source": [
        "#Solved by : Anand Limbare\n",
        "\n",
        "#Code/Answers below : \n",
        "while True:\n",
        "    x=input('Enter a positive integer:')\n",
        "    z=\"The program will now stop since you entered a negative\"\n",
        "    y=int(x)\n",
        "    if y < 0:\n",
        "        print(z)\n",
        "        break\n",
        "    else:\n",
        "        print(y)\n",
        "        continue"
      ],
      "execution_count": null,
      "outputs": [
        {
          "output_type": "stream",
          "text": [
            "Enter a positive integer:2\n",
            "2\n",
            "Enter a positive integer:1\n",
            "1\n",
            "Enter a positive integer:0\n",
            "0\n",
            "Enter a positive integer:-1\n",
            "The program will now stop since you entered a negative\n"
          ],
          "name": "stdout"
        }
      ]
    },
    {
      "cell_type": "markdown",
      "metadata": {
        "id": "XkrlmilAG_LG"
      },
      "source": [
        "<pre>2.) Write a program that accepts a value 'n' from the user and uses a for loop to print the output below: (here, n = 5).<br> Do this using both for loop and while loop.\n",
        "\n",
        "1. A\n",
        "2. A\n",
        "3. A\n",
        "4. A\n",
        "5. A\n",
        "</pre>"
      ]
    },
    {
      "cell_type": "code",
      "metadata": {
        "id": "VC3hGraUHj6d",
        "outputId": "5f1fd999-a691-4b4c-c69a-50808a545e20",
        "colab": {
          "base_uri": "https://localhost:8080/",
          "height": 118
        }
      },
      "source": [
        "#Solved by :Jitendra R\n",
        " \n",
        "#Code/Answers below :\n",
        "n = int(input('Please enter the number of times to loop: '))\n",
        "txt = input('Please enter text to repeat: ')\n",
        "print('USING FOR LOOP')\n",
        "for x in range(n):\n",
        "    print(txt,end=\"\")\n",
        "    x+=1\n",
        "print()   \n",
        "print('USING WHILE LOOP')\n",
        "x = 0\n",
        "while x < n:\n",
        "  print(txt,end=\"\")\n",
        "  x+=1"
      ],
      "execution_count": null,
      "outputs": [
        {
          "output_type": "stream",
          "text": [
            "Please enter the number of times to loop: 5\n",
            "Please enter text to repeat: Python\n",
            "USING FOR LOOP\n",
            "PythonPythonPythonPythonPython\n",
            "USING WHILE LOOP\n",
            "PythonPythonPythonPythonPython"
          ],
          "name": "stdout"
        }
      ]
    },
    {
      "cell_type": "markdown",
      "metadata": {
        "id": "DxbjhGeZHld9"
      },
      "source": [
        "<pre>3.) Write a program that prints numbers from 1 to n, where n is inputted by the user, but for every multiple of 2 or 3, it skips that number in the range, 1 to n.\n",
        "\n",
        "Eg : n = 11 #(Here, 11 is inclusive in range 1 to 11)\n",
        "1 5 7 11\n",
        "</pre>"
      ]
    },
    {
      "cell_type": "code",
      "metadata": {
        "id": "IRbSAPdmI72w",
        "outputId": "4c9cb3ec-8873-409c-989c-f23ea6d3b679",
        "colab": {
          "base_uri": "https://localhost:8080/",
          "height": 50
        }
      },
      "source": [
        "#Solved by :Jitendra R\n",
        "\n",
        "#Code/Answers below :\n",
        "n = int(input('Please enter a number: '))\n",
        "for x in range(n+1):\n",
        "    if not(x%2==0) and not(x%3==0):\n",
        "        print(x,end=\" \")\n",
        "x+=1"
      ],
      "execution_count": null,
      "outputs": [
        {
          "output_type": "stream",
          "text": [
            "Please enter a number: 11\n",
            "1 5 7 11 "
          ],
          "name": "stdout"
        }
      ]
    },
    {
      "cell_type": "markdown",
      "metadata": {
        "id": "T-EEuP9wI9sg"
      },
      "source": [
        "<pre>4.) Write a program that uses a loop and an input statement to ask the user to enter 10 numbers. After\n",
        "each number is entered, print out the square of that number.\n",
        "</pre>"
      ]
    },
    {
      "cell_type": "code",
      "metadata": {
        "id": "dUS5NGd0JJFu"
      },
      "source": [
        "#Solved by :\n",
        "\n",
        "#Code/Answers below :"
      ],
      "execution_count": null,
      "outputs": []
    },
    {
      "cell_type": "markdown",
      "metadata": {
        "id": "iZMgGUqyJKlr"
      },
      "source": [
        "<pre>5.) Write a Python program to print alphabet pattern 'E' using loops.\n",
        "\n",
        "Expected Output:\n",
        "\n",
        " *****                                                                  \n",
        " *                                                                      \n",
        " *                                                                      \n",
        " *****                                                                   \n",
        " *                                                                      \n",
        " *                                                                      \n",
        " *****\n",
        " </pre>"
      ]
    },
    {
      "cell_type": "code",
      "metadata": {
        "id": "aDnc3IX0KNxK"
      },
      "source": [
        "#Solved by :\n",
        "\n",
        "#Code/Answers below :"
      ],
      "execution_count": null,
      "outputs": []
    },
    {
      "cell_type": "markdown",
      "metadata": {
        "id": "cKgnute1KPQY"
      },
      "source": [
        "<pre>6.) Write an user-defined function that accepts a string as an argument/parameter and prints it letter by letter<br>after omitting all the vowels in it.\n",
        "\n",
        "Eg : HELLO\n",
        "H\n",
        "L\n",
        "L\n",
        "</pre>"
      ]
    },
    {
      "cell_type": "code",
      "metadata": {
        "id": "R4eLW1YCKnCW",
        "outputId": "60ccf1e1-55f3-41d1-a7a2-e00c93c40267",
        "colab": {
          "base_uri": "https://localhost:8080/",
          "height": 34
        }
      },
      "source": [
        "#Solved by : Suresha K\n",
        "\n",
        "#Code/Answers below :\n",
        "\n",
        "def rem_vowel(string): \n",
        "    vowels = ('a', 'e', 'i', 'o', 'u')  \n",
        "    for x in string.lower(): \n",
        "        if x in vowels: \n",
        "            string = string.replace(x, \"\") \n",
        "              \n",
        "    # Print string without vowels \n",
        "    print(string) \n",
        "  \n",
        "string = \"we are going to reva university\"\n",
        "rem_vowel(string)"
      ],
      "execution_count": null,
      "outputs": [
        {
          "output_type": "stream",
          "text": [
            "w r gng t rv nvrsty\n"
          ],
          "name": "stdout"
        }
      ]
    },
    {
      "cell_type": "markdown",
      "metadata": {
        "id": "AV6c9f_DKw0G"
      },
      "source": [
        "<hr>\n",
        "\n",
        "#  <h1><u><center><b> GROUP-5 (G-5) : </b></center></u></h1>\n",
        "\n",
        "\n",
        "<hr>"
      ]
    },
    {
      "cell_type": "markdown",
      "metadata": {
        "id": "6PvHDBP9K4or"
      },
      "source": [
        "<pre>1.) Write a Python program to check a triangle is equilateral, isosceles or scalene. \n",
        "\n",
        "Note :\n",
        "An equilateral triangle is a triangle in which all three sides are equal.\n",
        "A scalene triangle is a triangle that has three unequal sides.\n",
        "An isosceles triangle is a triangle with (at least) two equal sides.\n",
        "\n",
        "EG :\n",
        "Expected Output:\n",
        "\n",
        "Input lengths of the triangle sides:                                    \n",
        "x: 6                                                                    \n",
        "y: 8                                                                    \n",
        "z: 12                                                                   \n",
        "Scalene triangle  \n",
        "</pre>"
      ]
    },
    {
      "cell_type": "code",
      "metadata": {
        "id": "FUhWkqkMLJGr",
        "outputId": "d31c9e19-2eff-4462-c5f7-961f1ef07d0f",
        "colab": {
          "base_uri": "https://localhost:8080/",
          "height": 86
        }
      },
      "source": [
        "#Solved by : Srikanth\n",
        "\n",
        "#Code/Answers below : \n",
        "\n",
        "def triangle(x,y,z):\n",
        "  if x == y == z:\n",
        "\t  print(\"Equilateral triangle\")\n",
        "  elif x==y or y==z or z==x:\n",
        "\t  print(\"isosceles triangle\")\n",
        "  else:\n",
        "\t  print(\"Scalene triangle\")\n",
        "   \n",
        "x = int(input('enter 1st input '))\n",
        "y = int(input('enter 2st input '))\n",
        "z = int(input('enter 3st input '))\n",
        "\n",
        "triangle(x,y,z)\n"
      ],
      "execution_count": null,
      "outputs": [
        {
          "output_type": "stream",
          "text": [
            "enter 1st input 2\n",
            "enter 2st input 1\n",
            "enter 3st input 3\n",
            "Scalene triangle\n"
          ],
          "name": "stdout"
        }
      ]
    },
    {
      "cell_type": "markdown",
      "metadata": {
        "id": "H3J7rPxkLR_c"
      },
      "source": [
        "<pre>2.) Write a Python program to construct the following pattern, using a nested loop number for value n, inputted by the user. \n",
        "\n",
        "Eg : n = 9\n",
        "\n",
        "1\n",
        "22\n",
        "333\n",
        "4444\n",
        "55555\n",
        "666666\n",
        "7777777\n",
        "88888888\n",
        "999999999\n",
        "</pre>"
      ]
    },
    {
      "cell_type": "code",
      "metadata": {
        "id": "aMYVplxRL-YT",
        "outputId": "ca6bf93a-ebd7-46e0-830d-8772af744614",
        "colab": {
          "base_uri": "https://localhost:8080/"
        }
      },
      "source": [
        "#Solved by : Tonima Paul\n",
        "\n",
        "#Code/Answers below :\n",
        "\n",
        "def number_pattern(n):\n",
        "  i=1\n",
        "  while(i<=n):\n",
        "    print(str(i)*i)\n",
        "    i = i + 1\n",
        "\n",
        "n = int(input('Enter input: '))\n",
        "number_pattern(n)"
      ],
      "execution_count": null,
      "outputs": [
        {
          "output_type": "stream",
          "text": [
            "Enter input: 15\n",
            "1\n",
            "22\n",
            "333\n",
            "4444\n",
            "55555\n",
            "666666\n",
            "7777777\n",
            "88888888\n",
            "999999999\n",
            "10101010101010101010\n",
            "1111111111111111111111\n",
            "121212121212121212121212\n",
            "13131313131313131313131313\n",
            "1414141414141414141414141414\n",
            "151515151515151515151515151515\n"
          ],
          "name": "stdout"
        }
      ]
    },
    {
      "cell_type": "markdown",
      "metadata": {
        "id": "Oscln67pLo3z"
      },
      "source": [
        "<pre>3.) Write a series from 1 to n, provided for every multiple of 3 it prints \"hello\" and every multiple of 5 it prints \"world\"</br> and in case it is a multiple of both 3 and 5 it prints \"hello world\" in the same line.\n",
        "</pre>"
      ]
    },
    {
      "cell_type": "code",
      "metadata": {
        "id": "CFnSdWfKL8kr",
        "outputId": "ea1044a5-c9d2-41e9-f901-58005e61fe24",
        "colab": {
          "base_uri": "https://localhost:8080/"
        }
      },
      "source": [
        "#Solved by : Tonima Paul\n",
        "\n",
        "#Code/Answers below :\n",
        "\n",
        "def number_pattern2(n):\n",
        "  i=1\n",
        "  while(i<=n):\n",
        "    if(i%15==0):\n",
        "      print('hello world')\n",
        "    elif(i%5==0):\n",
        "      print('world')\n",
        "    elif(i%3==0):\n",
        "      print('hello')\n",
        "    else:\n",
        "      print(str(i))\n",
        "    i = i + 1\n",
        "\n",
        "n = int(input('Enter input: '))\n",
        "number_pattern2(n)"
      ],
      "execution_count": null,
      "outputs": [
        {
          "output_type": "stream",
          "text": [
            "Enter input: 45\n",
            "1\n",
            "2\n",
            "hello\n",
            "4\n",
            "world\n",
            "hello\n",
            "7\n",
            "8\n",
            "hello\n",
            "world\n",
            "11\n",
            "hello\n",
            "13\n",
            "14\n",
            "hello world\n",
            "16\n",
            "17\n",
            "hello\n",
            "19\n",
            "world\n",
            "hello\n",
            "22\n",
            "23\n",
            "hello\n",
            "world\n",
            "26\n",
            "hello\n",
            "28\n",
            "29\n",
            "hello world\n",
            "31\n",
            "32\n",
            "hello\n",
            "34\n",
            "world\n",
            "hello\n",
            "37\n",
            "38\n",
            "hello\n",
            "world\n",
            "41\n",
            "hello\n",
            "43\n",
            "44\n",
            "hello world\n"
          ],
          "name": "stdout"
        }
      ]
    },
    {
      "cell_type": "markdown",
      "metadata": {
        "id": "ukWXvyFRL_Zi"
      },
      "source": [
        "<pre>4.) Write a program that asks the user to enter a size and then draws the letter C like the one below. It’s\n",
        "width and height should be equal and the size specified by the user. \n",
        "\n",
        "EG : height = 5, width = 6\n",
        "******\n",
        "*\n",
        "*\n",
        "*\n",
        "******\n",
        "</pre>"
      ]
    },
    {
      "cell_type": "code",
      "metadata": {
        "id": "RD70WvSdMWbs"
      },
      "source": [
        "#Solved by :\n",
        "\n",
        "#Code/Answers below :"
      ],
      "execution_count": null,
      "outputs": []
    },
    {
      "cell_type": "markdown",
      "metadata": {
        "id": "TUjtz0OBMXhb"
      },
      "source": [
        "<pre>5.) Convert the following for loop to while loop.\n",
        "\n",
        ">>> for i in range(-100,-49,2):\n",
        "...   print(i)\n",
        "\n",
        "</pre>"
      ]
    },
    {
      "cell_type": "code",
      "metadata": {
        "id": "CFCEeIsNMuRS"
      },
      "source": [
        "#Solved by :\n",
        "\n",
        "#Code/Answers below :"
      ],
      "execution_count": null,
      "outputs": []
    },
    {
      "cell_type": "markdown",
      "metadata": {
        "id": "LmkYTHG5Mv9k"
      },
      "source": [
        "<pre>6.) Print the square of odd numbers from 1 to n, where n is inputted by the user and print the even numbers as it is.\n",
        "\n",
        "EG : n = 6\n",
        "1 2 9 4 25 6"
      ]
    },
    {
      "cell_type": "code",
      "metadata": {
        "id": "x5lmZQGHNDGn"
      },
      "source": [
        "#Solved by :\n",
        "\n",
        "#Code/Answers below :"
      ],
      "execution_count": null,
      "outputs": []
    },
    {
      "cell_type": "markdown",
      "metadata": {
        "id": "qWmSTXMHNEbe"
      },
      "source": [
        "<hr>\n",
        "\n",
        "#  <h1><u><center><b> GROUP-6 (G-6) : </b></center></u></h1>\n",
        "\n",
        "\n",
        "<hr>"
      ]
    },
    {
      "cell_type": "markdown",
      "metadata": {
        "id": "RuhQD2aKNSW6"
      },
      "source": [
        "<pre>1.) Print all multiples of 13 that are smaller than 100. Use the range function in the\n",
        "following manner: range (start, end, step) where \"start\" is the starting value of the\n",
        "counter, \"end\" is the end value and \"step\" is the amount by which the counter is\n",
        "increased each time.\n",
        "</pre>"
      ]
    },
    {
      "cell_type": "code",
      "metadata": {
        "id": "vfZGK2MxN7Yy"
      },
      "source": [
        "#Solved by :\n",
        "\n",
        "#Code/Answers below :"
      ],
      "execution_count": null,
      "outputs": []
    },
    {
      "cell_type": "markdown",
      "metadata": {
        "id": "5UFuDTJ3N9Mz"
      },
      "source": [
        "<pre>2.) Write a function to generate and print factorial numbers up to n (provided by user).\n",
        "Without using the math and cmath functions.\n",
        "</pre>"
      ]
    },
    {
      "cell_type": "code",
      "metadata": {
        "id": "_GEkTgaoOKaZ"
      },
      "source": [
        "#Solved by :\n",
        "\n",
        "#Code/Answers below :"
      ],
      "execution_count": null,
      "outputs": []
    },
    {
      "cell_type": "markdown",
      "metadata": {
        "id": "AfcRAO8XOGKK"
      },
      "source": [
        "<pre>3.) Using random module, Simulate tossing a coin N times. Hint: you can use 0 (zero) for head and 1 for tails. \n",
        "Print the result using while loop until N is achieved. Here, N is inputted by the user.\n",
        "\n",
        "Eg : N = 5  (Here, 1 and 0 is randomly chosen by random module)\n",
        "1\n",
        "0\n",
        "1\n",
        "1\n",
        "0"
      ]
    },
    {
      "cell_type": "code",
      "metadata": {
        "id": "oP_5GngCOlrN"
      },
      "source": [
        "#Solved by :\n",
        "\n",
        "#Code/Answers below :"
      ],
      "execution_count": null,
      "outputs": []
    },
    {
      "cell_type": "markdown",
      "metadata": {
        "id": "KB84sk3BOnU5"
      },
      "source": [
        "<pre>4.) Write a program using while loop that asks the user for a number, and prints a\n",
        "countdown from that number to zero.\n",
        "\n",
        "</pre>"
      ]
    },
    {
      "cell_type": "code",
      "metadata": {
        "id": "7xHR4r6aOyCp"
      },
      "source": [
        "#Solved by :\n",
        "\n",
        "#Code/Answers below :"
      ],
      "execution_count": null,
      "outputs": []
    },
    {
      "cell_type": "markdown",
      "metadata": {
        "id": "Br7Q4WTCOz_Y"
      },
      "source": [
        "<pre>5.) Write a Python program to print alphabet pattern 'L'.\n",
        "Where, h is the height and w is the width of the L. \n",
        "\n",
        "EG: here, h = 5, w = 6\n",
        " *                                                                      \n",
        " *                                                                      \n",
        " *                                                                      \n",
        " *                                                                      \n",
        " ******\n",
        "\n",
        " </pre>"
      ]
    },
    {
      "cell_type": "code",
      "metadata": {
        "id": "m3e8CIOSPU_D"
      },
      "source": [
        "#Solved by :\n",
        "\n",
        "#Code/Answers below :"
      ],
      "execution_count": null,
      "outputs": []
    },
    {
      "cell_type": "markdown",
      "metadata": {
        "id": "bUPRdjc3PWe6"
      },
      "source": [
        "<pre>6.) Write a program that prints a series from 1 to N in the same line, where N is inputted by the user and displays it by omitting all the numbers that\n",
        "have 'zero' in it.\n",
        "\n",
        "Eg : n = 21 (notice how 10 and 20 where skipped)\n",
        "1 2 3 4 5 6 7 8 9 11 12 13 14 15 16 17 18 19 21\n",
        "</pre>"
      ]
    },
    {
      "cell_type": "code",
      "metadata": {
        "id": "d4t1EzlVP96q"
      },
      "source": [
        "#Solved by :\n",
        "\n",
        "#Code/Answers below :"
      ],
      "execution_count": null,
      "outputs": []
    },
    {
      "cell_type": "markdown",
      "metadata": {
        "id": "m8L4OZJ7eRTa"
      },
      "source": [
        "<hr>\n",
        "\n",
        "#  <h1><u><center><b> GROUP-7 (G-7) : </b></center></u></h1>\n",
        "\n",
        "\n",
        "<hr>"
      ]
    },
    {
      "cell_type": "markdown",
      "metadata": {
        "id": "TAlO-EWQeg-5"
      },
      "source": [
        "<pre>1.) Write a program to print a series of numbers from 1 to N, after omitting numbers that are multiple of 2 and 5.\n",
        "</pre>"
      ]
    },
    {
      "cell_type": "code",
      "metadata": {
        "id": "CAnqjNlqeWU6"
      },
      "source": [
        "#Solved by :\n",
        "\n",
        "#Code/Answers below :"
      ],
      "execution_count": null,
      "outputs": []
    },
    {
      "cell_type": "markdown",
      "metadata": {
        "id": "u10t59ege34p"
      },
      "source": [
        "<pre>2.) Write a program that converts following for loop to while loop:\n",
        "      \n",
        "for i in range(-10,-52,-2):\n",
        "...   print(i)\n",
        "\n",
        "</pre>"
      ]
    },
    {
      "cell_type": "code",
      "metadata": {
        "id": "sEekThT_fH3E"
      },
      "source": [
        "#Solved by : Guru AI01\n",
        "\n",
        "#Code/Answers below :\n",
        "\n",
        "# initialize n with initial value -10\n",
        "n=-10 \n",
        "\n",
        "# check the value of n should be greater than -52 for each iteration and print n value \n",
        "while(n > -52):\n",
        "    print(n)\n",
        "\n",
        "    # decrement n value with 2 step\n",
        "    n-=2;\n",
        "    \n",
        "print('End of while loop')    "
      ],
      "execution_count": null,
      "outputs": []
    },
    {
      "cell_type": "markdown",
      "metadata": {
        "id": "uLQmwSSjfIXr"
      },
      "source": [
        "<pre>3.) Write a program to get the sum of all the even numbers and odd numbers seperately from 1 to n, where n is inputted by the user.\n",
        "\n",
        "Eg : n = 6\n",
        "Series : 1 2 3 4 5 6\n",
        "sum_even = 12    #2 + 4 + 6 = 12\n",
        "sum_odd = 9      #1 + 3+ 5 = 9\n",
        "</pre>"
      ]
    },
    {
      "cell_type": "code",
      "metadata": {
        "id": "0DcZZxanftZA"
      },
      "source": [
        "#Solved by :\n",
        "\n",
        "#Code/Answers below :"
      ],
      "execution_count": null,
      "outputs": []
    },
    {
      "cell_type": "markdown",
      "metadata": {
        "id": "K4TZ5pp6fttl"
      },
      "source": [
        "<pre>4.) Write a Python program to print alphabet pattern 'I', for height and weight is the same but inputted by the user (i.e, take height from the user and assign the same width as height). Make sure that height or width is an odd number, if it is not an odd number take the next odd number from the number inputted.\n",
        "\n",
        "EG : h = 6  #since, h is even, we take the next odd no. which is 7\n",
        "# therefore, h = 7, w = 7\n",
        "*******                                                                  \n",
        "   *                                                                    \n",
        "   *                                                                    \n",
        "   *                                                                    \n",
        "   *                                                                    \n",
        "   *                                                                    \n",
        "   *\n",
        "*******  \n",
        "</pre>"
      ]
    },
    {
      "cell_type": "code",
      "metadata": {
        "id": "RB03SKp8g1WF",
        "outputId": "d9fbaf92-36cc-402b-b562-b8b64822db53",
        "colab": {
          "base_uri": "https://localhost:8080/",
          "height": 218
        }
      },
      "source": [
        "#Solved by :Rajanna AI01\n",
        "\n",
        "#Code/Answers below :\n",
        "height = int(input(\"Enter number of height = Column \")) # Input Height and Width\n",
        "\n",
        "if height%2 == 0:     # Check if it's even\n",
        "    height = height +1   # Added + 1 to make it next Odd number\n",
        "print(\"*\"*height)\n",
        "\n",
        "for i in range(height):\n",
        "    print(\" \"*int(height/2) + \"*\")\n",
        "\n",
        "print(\"*\"*height)"
      ],
      "execution_count": null,
      "outputs": [
        {
          "output_type": "stream",
          "text": [
            "Enter number of height = Column 8\n",
            "*********\n",
            "    *\n",
            "    *\n",
            "    *\n",
            "    *\n",
            "    *\n",
            "    *\n",
            "    *\n",
            "    *\n",
            "    *\n",
            "*********\n"
          ],
          "name": "stdout"
        }
      ]
    },
    {
      "cell_type": "code",
      "metadata": {
        "id": "aVl1GwTBj1oF",
        "outputId": "a06160cf-1f8c-4862-d12d-310ae3c0ae51",
        "colab": {
          "base_uri": "https://localhost:8080/"
        }
      },
      "source": [
        "#Alternative suggested by : Saket\n",
        "\n",
        "#Code below : \n",
        "height = int(input(\"Enter number of height = Column \")) # Input Height and Width\n",
        "\n",
        "if height%2 == 0:     # Check if it's even\n",
        "    height = height +1   # Added + 1 to make it next Odd number\n",
        "\n",
        "for i in range(height):\n",
        "    if i==0 or i==height-1:\n",
        "      print(\"*\"*height)\n",
        "    else:\n",
        "      print(\" \"*int(height/2) + \"*\")\n"
      ],
      "execution_count": null,
      "outputs": [
        {
          "output_type": "stream",
          "text": [
            "Enter number of height = Column 8\n",
            "*********\n",
            "    *\n",
            "    *\n",
            "    *\n",
            "    *\n",
            "    *\n",
            "    *\n",
            "    *\n",
            "*********\n"
          ],
          "name": "stdout"
        }
      ]
    }
  ]
}