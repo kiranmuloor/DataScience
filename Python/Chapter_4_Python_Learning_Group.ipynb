{
  "nbformat": 4,
  "nbformat_minor": 0,
  "metadata": {
    "colab": {
      "name": "Chapter 4 : Python Learning Group.ipynb",
      "provenance": [],
      "collapsed_sections": [],
      "toc_visible": true,
      "include_colab_link": true
    },
    "kernelspec": {
      "name": "python3",
      "display_name": "Python 3"
    }
  },
  "cells": [
    {
      "cell_type": "markdown",
      "metadata": {
        "id": "view-in-github",
        "colab_type": "text"
      },
      "source": [
        "<a href=\"https://colab.research.google.com/github/kiranmuloor/DataScience/blob/master/Python/Chapter_4_Python_Learning_Group.ipynb\" target=\"_parent\"><img src=\"https://colab.research.google.com/assets/colab-badge.svg\" alt=\"Open In Colab\"/></a>"
      ]
    },
    {
      "cell_type": "markdown",
      "metadata": {
        "id": "cwpfxilPwYhb"
      },
      "source": [
        "\n",
        "\n",
        "# <h1><b><center>&nbsp;&nbsp;&nbsp;&nbsp;&nbsp;&nbsp;&nbsp;&nbsp;&nbsp;&nbsp;&nbsp;&nbsp;<u>WEEKLY ASSESSMENTS for Python Learning Group</u></center></b></h1><br>\n"
      ]
    },
    {
      "cell_type": "markdown",
      "metadata": {
        "id": "Ics3lbEkwaYO"
      },
      "source": [
        "<hr>\n",
        "\n",
        "## <h2><center><b>CHAPTER 4</b></center></h2>\n",
        "<center>  Page 178 to 189</center><br>\n",
        "<hr>\n",
        "<b>NOTE : </b> \n",
        "\n",
        "*  Please use \"import string\" for functions like string.ascii_lowercase, string.ascii_uppercase, string.printable, etc.\n",
        "* Please don't forget to use \"import re\" for regex module functions.\n",
        "* You can use \" \" or empty string for string concatenation to create new strings. \n",
        "* All counting for even or odd indices start from 0th (zero) index which is included in counting. 0th index is considered as an even index.<br>\n",
        "<b>EG :</b> In \"Hello\" the even indices are 0,2,4 which are letters H,l,o while odd indices are 1,3 which are letters e,l for \"Hello\".\n",
        "<hr>\n",
        "\n"
      ]
    },
    {
      "cell_type": "markdown",
      "metadata": {
        "id": "N9-bam3rnCDd"
      },
      "source": [
        "<hr>\n",
        "\n",
        "#  <h1><u><center><b> GROUP-1 (G-1) : </b></center></u></h1>\n",
        "\n",
        "\n",
        "<hr>"
      ]
    },
    {
      "cell_type": "markdown",
      "metadata": {
        "id": "_CNFIjjYnI2C"
      },
      "source": [
        "<pre>1.) Count the number of consonants, vowels, digits, spaces and special characters/symbols in an inputted string.\n",
        "\n",
        "Eg: Input String : \"hello world 123!\"\n",
        "Output :\n",
        "consonants : 7\n",
        "vowels : 3\n",
        "digits : 3\n",
        "spaces : 2\n",
        "symbols : 1 #exclaimation mark\n",
        "</pre>"
      ]
    },
    {
      "cell_type": "code",
      "metadata": {
        "id": "wh4xuUU1oITO",
        "outputId": "ea483c84-e1c1-408a-a428-33c3432bf848",
        "colab": {
          "base_uri": "https://localhost:8080/",
          "height": 105
        }
      },
      "source": [
        "#Solved by : Pawan Rama Mali (AI01)\n",
        "\n",
        "#Code/Answers below :\n",
        "\n",
        "\n",
        "def countCharacterType(str): \n",
        "  \n",
        "    # Declare the variable vowels,  \n",
        "    # consonant, digit and special \n",
        "    # characters \n",
        "    vowels = 0\n",
        "    consonant = 0\n",
        "    symbols = 0\n",
        "    digit = 0\n",
        "    spaces = 0 \n",
        "  \n",
        "    # str.length() function to count  \n",
        "    # number of character in given string. \n",
        "    for i in range(0, len(str)):  \n",
        "          \n",
        "        ch = str[i]  \n",
        "        if (ch == ' '):\n",
        "          spaces +=1\n",
        "        elif ( (ch >= 'a' and ch <= 'z') or \n",
        "             (ch >= 'A' and ch <= 'Z') ):  \n",
        "  \n",
        "            # To handle upper case letters \n",
        "            ch = ch.lower() \n",
        "\n",
        "            if (ch == 'a' or ch == 'e' or ch == 'i' \n",
        "                        or ch == 'o' or ch == 'u'): \n",
        "                vowels += 1\n",
        "            else: \n",
        "                consonant += 1\n",
        "          \n",
        "        elif (ch >= '0' and ch <= '9'): \n",
        "            digit += 1\n",
        "        else: \n",
        "            symbols += 1\n",
        "    \n",
        "    print(\"Consonant:\", consonant)      \n",
        "    print(\"Vowels:\", vowels) \n",
        "    print(\"Spaces:\", spaces) \n",
        "    print(\"Digit:\", digit)  \n",
        "    print(\"Special Character:\", symbols)  \n",
        "  \n",
        "  \n",
        "# Driver function. \n",
        "str = \"hello world 123!\"\n",
        "countCharacterType(str)  \n"
      ],
      "execution_count": null,
      "outputs": [
        {
          "output_type": "stream",
          "text": [
            "Consonant: 7\n",
            "Vowels: 3\n",
            "Spaces: 2\n",
            "Digit: 3\n",
            "Special Character: 1\n"
          ],
          "name": "stdout"
        }
      ]
    },
    {
      "cell_type": "code",
      "metadata": {
        "id": "-5sdz86J2jbC",
        "outputId": "6719dd38-e93f-41f4-b050-a0580c1f3b61",
        "colab": {
          "base_uri": "https://localhost:8080/",
          "height": 617
        }
      },
      "source": [
        "#Alternative Solution by : Saket\n",
        "\n",
        "#Code below :\n",
        "inp = input(\"Enter your string : \")\n",
        "\n",
        "vowels = consonants = digits = spaces = symbols = 0\n",
        "\n",
        "for i in inp:\n",
        "  if i in \"aeiou\":\n",
        "    vowels+=1\n",
        "  elif i.isalpha():\n",
        "    consonants+=1\n",
        "  elif i.isdigit():\n",
        "    digits+=1\n",
        "  elif i.isspaces():\n",
        "    spaces+=1\n",
        "  else:\n",
        "    symbols+=1\n",
        "\n",
        "print(\"\\nVowels : {}\\nConsonants : {}\\nDigits : {}\\n\")     "
      ],
      "execution_count": null,
      "outputs": [
        {
          "output_type": "error",
          "ename": "KeyboardInterrupt",
          "evalue": "ignored",
          "traceback": [
            "\u001b[0;31m---------------------------------------------------------------------------\u001b[0m",
            "\u001b[0;31mKeyboardInterrupt\u001b[0m                         Traceback (most recent call last)",
            "\u001b[0;32m/usr/local/lib/python3.6/dist-packages/ipykernel/kernelbase.py\u001b[0m in \u001b[0;36m_input_request\u001b[0;34m(self, prompt, ident, parent, password)\u001b[0m\n\u001b[1;32m    728\u001b[0m             \u001b[0;32mtry\u001b[0m\u001b[0;34m:\u001b[0m\u001b[0;34m\u001b[0m\u001b[0;34m\u001b[0m\u001b[0m\n\u001b[0;32m--> 729\u001b[0;31m                 \u001b[0mident\u001b[0m\u001b[0;34m,\u001b[0m \u001b[0mreply\u001b[0m \u001b[0;34m=\u001b[0m \u001b[0mself\u001b[0m\u001b[0;34m.\u001b[0m\u001b[0msession\u001b[0m\u001b[0;34m.\u001b[0m\u001b[0mrecv\u001b[0m\u001b[0;34m(\u001b[0m\u001b[0mself\u001b[0m\u001b[0;34m.\u001b[0m\u001b[0mstdin_socket\u001b[0m\u001b[0;34m,\u001b[0m \u001b[0;36m0\u001b[0m\u001b[0;34m)\u001b[0m\u001b[0;34m\u001b[0m\u001b[0;34m\u001b[0m\u001b[0m\n\u001b[0m\u001b[1;32m    730\u001b[0m             \u001b[0;32mexcept\u001b[0m \u001b[0mException\u001b[0m\u001b[0;34m:\u001b[0m\u001b[0;34m\u001b[0m\u001b[0;34m\u001b[0m\u001b[0m\n",
            "\u001b[0;32m/usr/local/lib/python3.6/dist-packages/jupyter_client/session.py\u001b[0m in \u001b[0;36mrecv\u001b[0;34m(self, socket, mode, content, copy)\u001b[0m\n\u001b[1;32m    802\u001b[0m         \u001b[0;32mtry\u001b[0m\u001b[0;34m:\u001b[0m\u001b[0;34m\u001b[0m\u001b[0;34m\u001b[0m\u001b[0m\n\u001b[0;32m--> 803\u001b[0;31m             \u001b[0mmsg_list\u001b[0m \u001b[0;34m=\u001b[0m \u001b[0msocket\u001b[0m\u001b[0;34m.\u001b[0m\u001b[0mrecv_multipart\u001b[0m\u001b[0;34m(\u001b[0m\u001b[0mmode\u001b[0m\u001b[0;34m,\u001b[0m \u001b[0mcopy\u001b[0m\u001b[0;34m=\u001b[0m\u001b[0mcopy\u001b[0m\u001b[0;34m)\u001b[0m\u001b[0;34m\u001b[0m\u001b[0;34m\u001b[0m\u001b[0m\n\u001b[0m\u001b[1;32m    804\u001b[0m         \u001b[0;32mexcept\u001b[0m \u001b[0mzmq\u001b[0m\u001b[0;34m.\u001b[0m\u001b[0mZMQError\u001b[0m \u001b[0;32mas\u001b[0m \u001b[0me\u001b[0m\u001b[0;34m:\u001b[0m\u001b[0;34m\u001b[0m\u001b[0;34m\u001b[0m\u001b[0m\n",
            "\u001b[0;32m/usr/local/lib/python3.6/dist-packages/zmq/sugar/socket.py\u001b[0m in \u001b[0;36mrecv_multipart\u001b[0;34m(self, flags, copy, track)\u001b[0m\n\u001b[1;32m    490\u001b[0m         \"\"\"\n\u001b[0;32m--> 491\u001b[0;31m         \u001b[0mparts\u001b[0m \u001b[0;34m=\u001b[0m \u001b[0;34m[\u001b[0m\u001b[0mself\u001b[0m\u001b[0;34m.\u001b[0m\u001b[0mrecv\u001b[0m\u001b[0;34m(\u001b[0m\u001b[0mflags\u001b[0m\u001b[0;34m,\u001b[0m \u001b[0mcopy\u001b[0m\u001b[0;34m=\u001b[0m\u001b[0mcopy\u001b[0m\u001b[0;34m,\u001b[0m \u001b[0mtrack\u001b[0m\u001b[0;34m=\u001b[0m\u001b[0mtrack\u001b[0m\u001b[0;34m)\u001b[0m\u001b[0;34m]\u001b[0m\u001b[0;34m\u001b[0m\u001b[0;34m\u001b[0m\u001b[0m\n\u001b[0m\u001b[1;32m    492\u001b[0m         \u001b[0;31m# have first part already, only loop while more to receive\u001b[0m\u001b[0;34m\u001b[0m\u001b[0;34m\u001b[0m\u001b[0;34m\u001b[0m\u001b[0m\n",
            "\u001b[0;32mzmq/backend/cython/socket.pyx\u001b[0m in \u001b[0;36mzmq.backend.cython.socket.Socket.recv\u001b[0;34m()\u001b[0m\n",
            "\u001b[0;32mzmq/backend/cython/socket.pyx\u001b[0m in \u001b[0;36mzmq.backend.cython.socket.Socket.recv\u001b[0;34m()\u001b[0m\n",
            "\u001b[0;32mzmq/backend/cython/socket.pyx\u001b[0m in \u001b[0;36mzmq.backend.cython.socket._recv_copy\u001b[0;34m()\u001b[0m\n",
            "\u001b[0;32m/usr/local/lib/python3.6/dist-packages/zmq/backend/cython/checkrc.pxd\u001b[0m in \u001b[0;36mzmq.backend.cython.checkrc._check_rc\u001b[0;34m()\u001b[0m\n",
            "\u001b[0;31mKeyboardInterrupt\u001b[0m: ",
            "\nDuring handling of the above exception, another exception occurred:\n",
            "\u001b[0;31mKeyboardInterrupt\u001b[0m                         Traceback (most recent call last)",
            "\u001b[0;32m<ipython-input-3-a928edb30d37>\u001b[0m in \u001b[0;36m<module>\u001b[0;34m()\u001b[0m\n\u001b[1;32m      2\u001b[0m \u001b[0;34m\u001b[0m\u001b[0m\n\u001b[1;32m      3\u001b[0m \u001b[0;31m#Code below :\u001b[0m\u001b[0;34m\u001b[0m\u001b[0;34m\u001b[0m\u001b[0;34m\u001b[0m\u001b[0m\n\u001b[0;32m----> 4\u001b[0;31m \u001b[0minp\u001b[0m \u001b[0;34m=\u001b[0m \u001b[0minput\u001b[0m\u001b[0;34m(\u001b[0m\u001b[0;34m\"Enter your string : \"\u001b[0m\u001b[0;34m)\u001b[0m\u001b[0;34m\u001b[0m\u001b[0;34m\u001b[0m\u001b[0m\n\u001b[0m\u001b[1;32m      5\u001b[0m \u001b[0;34m\u001b[0m\u001b[0m\n\u001b[1;32m      6\u001b[0m \u001b[0mvowels\u001b[0m \u001b[0;34m=\u001b[0m \u001b[0mconsonants\u001b[0m \u001b[0;34m=\u001b[0m \u001b[0mdigits\u001b[0m \u001b[0;34m=\u001b[0m \u001b[0mspaces\u001b[0m \u001b[0;34m=\u001b[0m \u001b[0msymbols\u001b[0m \u001b[0;34m=\u001b[0m \u001b[0;36m0\u001b[0m\u001b[0;34m\u001b[0m\u001b[0;34m\u001b[0m\u001b[0m\n",
            "\u001b[0;32m/usr/local/lib/python3.6/dist-packages/ipykernel/kernelbase.py\u001b[0m in \u001b[0;36mraw_input\u001b[0;34m(self, prompt)\u001b[0m\n\u001b[1;32m    702\u001b[0m             \u001b[0mself\u001b[0m\u001b[0;34m.\u001b[0m\u001b[0m_parent_ident\u001b[0m\u001b[0;34m,\u001b[0m\u001b[0;34m\u001b[0m\u001b[0;34m\u001b[0m\u001b[0m\n\u001b[1;32m    703\u001b[0m             \u001b[0mself\u001b[0m\u001b[0;34m.\u001b[0m\u001b[0m_parent_header\u001b[0m\u001b[0;34m,\u001b[0m\u001b[0;34m\u001b[0m\u001b[0;34m\u001b[0m\u001b[0m\n\u001b[0;32m--> 704\u001b[0;31m             \u001b[0mpassword\u001b[0m\u001b[0;34m=\u001b[0m\u001b[0;32mFalse\u001b[0m\u001b[0;34m,\u001b[0m\u001b[0;34m\u001b[0m\u001b[0;34m\u001b[0m\u001b[0m\n\u001b[0m\u001b[1;32m    705\u001b[0m         )\n\u001b[1;32m    706\u001b[0m \u001b[0;34m\u001b[0m\u001b[0m\n",
            "\u001b[0;32m/usr/local/lib/python3.6/dist-packages/ipykernel/kernelbase.py\u001b[0m in \u001b[0;36m_input_request\u001b[0;34m(self, prompt, ident, parent, password)\u001b[0m\n\u001b[1;32m    732\u001b[0m             \u001b[0;32mexcept\u001b[0m \u001b[0mKeyboardInterrupt\u001b[0m\u001b[0;34m:\u001b[0m\u001b[0;34m\u001b[0m\u001b[0;34m\u001b[0m\u001b[0m\n\u001b[1;32m    733\u001b[0m                 \u001b[0;31m# re-raise KeyboardInterrupt, to truncate traceback\u001b[0m\u001b[0;34m\u001b[0m\u001b[0;34m\u001b[0m\u001b[0;34m\u001b[0m\u001b[0m\n\u001b[0;32m--> 734\u001b[0;31m                 \u001b[0;32mraise\u001b[0m \u001b[0mKeyboardInterrupt\u001b[0m\u001b[0;34m\u001b[0m\u001b[0;34m\u001b[0m\u001b[0m\n\u001b[0m\u001b[1;32m    735\u001b[0m             \u001b[0;32melse\u001b[0m\u001b[0;34m:\u001b[0m\u001b[0;34m\u001b[0m\u001b[0;34m\u001b[0m\u001b[0m\n\u001b[1;32m    736\u001b[0m                 \u001b[0;32mbreak\u001b[0m\u001b[0;34m\u001b[0m\u001b[0;34m\u001b[0m\u001b[0m\n",
            "\u001b[0;31mKeyboardInterrupt\u001b[0m: "
          ]
        }
      ]
    },
    {
      "cell_type": "markdown",
      "metadata": {
        "id": "K75RTd7JoI1r"
      },
      "source": [
        "<pre>2.) Convert all the even indices of a string inputted by the user to uppercase, if they are lowercase.<br> If they are already uppercase then convert them to lowercase.<br> Let the odd indices remain the same.\n",
        "</pre>"
      ]
    },
    {
      "cell_type": "code",
      "metadata": {
        "id": "wc4D_9A_obHh",
        "outputId": "a39e2ef3-c0b0-415d-eba8-4c936f5d1de3",
        "colab": {
          "base_uri": "https://localhost:8080/",
          "height": 53
        }
      },
      "source": [
        "#Solved by : VINAYA\n",
        "\n",
        "#Code/Answers below :\n",
        "def case_change(word):\n",
        "    count = 0\n",
        "    result = ''\n",
        "    for l in word:\n",
        "        if count % 2 == 0:\n",
        "            if l.isupper():\n",
        "                result += l.lower()\n",
        "            else:\n",
        "                result += l.upper()\n",
        "        else:\n",
        "            result += l\n",
        "        count += 1\n",
        "    return result\n",
        "str=input('Enter word:')\n",
        "case_change(str)"
      ],
      "execution_count": null,
      "outputs": [
        {
          "output_type": "stream",
          "text": [
            "Enter word:reva UNIVERSITY\n"
          ],
          "name": "stdout"
        },
        {
          "output_type": "execute_result",
          "data": {
            "application/vnd.google.colaboratory.intrinsic+json": {
              "type": "string"
            },
            "text/plain": [
              "'ReVa UnIvErSiTy'"
            ]
          },
          "metadata": {
            "tags": []
          },
          "execution_count": 4
        }
      ]
    },
    {
      "cell_type": "markdown",
      "metadata": {
        "id": "rTic1qJFob4Q"
      },
      "source": [
        "<pre>3.) Replace all even indices that are vowels with \"#\" symbol and odd indices<br>that are not vowels to \"$\" symbol for any inputted string."
      ]
    },
    {
      "cell_type": "code",
      "metadata": {
        "id": "viFxafqtozIs"
      },
      "source": [
        "#Solved by : \n",
        "\n",
        "#Code/Answers below :"
      ],
      "execution_count": null,
      "outputs": []
    },
    {
      "cell_type": "markdown",
      "metadata": {
        "id": "Cugo6UHyozql"
      },
      "source": [
        "<pre>4.) Count all the uppercase and lowercase letters in an inputted string.\n",
        "</pre>"
      ]
    },
    {
      "cell_type": "code",
      "metadata": {
        "id": "1CVSax1Co7fz"
      },
      "source": [
        "#Solved by : \n",
        "\n",
        "#Code/Answers below :"
      ],
      "execution_count": null,
      "outputs": []
    },
    {
      "cell_type": "markdown",
      "metadata": {
        "id": "mX1rsVQ4o765"
      },
      "source": [
        "<pre>5.) Return all the letters of the odd indices for an inputted string<br>by the user without using while, for or  conditional (if-else) statements.</ore>"
      ]
    },
    {
      "cell_type": "code",
      "metadata": {
        "id": "YgWUF0ZbpSJO"
      },
      "source": [
        "#Solved by : \n",
        "\n",
        "#Code/Answers below :"
      ],
      "execution_count": null,
      "outputs": []
    },
    {
      "cell_type": "markdown",
      "metadata": {
        "id": "dvdSbrKDpSvW"
      },
      "source": [
        "<pre>6.) One of the few famous camel-case examples are : eBay, iPhone where usually the second letter<br>is capital while all others are lowercase. Accept any string from the user<br> and make sure all the words in the string are converted to camel-case.\n",
        "\n",
        "Eg : Input String : THE Blue MOON\n",
        "output : tHe bLue mOon\n",
        "</pre>"
      ]
    },
    {
      "cell_type": "code",
      "metadata": {
        "id": "_6Accd7VqM-v"
      },
      "source": [
        "#Solved by : Maddipati Rakesh kumar\n",
        "\n",
        "#Code/Answers below :\n",
        "def camel(s):\n",
        "    s.strip\n",
        "    \n",
        "    fin=str()\n",
        "    for i in s.split():\n",
        "        res=str()\n",
        "        for j in range(len(i)):\n",
        "                if j==1:\n",
        "                    res1=i[j].upper()\n",
        "                    res=\"\".join([res,res1])\n",
        "                else :\n",
        "                    res1=i[j].lower()\n",
        "                    res=\"\".join([res,res1])\n",
        "        fin=\" \".join([fin,res])\n",
        "        \n",
        "    print(fin.strip())"
      ],
      "execution_count": null,
      "outputs": []
    },
    {
      "cell_type": "code",
      "metadata": {
        "id": "jcB4wUakJynk"
      },
      "source": [
        "camel(\"iphone ebay\")"
      ],
      "execution_count": null,
      "outputs": []
    },
    {
      "cell_type": "markdown",
      "metadata": {
        "id": "_J-wBNdnqh5z"
      },
      "source": [
        "<hr>\n",
        "\n",
        "#  <h1><u><center><b> GROUP-2 (G-2) : </b></center></u></h1>\n",
        "\n",
        "\n",
        "<hr>"
      ]
    },
    {
      "cell_type": "markdown",
      "metadata": {
        "id": "wfTAD3o4qnhY"
      },
      "source": [
        "<pre>1.) Given the following text :\n",
        "\n",
        ">>> text = \"\"\"Domestic confined any but son bachelor advanced remember. How proceed offered her job. \n",
        "Returned peculiar pleasant but appetite differed she.\n",
        "Residence dejection agreement am as to abilities immediate conclusion.\n",
        "Ye am depending propriety sweetness distrusts belonging collected at my email username@email.com. \n",
        "Smiling mention he in thought equally musical. Wisdom new and valley answer. Contented it so is challenge recommend. \n",
        "Email sent at info@example.Con Man its upon him call mile.\n",
        "An pasture he himself believe ferrars besides cottage.\n",
        "Return as many offers rejected,send only important offers.\n",
        "Received by someone@gmail.com who is very nice at hiding popcorns\"\"\"\n",
        "\n",
        "Find all the emails from the given paragraph using the regex module and print the same.\n",
        "You can use the text variable defined above for the same.</pre>"
      ]
    },
    {
      "cell_type": "code",
      "metadata": {
        "id": "2nEGrr8Zst2n"
      },
      "source": [
        "#Solved by : Vilma BA03\n",
        "\n",
        "#Code/Answers below :\n",
        "import re\n",
        "text = \"Domestic confined any but son bachelor advanced remember. How proceed offered her job. Returned peculiar pleasant but appetite differed she. Residence dejection agreement am as to abilities immediate conclusion.Ye am depending propriety sweetness distrusts belonging collected at my email username@email.com. Smiling mention he in thought equally musical. Wisdom new and valley answer. Contented it so is challenge recommend. Email sent at info@example.Con Man its upon him call mile. An pasture he himself believe ferrars besides cottage. Return as many offers rejected, send only important offers. Received by someone@gmail.com who is very nice at hiding popcorns\"\n",
        "email = re.findall('\\S+@\\S+',text)\n",
        "print (email)\n",
        "#\\S - Matches any non-whitespace character; equivalent to [^\\s].\n",
        "#+ - Matches 1 or more (greedy) repetitions of the preceding RE.\n",
        "# from help(re)"
      ],
      "execution_count": null,
      "outputs": []
    },
    {
      "cell_type": "markdown",
      "metadata": {
        "id": "qLLQPqV7szh1"
      },
      "source": [
        "<pre>2.) Count the number of uppercase, lowercase and extras for any inputted string by the user.\n",
        "\n",
        "Eg : Input String : GoOd LeArning PytHon!121\n",
        "Output :\n",
        "extras : 5 #(includes spaces, integers & exclaimnation mark)\n",
        "uppercase : 6\n",
        "lowercase : 12\n",
        "</pre>"
      ]
    },
    {
      "cell_type": "code",
      "metadata": {
        "id": "_SIFZ3FEteqO"
      },
      "source": [
        "#Solved by : Dinesh Kumar S (AI01)\n",
        "\n",
        "#Code/Answers below :"
      ],
      "execution_count": null,
      "outputs": []
    },
    {
      "cell_type": "code",
      "metadata": {
        "id": "Y1MbCORTb0aj"
      },
      "source": [
        "iupper = 0\n",
        "ilower = 0\n",
        "ispace = 0\n",
        "i = 0\n",
        "s1 = \"GoOd LeArning PytHon!121\"\n",
        "iupper=sum([i+1 for s in s1 if s == str.upper(s) and s.isnumeric()==False and s !=' ' and s != '!'])\n",
        "ilower=sum([i+1 for s in s1 if s == str.lower(s) and s.isnumeric()==False and s !=' ' and s != '!'])\n",
        "ispace=sum([i+1 for s in s1 if s == '' or s=='!' or s.isnumeric()])\n",
        "print(' Upper Count :',iupper,'\\n Lower Count :',ilower, '\\n ExtrasCount :',ispace)"
      ],
      "execution_count": null,
      "outputs": []
    },
    {
      "cell_type": "markdown",
      "metadata": {
        "id": "NsuDRuqGtfv-"
      },
      "source": [
        "<pre>3.) Create a multiline string that has the letter A on the first line, the letter B on the second line,<br>a single backslash (\\) on the third line, and the letters C and D separated by a tab (\\t) on the fourth line."
      ]
    },
    {
      "cell_type": "code",
      "metadata": {
        "id": "UTj52CgirAjR"
      },
      "source": [
        "#Solved by : \n",
        "\n",
        "#Code/Answers below :"
      ],
      "execution_count": null,
      "outputs": []
    },
    {
      "cell_type": "markdown",
      "metadata": {
        "id": "jpbA-OOirBVQ"
      },
      "source": [
        "<pre>4.) Take two string input from the user and from the first string take all the characters<br>on even indices and from the second string take all the odd indices and join those even & odd<br> characters and create a new string. Try solving using both using for loop and without using for loop.\n",
        "\n",
        "EG : \n",
        "Input String 1 : python\n",
        "Input String 2 : learning\n",
        "Output :\n",
        "ptoerig #(even indices 0,2,4 or p,t,o from string1 & 1,3,5, 7 odd \n",
        "        #indices or e,r,i,g from string 2).\n",
        "</pre>"
      ]
    },
    {
      "cell_type": "code",
      "metadata": {
        "id": "Igh26n2csVKF"
      },
      "source": [
        "#Solved by : \n",
        "\n",
        "#Code/Answers below :"
      ],
      "execution_count": null,
      "outputs": []
    },
    {
      "cell_type": "markdown",
      "metadata": {
        "id": "rLjqNwhIsVyO"
      },
      "source": [
        "<pre>5.) Write a program that asks the user to enter a programming language. If the language entered is\n",
        "Python, then print out a message saying that they entered Python. Otherwise don’t print out saying \n",
        "\"Python is not entered\". The program should work regardless of which letters of Python are capitalized (it should\n",
        "recognize, Python, python, PYTHON, PyTHoN, etc).</pre>"
      ]
    },
    {
      "cell_type": "code",
      "metadata": {
        "id": "HSfjH0R5swPa"
      },
      "source": [
        "#Solved by : Prem Kumar KM\n",
        "\n",
        "#Code/Answers below :\n",
        "\n",
        "#rading the input and converting it to lower case\n",
        "Pro_lang = input(\"Enter the Programming language \").lower()\n",
        "\n",
        "#if statement to check the entered text \n",
        "if Pro_lang == \"python\":\n",
        "    print(\"Enter language is Python\")\n",
        "else:\n",
        "    print(\"Python is not entered\")\n"
      ],
      "execution_count": null,
      "outputs": []
    },
    {
      "cell_type": "markdown",
      "metadata": {
        "id": "OE5B14i2sxnW"
      },
      "source": [
        "<pre>6.) Write a program to return the count of each letter in an inputted string.\n",
        "\n",
        "EG : Inputted String : hello\n",
        "Output:\n",
        "h = 1\n",
        "e = 1\n",
        "l = 2\n",
        "o = 1\n",
        "</pre>"
      ]
    },
    {
      "cell_type": "code",
      "metadata": {
        "id": "UhChNxsUtFHF"
      },
      "source": [
        "#Solved by : Ashish K. Singh(BA05)\n",
        "\n",
        "#Code/Answers below :\n",
        "\n",
        "word = input(\"Enter a word : \")\n",
        "\n",
        "frequency = {}\n",
        "\n",
        "for i in word: \n",
        "  frequency[i] = frequency.get(i, 0) + 1\n",
        "\n",
        "# Show Output\n",
        "print (\"Per char frequency in '{}' is :\\n {}\".format(word, str(frequency)))\n",
        "\n",
        "#ALTERNATELY\n",
        "from collections import Counter\n",
        "frequency_per_char = Counter(word)\n",
        "print (\"Per char frequency in '{}' is :\\n {}\".format(word, str(frequency_per_char)))\n"
      ],
      "execution_count": null,
      "outputs": []
    },
    {
      "cell_type": "markdown",
      "metadata": {
        "id": "PPOzd3-EtvAg"
      },
      "source": [
        "<hr>\n",
        "\n",
        "#  <h1><u><center><b> GROUP-3 (G-3) : </b></center></u></h1>\n",
        "\n",
        "\n",
        "<hr>"
      ]
    },
    {
      "cell_type": "markdown",
      "metadata": {
        "id": "X3vscjfMuANc"
      },
      "source": [
        "<pre>1.) Write a program to find all the letters in an inputted string that repeats more than 1 time.\n",
        "\n",
        "Eg : Inputted String : abbbccddaeffghhhhh\n",
        "Output :\n",
        "Strings repeating more than 1 time : \n",
        "a, b, c, d, f, h (#e and g have been ignored as they repeat only once)\n",
        "</pre> "
      ]
    },
    {
      "cell_type": "code",
      "metadata": {
        "id": "KDcFtj_9uYUa"
      },
      "source": [
        "#Solved by : \n",
        "\n",
        "#Code/Answers below :"
      ],
      "execution_count": null,
      "outputs": []
    },
    {
      "cell_type": "markdown",
      "metadata": {
        "id": "Y6Z0iP9juYl6"
      },
      "source": [
        "<pre>2.) Write a program to accept two strings from the user and find the characters that are uncommon\n",
        "in both the strings inputted. If all the letters are different then print \"Unique Strings!\"\n",
        "\n",
        "Eg 1: \n",
        "Input String 1 : data\n",
        "Input String 2 : scientist\n",
        "Output :\n",
        "Uncommon letters : \n",
        "d, a, t, a, s, c, i, e, n, t, i, s, t\n",
        "The given strings are Unique!\n",
        "\n",
        "Eg 2:\n",
        "Input String 1 : lower\n",
        "Input String 2 : power\n",
        "Output :\n",
        "Uncommon letters :\n",
        "l, p\n",
        "</pre>"
      ]
    },
    {
      "cell_type": "code",
      "metadata": {
        "id": "zVIt8ny8vR1q"
      },
      "source": [
        "#Solved by : \n",
        "\n",
        "#Code/Answers below :"
      ],
      "execution_count": null,
      "outputs": []
    },
    {
      "cell_type": "markdown",
      "metadata": {
        "id": "hH-H4qmFvSr0"
      },
      "source": [
        "<pre>3.) Accept a single character from the user. If it isn't a single error then throw an error :\n",
        "\"Not a single character\". Check if it the single character entered is within first 13 letters \"A to M\"\n",
        "or if it is between last 13 letters \"N to Z\" (for total of 26 letters, A to Z.)\n",
        "\n",
        "Eg 1 : Input character : y\n",
        "Output:\n",
        "The inputted character \"y\" belongs in last 13 letters from \"N\" to \"Z\".\n",
        "\n",
        "Eg 2 : Input character : J\n",
        "Output:\n",
        "The inputted character \"j\" belongs in first 13 letters from \"A\" to \"M\".\n",
        "\n",
        "Eg 3 : Input character : hello\n",
        "Ouput:\n",
        "Please enter one length characters only!\n",
        "\n",
        "Eg 4 : Input character : 2\n",
        "Output:\n",
        "Not a valid character!\n",
        "\n",
        "NOTE : Make sure the output is exactly the same\n",
        "With double quotes surrounding inputted character\n",
        "(here, \"y\" or \"J\") & first & last 13 letters range.\"A\" to \"M\" or \"N\" to \"Z\"."
      ]
    },
    {
      "cell_type": "code",
      "metadata": {
        "id": "pv4vOgctzffY"
      },
      "source": [
        "#Solved by : Taiba Naz\n",
        "\n",
        "#Code/Answers below :\n",
        "import string\n",
        "str=\"string.ascii_uppercase\"\n",
        "char=input('enter a single character: ')\n",
        "char_upper=char.upper()\n",
        "if len(char_upper)==1:\n",
        "  if char_upper in str[:13]:\n",
        "    print('The inputted character',char_upper,'belongs in first 13 letters from \"A\" to \"M\"')\n",
        "  else:\n",
        "     print('The inputted character',char_upper,'belongs in last 13 letters from \"N\" to \"Z\"')\n",
        "else:\n",
        "  print(\"Please enter one length characters only!\")"
      ],
      "execution_count": null,
      "outputs": []
    },
    {
      "cell_type": "code",
      "metadata": {
        "id": "s8_Qph67VGgR"
      },
      "source": [
        "#Suggested by : Rakesh Kumar\n",
        "\n",
        "#Code/Answers below :\n",
        "list1=[]\n",
        "for i in range(ord('A'),ord('M')+1):\n",
        "    list1.append(i)\n",
        "list2=[]\n",
        "for i in range(ord('N'),ord('Z')+1):\n",
        "    list2.append(i)\n",
        "a=input().upper()\n",
        "if len(a)>1:\n",
        "    print(\"Please enter one length characters only!\")\n",
        "else :\n",
        "    if ord(a) in list1:\n",
        "        print('The inputted character',a,'belongs in first 13 letters from \"A\" to \"M\"')\n",
        "    elif ord(a) in list2:\n",
        "        print('The inputted character',a,'belongs in last 13 letters from \"N\" to \"Z\"')\n",
        "    else :\n",
        "        print(\"Not a valid character\")"
      ],
      "execution_count": null,
      "outputs": []
    },
    {
      "cell_type": "code",
      "metadata": {
        "id": "gv4FBqYUMocv"
      },
      "source": [
        ""
      ],
      "execution_count": null,
      "outputs": []
    },
    {
      "cell_type": "markdown",
      "metadata": {
        "id": "1xkaFTMnzr_z"
      },
      "source": [
        "<pre>4.) Write a program that prints 10 random lowercase letters, all on the same line. \n",
        "(learn how to use \"random\" module to do this.)\n",
        "</pre>"
      ]
    },
    {
      "cell_type": "code",
      "metadata": {
        "id": "iMOvaSba1amr"
      },
      "source": [
        "#Solved by : \n",
        "\n",
        "#Code/Answers below :"
      ],
      "execution_count": null,
      "outputs": []
    },
    {
      "cell_type": "markdown",
      "metadata": {
        "id": "qtYI5NGM1a_7"
      },
      "source": [
        "<pre>5.) Accept a string and check if it is a valid roman number from 1 to 39 or not. \n",
        "(Hint : You can use regex or string slicing for this).\n",
        "<hr>(EXTRA CHALLENGE : Try to convert the given roman no. to equivalent integer, if not possible then skip this challenge)\n",
        "<hr>\n",
        "Eg 1 : Input a roman number : IIIIII\n",
        "Output:\n",
        "Not a valid roman number!\n",
        "\n",
        "Eg 2 : Input a roman number : XVIIII\n",
        "Output:\n",
        "Not a valid roman number!\n",
        "\n",
        "Eg 3 : Input a roman number : XXIX\n",
        "Output:\n",
        "Valid roman number. (#It is 29 in roman number.)\n",
        "</pre>\n"
      ]
    },
    {
      "cell_type": "code",
      "metadata": {
        "id": "Vw1FdI6O2785"
      },
      "source": [
        "#Solved by : \n",
        "\n",
        "#Code/Answers below :"
      ],
      "execution_count": null,
      "outputs": []
    },
    {
      "cell_type": "markdown",
      "metadata": {
        "id": "Rkey5xDA4f4O"
      },
      "source": [
        "<pre>6.)Return all the indices of characters \"x\",\"y\" and \"z\" in an inputted string in one line.\n",
        "\n",
        "Eg : Inputted String : Hellozz y ix no onez zpeakingzz\n",
        "Output:\n",
        "5,6,8,11,19,21,29,30,\n",
        "</pre>\n"
      ]
    },
    {
      "cell_type": "code",
      "metadata": {
        "id": "-BfFLPxy5bH-"
      },
      "source": [
        "#Solved by : \n",
        "\n",
        "#Code/Answers below :"
      ],
      "execution_count": null,
      "outputs": []
    },
    {
      "cell_type": "markdown",
      "metadata": {
        "id": "W80hyGiG5b1N"
      },
      "source": [
        "<hr>\n",
        "\n",
        "#  <h1><u><center><b> GROUP-4 (G-4) : </b></center></u></h1>\n",
        "\n",
        "\n",
        "<hr>"
      ]
    },
    {
      "cell_type": "markdown",
      "metadata": {
        "id": "AUOX5gEf5iO4"
      },
      "source": [
        "<pre>1.) Write a program that asks the user to enter a string. Print out whether the string contains more capital\n",
        "As than capital Bs, the same amount, or more capital Bs.\n",
        "</pre>"
      ]
    },
    {
      "cell_type": "code",
      "metadata": {
        "id": "r6fBjcp55rU7"
      },
      "source": [
        "#Solved by : \n",
        "\n",
        "#Code/Answers below :"
      ],
      "execution_count": null,
      "outputs": []
    },
    {
      "cell_type": "markdown",
      "metadata": {
        "id": "8mx9c-e-5rn3"
      },
      "source": [
        "<pre>2.) Accept a string with multiple words in it from the user. Return the first letters from all these words\n",
        "in the same line and capitilize them as well.\n",
        "\n",
        "Eg : Input String : Sample text\n",
        "Ouput :\n",
        "S, T #(First, letter of Sample & text which is S & t, but t is capitalzied to T)\n",
        "</pre>"
      ]
    },
    {
      "cell_type": "code",
      "metadata": {
        "id": "hUA4yqpq6pY2"
      },
      "source": [
        "#Solved by : Jitendra R\n",
        "\n",
        "#Code/Answers below :\n",
        "import string\n",
        "txt = input(\"Enter Text :\")\n",
        "lst = [word[0].upper() for word in txt.split()]\n",
        "txt = \" \".join(lst)\n",
        "txt"
      ],
      "execution_count": null,
      "outputs": []
    },
    {
      "cell_type": "markdown",
      "metadata": {
        "id": "C-YItSvk6qGq"
      },
      "source": [
        "<pre>3.) Snake case (stylized as snake_case) refers to the style of writing in which each space is replaced by\n",
        "an underscore (_) character, and the first letter of each word written in lowercase. It is a commonly used naming\n",
        "convention in computing, for example for variable and subroutine names, and for filenames.\n",
        "\n",
        "Convert a string with multiple words inputted by the user to snake case.\n",
        "\n",
        "Eg : Input String : random string with no context\n",
        "Output : random_string_with_no_context\n",
        "<pre>"
      ]
    },
    {
      "cell_type": "code",
      "metadata": {
        "id": "uGbROrJ47P_7"
      },
      "source": [
        "#Solved by : Jitendra R\n",
        "\n",
        "#Code/Answers below :\n",
        "import string\n",
        "snake = input(\"Enter Text :\")\n",
        "lst = [word[0:].lower() for word in snake.split()]\n",
        "snake = \"_\".join(lst)\n",
        "snake"
      ],
      "execution_count": null,
      "outputs": []
    },
    {
      "cell_type": "markdown",
      "metadata": {
        "id": "w0AE0LNR7Qaa"
      },
      "source": [
        "<pre>4.) Write a program that asks the user to enter an email address. Assume for this problem that email\n",
        "addresses are of the form username@somedomain.com, \n",
        "where there is a user name and a domain\n",
        "name separate by the @ symbol. Print out the user name and domain name on separate lines.\n",
        "</pre>"
      ]
    },
    {
      "cell_type": "code",
      "metadata": {
        "id": "-gRc1Imn8QUB"
      },
      "source": [
        "#Solved by : Jitendra R\n",
        "\n",
        "#Code/Answers below :\n",
        "import string\n",
        "email = input(\"Enter email :\")\n",
        "lst = email.split('@')\n",
        "username = lst.pop(0)\n",
        "domain = lst.pop(1)\n",
        "print('username: '+ username)\n",
        "print('domain: '+ domain)"
      ],
      "execution_count": null,
      "outputs": []
    },
    {
      "cell_type": "markdown",
      "metadata": {
        "id": "W6VEKRYZ8RCD"
      },
      "source": [
        "<pre>5.) Accept an integer, 'n' from the user. Accept 'n' values from the user which are phone numbers.\n",
        "Check if the phone numbers are valid phone numbers or not.\n",
        "If it is valid return yes or else return no.\n",
        "Condition for checking if phone number is valid or not is that\n",
        "it should have exacty 10 digits and start with 7, 8 or 9.\n",
        "\n",
        "EG : Input value of n : 3 (#Accept 3 phone numbers from the user)\n",
        "Enter phone no. 1 : 8976543210\n",
        "Enter phone no. 2 : 1234567890\n",
        "Enter phone no. 3 : 8791735\n",
        "\n",
        "Output:\n",
        "Yes  #First number is a valid phone no.\n",
        "No   #Not valid as it does not start from 7, 8 or 9\n",
        "No   #Not valid as it's not ten digits long.\n",
        "\n",
        "</pre>"
      ]
    },
    {
      "cell_type": "code",
      "metadata": {
        "id": "geR119dzE2C1"
      },
      "source": [
        "#Solved by : \n",
        "\n",
        "#Code/Answers below :"
      ],
      "execution_count": null,
      "outputs": []
    },
    {
      "cell_type": "markdown",
      "metadata": {
        "id": "HnFuXW9IFKzL"
      },
      "source": [
        "<pre>6.) Accept a string from the user and separate the first half and second half of the string and print them separately. \n",
        "If the string has odd length then print the first half one less length of the second half.\n",
        "(Eg : If inputted string has length 7, then divide in 3 and 4 parts \n",
        "& print them separately)"
      ]
    },
    {
      "cell_type": "code",
      "metadata": {
        "id": "yrqRKBW-F2v3"
      },
      "source": [
        "#Solved by : \n",
        "\n",
        "#Code/Answers below :"
      ],
      "execution_count": null,
      "outputs": []
    },
    {
      "cell_type": "markdown",
      "metadata": {
        "id": "SpUfw99VF3p9"
      },
      "source": [
        "<hr>\n",
        "\n",
        "#  <h1><u><center><b> GROUP-5 (G-5) : </b></center></u></h1>\n",
        "\n",
        "\n",
        "<hr>"
      ]
    },
    {
      "cell_type": "markdown",
      "metadata": {
        "id": "468nOya0F9V7"
      },
      "source": [
        "<pre>1.) Accept a string from the user. Print the first half length as it is and print the second half in reverse.\n",
        "If the string has odd length then divide the first half length one less than second half length.\n",
        "\n",
        "Eg : Input string : world (#length = 5, so divide in 2 and 3 parts.)\n",
        "Output:\n",
        "First half : wo  (#Print as it is.)\n",
        "Second half : dlr (#Reversed) "
      ]
    },
    {
      "cell_type": "code",
      "metadata": {
        "id": "X1K9TFypGdCU"
      },
      "source": [
        "#Solved by : Kiran Muloor\n",
        "\n",
        "#Code/Answers below :"
      ],
      "execution_count": null,
      "outputs": []
    },
    {
      "cell_type": "markdown",
      "metadata": {
        "id": "4FgO0hQpGdr7"
      },
      "source": [
        "<pre>2.) Write a program that asks the user to enter a string. If the string contains any periods, commas, or\n",
        "semicolons, then print out the message “There is some punctuation.” Otherwise, print out a count of\n",
        "how many spaces there are in the string."
      ]
    },
    {
      "cell_type": "code",
      "metadata": {
        "id": "oi731hkNGr92"
      },
      "source": [
        "#Solved by : \n",
        "\n",
        "#Code/Answers below :"
      ],
      "execution_count": null,
      "outputs": []
    },
    {
      "cell_type": "markdown",
      "metadata": {
        "id": "-W6mfRfyGskU"
      },
      "source": [
        "<pre>3.) Write a program that accepts a string from the user and returns the even indices of the reversed string inputted\n",
        "by the user without using lists, for, while or if-else statements.\n",
        "\n",
        "Eg : Input string : Hello\n",
        "Output:\n",
        "olh\n",
        "</pre>"
      ]
    },
    {
      "cell_type": "code",
      "metadata": {
        "id": "W4w89uTKG_jZ"
      },
      "source": [
        "#Solved by : \n",
        "\n",
        "#Code/Answers below :"
      ],
      "execution_count": null,
      "outputs": []
    },
    {
      "cell_type": "markdown",
      "metadata": {
        "id": "Yob91dwSHOZN"
      },
      "source": [
        "<pre>4.) Accept a string from the user and write a code to print all odd indices from the inputted string,<br> provided the odd indices have vowels, else ignore those odd indices."
      ]
    },
    {
      "cell_type": "code",
      "metadata": {
        "id": "awxOvHveIc-H"
      },
      "source": [
        "#Solved by : \n",
        "\n",
        "#Code/Answers below :"
      ],
      "execution_count": null,
      "outputs": []
    },
    {
      "cell_type": "markdown",
      "metadata": {
        "id": "UR-viKRZIdTo"
      },
      "source": [
        "<pre>5.) Write a code to accept a given string with mulitple words from the user. \n",
        "Return all words that are enclosed between < & > symbols with the symbols included in the output.\n",
        "\n",
        "EG : Input string : &lt;body&gt;&lt;h1&gt;This is a title&lt;/h1&gt;&lt;/body&gt;\n",
        "Output:\n",
        "&lt;body&gt;\n",
        "&lt;h1&gt;\n",
        "&lt;/h1&gt;\n",
        "&lt;/body&gt;"
      ]
    },
    {
      "cell_type": "code",
      "metadata": {
        "id": "0H3L4WAPJnze"
      },
      "source": [
        "#Solved by : \n",
        "\n",
        "#Code/Answers below :"
      ],
      "execution_count": null,
      "outputs": []
    },
    {
      "cell_type": "markdown",
      "metadata": {
        "id": "fnzR2t9GJoJa"
      },
      "source": [
        "<pre>6.) Check if an inputted string is in camel-case or not.\n",
        "One of the examples of camel-case is : eBay or iPhone.\n",
        "Here, only the second letter in the word is capital.\n",
        "If it is camel-case return \"Inputted string is camel-case\"\n",
        "else return \"Not in camel-case\".\n",
        "\n",
        "EG : Input String : hUman\n",
        "Output:\n",
        "Inputted string is camel-case"
      ]
    },
    {
      "cell_type": "code",
      "metadata": {
        "id": "2zihWnQPKgsS"
      },
      "source": [
        "#Solved by : \n",
        "\n",
        "#Code/Answers below :"
      ],
      "execution_count": null,
      "outputs": []
    },
    {
      "cell_type": "markdown",
      "metadata": {
        "id": "B6MkV9oaKojW"
      },
      "source": [
        "<hr>\n",
        "\n",
        "#  <h1><u><center><b> GROUP-6 (G-6) : </b></center></u></h1>\n",
        "\n",
        "\n",
        "<hr>"
      ]
    },
    {
      "cell_type": "markdown",
      "metadata": {
        "id": "s2bWkIvwKwUl"
      },
      "source": [
        "<pre>1.) Accept the firstname and lastname of a person on two different lines. \n",
        "Your task is to read them and print the following:\n",
        "\n",
        "    Hello firstname lastname! You just delved into python.\n",
        "\n",
        "Eg : Input:\n",
        "Chandler \n",
        "Bing\n",
        "\n",
        "Output:\n",
        "Hello Chandler Bing! You just delved into python.\n",
        "</pre>"
      ]
    },
    {
      "cell_type": "code",
      "metadata": {
        "id": "BmYLOvF7LU6S"
      },
      "source": [
        "#Solved by : \n",
        "\n",
        "#Code/Answers below :"
      ],
      "execution_count": null,
      "outputs": []
    },
    {
      "cell_type": "markdown",
      "metadata": {
        "id": "vU4NqheaLVbW"
      },
      "source": [
        "<pre>2.) Write a program that asks the user to enter a string of at least six characters. Then print out the\n",
        "following:\n",
        "(a) The length of the string\n",
        "(b) The second character of the string\n",
        "(c) The last character of the string\n",
        "(d) The first five characters of the string\n",
        "(e) The last two characters of the string\n",
        "(f) The string backwards\n",
        "(g) Every character of the string except the last one\n",
        "(h) Every character of the string except the first and last\n",
        "(i) If the string contains a lowercase alphabet \"a\", print out the index of the first \"a\" occurance. \n",
        "Otherwise say that there is no lowercase \"a\"\n",
        "(j) The string in all caps\n",
        "(k) The string with every space replaced with an underscore"
      ]
    },
    {
      "cell_type": "code",
      "metadata": {
        "id": "EhapvwoOMC6W"
      },
      "source": [
        "#Solved by : \n",
        "\n",
        "#Code/Answers below :"
      ],
      "execution_count": null,
      "outputs": []
    },
    {
      "cell_type": "markdown",
      "metadata": {
        "id": "hJVSa31TMDWa"
      },
      "source": [
        "<pre>3.) Accept two strings from the user. Print out the first half of the first string and the second half of the second \n",
        "string together.\n",
        "\n",
        "EG 1 : Input string 1 : \"hello\" (#Since length is odd, take 2 instead of 2.5 for half length of 5. (So \"he\" from \"hello\"))\n",
        "Input string 2 : \"python\" (\"hon\" from python, as that's the second half of python)\n",
        "\n",
        "Output:\n",
        "hehon\n",
        "\n",
        "EG 2 : Input string 1 : longer #(First half is \"lon\")\n",
        "Input string 2 : word  #(Second half is \"rd\")\n",
        "\n",
        "Output:\n",
        "longrd\n",
        "</pre> "
      ]
    },
    {
      "cell_type": "code",
      "metadata": {
        "id": "BwOZTld9NGng"
      },
      "source": [
        "#Solved by : \n",
        "\n",
        "#Code/Answers below :"
      ],
      "execution_count": null,
      "outputs": []
    },
    {
      "cell_type": "markdown",
      "metadata": {
        "id": "ZlUG-QEfNHMR"
      },
      "source": [
        "<pre>4.) Write a program that asks the user to enter a sentence, removes all the spaces from the sentence,\n",
        "converts the remainder to uppercase, and prints out the result.\n",
        "\n",
        "\n",
        "EG : Input string : This is a sentence\n",
        "Output:\n",
        "THISISASENTENCE\n",
        "</pre>"
      ]
    },
    {
      "cell_type": "code",
      "metadata": {
        "id": "mMnUpZe6NYcz"
      },
      "source": [
        "#Solved by : \n",
        "\n",
        "#Code/Answers below :"
      ],
      "execution_count": null,
      "outputs": []
    },
    {
      "cell_type": "markdown",
      "metadata": {
        "id": "ZiYh11-qNYzh"
      },
      "source": [
        "<pre>5.) Write a program that counts all the vowels in an inputted string and prints the count and prints all the consonants.\n",
        "\n",
        "Eg : Input string : random\n",
        "\n",
        "Output :\n",
        "count of vowels : 2\n",
        "Consonants : r, n, d, m"
      ]
    },
    {
      "cell_type": "code",
      "metadata": {
        "id": "Ar4aP2yWNrrl"
      },
      "source": [
        "#Solved by : \n",
        "\n",
        "#Code/Answers below :"
      ],
      "execution_count": null,
      "outputs": []
    },
    {
      "cell_type": "markdown",
      "metadata": {
        "id": "0lM4zwJJNsNy"
      },
      "source": [
        "<pre>6.) Write a program that asks the user to enter a string. Print out whether the string contains more capital\n",
        "A's than capital B's, the same amount, or more capital B's.\n",
        "</pre>"
      ]
    },
    {
      "cell_type": "code",
      "metadata": {
        "id": "MB4_oec_OK5s"
      },
      "source": [
        "#Solved by : \n",
        "\n",
        "#Code/Answers below :"
      ],
      "execution_count": null,
      "outputs": []
    },
    {
      "cell_type": "markdown",
      "metadata": {
        "id": "BhFPt_-wOR3C"
      },
      "source": [
        "<hr>\n",
        "\n",
        "#  <h1><u><center><b> GROUP-7 (G-7) : </b></center></u></h1>\n",
        "\n",
        "\n",
        "<hr>"
      ]
    },
    {
      "cell_type": "markdown",
      "metadata": {
        "id": "LxGBLN3LOUhG"
      },
      "source": [
        "<pre>1.) Write a code to accept a string from the user and check if the inputted string is a valid password or not.\n",
        "These are the conditions to check if it's a valid password or not.\n",
        "\n",
        " a. Has at least 8 characters in it.\n",
        " b. At least one of the characters is upper case.\n",
        " c. At least has two numbers in it.\n",
        " d. At least has one punctuation mark or symbol in it\n",
        "\n",
        " If any of these conditions fail then keep asking it to re-enter the password. \n",
        "(do not stop the execution of the code until valid password has been entered).\n",
        "</pre> "
      ]
    },
    {
      "cell_type": "code",
      "metadata": {
        "id": "GEGHAvidPIx7"
      },
      "source": [
        "#Solved by : Rajanna A01\n",
        " \n",
        "#Code/Answers below :\n",
        " \n",
        "import string\n",
        " \n",
        "a = False\n",
        "while (a== False):\n",
        "       \n",
        "        x = input(\"\"\"Enter password : \n",
        "         a. Has at least 8 characters in it.\n",
        "         b. At least one of the characters is upper case.\n",
        "         c. At least has two numbers in it.\n",
        "         d. At least has one punctuation mark or symbol in it.\"\"\")\n",
        " \n",
        "        upper = 0\n",
        "        num = 0\n",
        "        special =0\n",
        "        special_chars = string.punctuation\n",
        " \n",
        "        if len(x) >=8:\n",
        "            for i in x:\n",
        "                if i.isupper() == True:\n",
        "                    upper +=1\n",
        "                elif i.isnumeric() == True:\n",
        "                    num +=1\n",
        "                elif i in special_chars:\n",
        "                    special+=1\n",
        "            if upper >=1 and num >=2 and special >=1:\n",
        "                a= True                \n",
        "                print(\"Your password met the critiria\")\n",
        "            \n",
        "            else:\n",
        "                print(\"Your password didn't meet the critiria\")"
      ],
      "execution_count": null,
      "outputs": []
    },
    {
      "cell_type": "markdown",
      "metadata": {
        "id": "IOxLemTEPJNN"
      },
      "source": [
        "<pre>2.) Write a program that asks the user to enter a string, replaces all the spaces with asterisks, then replaces\n",
        "every fifth character (starting with index 0) with an exclamation point, and finally concatenates three\n",
        "copies of that result together. \n",
        "\n",
        "EG : Input : this is a test would become\n",
        "\n",
        "Output :\n",
        "!his * !s * a * !est!his * !s * a * !est!his * !s * a * !est."
      ]
    },
    {
      "cell_type": "code",
      "metadata": {
        "id": "XAXwjgp5Q7pw"
      },
      "source": [
        "#Solved by : \n",
        "\n",
        "#Code/Answers below :"
      ],
      "execution_count": null,
      "outputs": []
    },
    {
      "cell_type": "markdown",
      "metadata": {
        "id": "vARuVod8Q8MT"
      },
      "source": [
        "<pre>3.) Write a program that accepts any string from the user and checks if it is in the following format or not.\n",
        "\n",
        "a. Starts with a # symbol.\n",
        "b. Has either 3 or 6 length only.\n",
        "c. Has letters from a to f only.\n",
        "\n",
        "\n",
        "EG 1 : Input : #ABC\n",
        "Output : Valid\n",
        "\n",
        "EG 2 : Input : #aBc\n",
        "Output : Valid\n",
        "\n",
        "EG 3 : Input : #aaBB\n",
        "Output : Not Valid (Has 4 length not 3 or 6.)\n",
        "\n",
        "EG 4 : Input : #FFFFFF\n",
        "Output : Valid\n",
        "\n",
        "EG 5 : Input : #GAB\n",
        "Output : Not Valid (Has letter G)\n",
        "\n",
        "EG 6 : Input : #zAb\n",
        "Output : Not Valid (Has letter z)"
      ]
    },
    {
      "cell_type": "code",
      "metadata": {
        "id": "ULK98QnbSMLU"
      },
      "source": [
        "#Solved by : \n",
        "\n",
        "#Code/Answers below :"
      ],
      "execution_count": null,
      "outputs": []
    },
    {
      "cell_type": "markdown",
      "metadata": {
        "id": "bSkG6JmVSMyy"
      },
      "source": [
        "<pre>4.) Accept two strings from the user. Return a third string as an output which has reversed odd indices character from\n",
        "the first string and reversed even strings from the second string inputted.\n",
        "\n",
        "EG : Input string 1 : Sample\n",
        "Input string 2 : TEXt\n",
        "\n",
        "Output:\n",
        "lmStE  #(Reversed string for \"Sample\" is \"elpmaS\" odd indices in that is 1,3,5 which has letters l,m,S. \n",
        "Same logic for second string but for even indices.)\n",
        "</pre>"
      ]
    },
    {
      "cell_type": "code",
      "metadata": {
        "id": "4mvNIy5MTBYa"
      },
      "source": [
        "#Solved by : \n",
        "\n",
        "#Code/Answers below :"
      ],
      "execution_count": null,
      "outputs": []
    }
  ]
}