{
  "nbformat": 4,
  "nbformat_minor": 0,
  "metadata": {
    "colab": {
      "name": "Weekly Assessments for Python Learning Group.ipynb",
      "provenance": [],
      "collapsed_sections": [
        "_rdL7mu4suLL",
        "9e8J8NhFUR0t",
        "in7xjTkot0zh",
        "kECfbvzAT_29",
        "oOoesydDT7Rk",
        "W4Fb8aJGlIG7"
      ],
      "toc_visible": true,
      "include_colab_link": true
    },
    "kernelspec": {
      "name": "python3",
      "display_name": "Python 3"
    }
  },
  "cells": [
    {
      "cell_type": "markdown",
      "metadata": {
        "id": "view-in-github",
        "colab_type": "text"
      },
      "source": [
        "<a href=\"https://colab.research.google.com/github/kiranmuloor/DataScience/blob/master/Python/Weekly_Assessments_for_Python_Learning_Group.ipynb\" target=\"_parent\"><img src=\"https://colab.research.google.com/assets/colab-badge.svg\" alt=\"Open In Colab\"/></a>"
      ]
    },
    {
      "cell_type": "markdown",
      "metadata": {
        "id": "aoqFvlRQ9XwU"
      },
      "source": [
        "\n",
        "\n",
        "# <h1><b><center><u> WEEKLY ASSESSMENTS for Python Learning Group</u></center></b></h1>\n"
      ]
    },
    {
      "cell_type": "markdown",
      "metadata": {
        "id": "9fBQIuW4JWSR"
      },
      "source": [
        "\n",
        "## <h2><u> GUIDELINES : </u></h2>\n",
        "\n",
        "1. Under each group, the leaders and their members are mentioned, and chapter wise questions are added. The leader is supposed to assign each question to their members and solve it before the next session begins. In case the leader is busy, the members can themselves solve the questions on first-come first-serve basis.\n",
        "2. Please use commenting throughout the code for better understanding and keep the first line of the code as a comment containing your Name, Chapter no., Batch (Eg: BA06), and group no.(Eg: G-1).\n",
        "3. Kindly maintain the format of the whole google collab sheet which is as follows : <b>Group Number > Chapter No. > Questions</b>. In case you need to add more cells kindly shift them in the particular group and under the particular chapter and not add them at the bottom of the page. Let's keep things organised!\n",
        "4. Solve the answers only in the coding blocks (They have a run button beside them) which has <b>\"#Solved by\"</b> mentioned in it.<hr> \n",
        "5. <b>IMP : </b>There's <b>only one question for each member of the group to solve</b>. Kindly do not solve multiple questions in this colab. You can try solving all problems in a seperate google colab. Let everyone have a chance! Hence only one question per team member.<br><b> In case questions in your group are not solved by Saturday Evening by certain individuals then only you can solve multiple questions from your group, but please send a reminder!</b><hr>\n",
        "6. In case you want to suggest a better alternative to an existing solution by your team-mate or someone else, you can add a new code block below their code. Add first line as a comment saying <b>\"#Alternative Suggested by : Your Name, batch, GroupNo.\"</b> Kindly don't edit their code. This way we can see the difference between both the codes.\n",
        "7. Please don't edit the guidelines, members details and the questions. Only answer the questions. We can see the changes made by Version Control system.\n",
        "8. Groups 1 to 3 will be under Saket while Groups 4 to 6 will be under Andrea Ma'am. Group 7 is under both Saket & Andrea Ma'am.\n",
        "9. You can use <b>\"Table of Contents\"</b> (On top-left, the small icon with three horizontal bars, besides \"+code\") to easily access the google colab.<hr>\n",
        "10. <b><u>IMP</u></b> : Kindly press <b>\"Ctrl+S\"</b> and wait for <b>\"Saved Successfully!\"</b> to appear at bottom left before closing google colab. You can check in new tab or new private tab to see if changes have been made or not before closing google colab as well.<hr>\n",
        "11. Make sure your group has made it's own whatsapp groups to assign questions, discuss problems or for any other queries!.\n",
        "12. In case of any issues feel free to reach out to <b>Saket</b> (7022836253, saket.intern@reva.edu.in).\n",
        "\n"
      ]
    },
    {
      "cell_type": "markdown",
      "metadata": {
        "id": "_rdL7mu4suLL"
      },
      "source": [
        "<hr>\n",
        "\n",
        "\n",
        "## **SAKET**\n",
        "\n",
        "\n",
        "<hr>"
      ]
    },
    {
      "cell_type": "markdown",
      "metadata": {
        "id": "dXzIP6OQLZ2W"
      },
      "source": [
        "<hr>\n",
        "\n",
        "#  <h1><u><center><b> GROUP-1 (G-1) : </b></center></u></h1>\n",
        "<h2>MEMBERS : </h2>\n",
        "\n",
        "\n",
        "1. **Pawan Rama Mali (AI01)  [LEADER]**\n",
        "2.  Nagesh (BA06)\n",
        "3. Amit Kavnekar (BA06)\n",
        "4. Vinaya James (AI01)\n",
        "5. Jenny NIcholas (BA07)\n",
        "6. Maddipati Rakesh Kumar (AI01)\n",
        "\n"
      ]
    },
    {
      "cell_type": "markdown",
      "metadata": {
        "id": "r3wHAEnsUYKw"
      },
      "source": [
        "<hr>\n",
        "\n",
        "## <h4><b><center><u>CHAPTER-1 </u></center></b></h4>\n",
        "\n",
        "<hr>"
      ]
    },
    {
      "cell_type": "markdown",
      "metadata": {
        "id": "_CvER4mjUajV"
      },
      "source": [
        "<pre>\n",
        "1.) Create following Variables :\n",
        "i) \"mystring\" to contain \"hello\"\n",
        "ii) \"myfloat\" to contain \"2.5\"\n",
        "iii) \"myint\" to contain \"10\"\n",
        "</pre>"
      ]
    },
    {
      "cell_type": "code",
      "metadata": {
        "id": "TIuiR0wUPYFe",
        "outputId": "7717eb51-26d2-4965-c165-9f0ce2e86857",
        "colab": {
          "base_uri": "https://localhost:8080/",
          "height": 68
        }
      },
      "source": [
        "#Solved by : Pawan Rama Mali (AI01)\n",
        "\n",
        "#Code/Answers below : \n",
        "\n",
        "mystring = \"hello\"\n",
        "myfloat = 2.4\n",
        "myint = 10\n",
        "\n",
        "print(mystring)\n",
        "print(myfloat)\n",
        "print(myint)\n"
      ],
      "execution_count": null,
      "outputs": [
        {
          "output_type": "stream",
          "text": [
            "hello\n",
            "2.4\n",
            "10\n"
          ],
          "name": "stdout"
        }
      ]
    },
    {
      "cell_type": "markdown",
      "metadata": {
        "id": "dj83g7RPPecN"
      },
      "source": [
        "<pre>\n",
        "2.) Accept two numbers and find the percentage of the two numbers,<br> where the bigger number is the denominator for calculating percentage. \n",
        "</pre>"
      ]
    },
    {
      "cell_type": "code",
      "metadata": {
        "id": "6M_sAV9SQdTc",
        "outputId": "9e423ea6-6650-4f37-a728-412e4962e0a3",
        "colab": {
          "base_uri": "https://localhost:8080/",
          "height": 69
        }
      },
      "source": [
        "#Solved by :Vinaya\n",
        "\n",
        "#Code/Answers below :\n",
        "x = int(input(\"Enter the first value:\"))\n",
        "y = int(input(\"Enter the second value:\"))\n",
        "if (x >= y ):\n",
        "     percent = (( y/x) * 100)\n",
        "else:\n",
        "     percent = (( x/y )* 100)\n",
        "print (\"percerntage is : \", percent)"
      ],
      "execution_count": null,
      "outputs": [
        {
          "output_type": "stream",
          "text": [
            "Enter the first value:100\n",
            "Enter the second value:20\n",
            "percerntage is :  20.0\n"
          ],
          "name": "stdout"
        }
      ]
    },
    {
      "cell_type": "markdown",
      "metadata": {
        "id": "Ds2vJVc0QfhF"
      },
      "source": [
        "<pre>\n",
        "3.) Find the average of three numbers inputted by an user.\n",
        "</pre>"
      ]
    },
    {
      "cell_type": "code",
      "metadata": {
        "id": "L6wCshtIe6Z2",
        "outputId": "30e1546e-9298-4056-a9f5-75f49e8fc156",
        "colab": {
          "base_uri": "https://localhost:8080/",
          "height": 87
        }
      },
      "source": [
        "#Solved by :vinaya\n",
        "\n",
        "#Code/Answers below :\n",
        "x = int (input(\"Number 1 :\"))\n",
        "y = int (input(\"Number 2:\"))\n",
        "z = int (input(\"Number 3:\"))\n",
        "Aver = (x+y+z)/3\n",
        "print (\"Average is :\", Aver)"
      ],
      "execution_count": null,
      "outputs": [
        {
          "output_type": "stream",
          "text": [
            "Number 1 :20\n",
            "Number 2:30\n",
            "Number 3:40\n",
            "Average is : 30.0\n"
          ],
          "name": "stdout"
        }
      ]
    },
    {
      "cell_type": "markdown",
      "metadata": {
        "id": "4fSXJcZNSK7w"
      },
      "source": [
        "<pre>\n",
        "4.) Which of the following is the valid variable name:\n",
        "i) global\n",
        "ii) 99flag\n",
        "iii) text\n",
        "iv) an$wer\n",
        "</pre>"
      ]
    },
    {
      "cell_type": "code",
      "metadata": {
        "id": "1QNzFFH_SRQk",
        "outputId": "ae7bb062-0b88-45dd-c4e7-c62d5388ce56",
        "colab": {
          "base_uri": "https://localhost:8080/",
          "height": 34
        }
      },
      "source": [
        "#Solved by :Vinaya\n",
        "\n",
        "#Code/Answers below :\n",
        "text = \"REVA\"\n",
        "print(text)"
      ],
      "execution_count": null,
      "outputs": [
        {
          "output_type": "stream",
          "text": [
            "REVA\n"
          ],
          "name": "stdout"
        }
      ]
    },
    {
      "cell_type": "markdown",
      "metadata": {
        "id": "jJVoCt2xSf_m"
      },
      "source": [
        "<pre>\n",
        "5.) Accept two numbers in two variables a & b and interchange the values <br> such that now variable b holds value of a and variable a hold the value of b.\n",
        "</pre>"
      ]
    },
    {
      "cell_type": "code",
      "metadata": {
        "id": "WJvymmOgSzv9",
        "outputId": "df7b6866-667e-4f54-c3af-3c2d84cc6479",
        "colab": {
          "base_uri": "https://localhost:8080/",
          "height": 87
        }
      },
      "source": [
        "#Solved by :vinaya\n",
        "\n",
        "#Code/Answers below :\n",
        "a = int(input(\"Enter the first Number:\"))\n",
        "b = int(input(\"Enter the second Number:\"))\n",
        "c=a\n",
        "a=b\n",
        "b=c\n",
        "print(\"First Variable:\", a)\n",
        "print(\"Second variable:\",b)"
      ],
      "execution_count": null,
      "outputs": [
        {
          "output_type": "stream",
          "text": [
            "Enter the first Number:12\n",
            "Enter the second Number:30\n",
            "First Variable: 30\n",
            "Second variable: 12\n"
          ],
          "name": "stdout"
        }
      ]
    },
    {
      "cell_type": "markdown",
      "metadata": {
        "id": "wte4d03zNJZH"
      },
      "source": [
        "<pre>\n",
        "6.) Print all the even indices and odd indices of a string inputted by the user separately.\n",
        "</pre>"
      ]
    },
    {
      "cell_type": "code",
      "metadata": {
        "id": "Xu-CBV2UNSvg",
        "outputId": "25ae745d-37bb-4a0f-8b95-74c4a72b8aa8",
        "colab": {
          "base_uri": "https://localhost:8080/",
          "height": 68
        }
      },
      "source": [
        "#Solved by :Maddipati Rakesh Kumar\n",
        "\n",
        "#Code/Answers below :\n",
        "userinput1=input()\n",
        "even1=[]\n",
        "odd1=[]\n",
        "for i in range(0,len(userinput1)):\n",
        "    if i%2==0:\n",
        "        even1.extend(userinput1[i])\n",
        "    else:\n",
        "        odd1.extend(userinput1[i])\n",
        "\n",
        "print(even1)\n",
        "print(odd1)\n",
        "\n"
      ],
      "execution_count": null,
      "outputs": [
        {
          "output_type": "stream",
          "text": [
            "Rakesh\n",
            "['R', 'k', 's']\n",
            "['a', 'e', 'h']\n"
          ],
          "name": "stdout"
        }
      ]
    },
    {
      "cell_type": "markdown",
      "metadata": {
        "id": "xEKuIqC7SKLk"
      },
      "source": [
        "<hr>\n",
        "\n",
        "## <h4><b><center><u>CHAPTER-2 </u></center></b></h4>\n",
        "\n",
        "Page 137 to 157 from [11th Std Book.](http://www.cbseacademic.nic.in/web_material/doc/cs/1_Computer-Science-Python-Book-Class-XI.pdf)\n",
        "<br><br>\n",
        "<b>Extra Reading Materials :</b> \n",
        "\n",
        "[www.javatpoint.com/python-functions](https://www.javatpoint.com/python-functions) \n",
        "\n",
        "\n",
        "(Learn about \\*args & \\*\\*kwargs if possible)\n",
        "\n",
        "<hr>"
      ]
    },
    {
      "cell_type": "markdown",
      "metadata": {
        "id": "ylj5nPyrSQz9"
      },
      "source": [
        "# New Section"
      ]
    },
    {
      "cell_type": "markdown",
      "metadata": {
        "id": "tlfnqMp7STST"
      },
      "source": [
        "<pre>\n",
        "1.) Write a function to perform all the basic mathematic (add, diff, multiply, div) operations between two numbers."
      ]
    },
    {
      "cell_type": "code",
      "metadata": {
        "id": "gBW5pEyITBQ6",
        "outputId": "709aeb27-ab00-41a2-8e9b-75b6e8f75b3e",
        "colab": {
          "base_uri": "https://localhost:8080/",
          "height": 85
        }
      },
      "source": [
        "#Solved by : Pawan Rama Mali (AI01)\n",
        "\n",
        "#Code/Answers below :\n",
        "\n",
        "def basic_mathematics(num1,num2):\n",
        "    print(\"addition is \",num1+num2)\n",
        "    print(\"difference is \",num1-num2)\n",
        "    print(\"multiplication is \",num1*num2)\n",
        "    print(\"division is \",num1/num2)\n",
        "    \n",
        "\n",
        "\n",
        "basic_mathematics(98,55)"
      ],
      "execution_count": null,
      "outputs": [
        {
          "output_type": "stream",
          "text": [
            "addition is  153\n",
            "difference is  43\n",
            "multiplication is  5390\n",
            "division is  1.7818181818181817\n"
          ],
          "name": "stdout"
        }
      ]
    },
    {
      "cell_type": "markdown",
      "metadata": {
        "id": "Yp24dO0oTEyC"
      },
      "source": [
        "<pre>\n",
        "2.) Write a function to concatenate two numbers. Example : Concatenation of 2 & 2 is 22."
      ]
    },
    {
      "cell_type": "code",
      "metadata": {
        "id": "NvqAcHM6TX-Y"
      },
      "source": [
        "#Solved by :vinaya\n",
        "\n",
        "#Code/Answers below :"
      ],
      "execution_count": null,
      "outputs": []
    },
    {
      "cell_type": "code",
      "metadata": {
        "id": "gvLWeG-9ps8e",
        "outputId": "0bbeee70-372c-4c75-ea99-5fb1669868c9",
        "colab": {
          "base_uri": "https://localhost:8080/",
          "height": 69
        }
      },
      "source": [
        "def con(a,b):\n",
        "  return(a+b,\"is the concatenation of two numbers\")\n",
        "a = input(\"Enter the first number:\")\n",
        "b = input(\"Enter the second number:\")\n",
        "con(a,b)"
      ],
      "execution_count": null,
      "outputs": [
        {
          "output_type": "stream",
          "text": [
            "Enter the first number:10\n",
            "Enter the second number:10\n"
          ],
          "name": "stdout"
        },
        {
          "output_type": "execute_result",
          "data": {
            "text/plain": [
              "('1010', 'is the concatenation of two numbers')"
            ]
          },
          "metadata": {
            "tags": []
          },
          "execution_count": 7
        }
      ]
    },
    {
      "cell_type": "markdown",
      "metadata": {
        "id": "LUl5-tivTZwr"
      },
      "source": [
        "<pre>\n",
        "3.) Write a function with default parameters for name and age and display the same in case of if name,age are passed in the function and if they aren't passed in the function.\n",
        "</pre>"
      ]
    },
    {
      "cell_type": "code",
      "metadata": {
        "id": "vk5a8kwgT-Ma"
      },
      "source": [
        "#Solved by :vinaya\n",
        "\n",
        "#Code/Answers below :"
      ],
      "execution_count": null,
      "outputs": []
    },
    {
      "cell_type": "code",
      "metadata": {
        "id": "oRXPZ4f7ApJP"
      },
      "source": [
        ""
      ],
      "execution_count": null,
      "outputs": []
    },
    {
      "cell_type": "markdown",
      "metadata": {
        "id": "MJdjJ-abT_LD"
      },
      "source": [
        "<pre>\n",
        "4.) Write a function that accepts three numbers as a parameter and finds the largest among the three."
      ]
    },
    {
      "cell_type": "code",
      "metadata": {
        "id": "3PxGQX2pV5f7"
      },
      "source": [
        "#Solved by :vinaya\n",
        "\n",
        "#Code/Answers below :"
      ],
      "execution_count": null,
      "outputs": []
    },
    {
      "cell_type": "code",
      "metadata": {
        "id": "UWIadQB3UpZt",
        "outputId": "f01d297d-df7a-41c6-dc1a-d2ba718193dc",
        "colab": {
          "base_uri": "https://localhost:8080/",
          "height": 87
        }
      },
      "source": [
        "def fun(a,b,c):\n",
        "  print(max(a,b,c),\"is the biggest number\")\n",
        "a = int(input(\"Enter the first number:\"))\n",
        "b = int(input(\"Enter the second number:\"))\n",
        "c = int(input(\"Enter the  third number:\"))\n",
        "fun(a,b,c)\n"
      ],
      "execution_count": null,
      "outputs": [
        {
          "output_type": "stream",
          "text": [
            "Enter the first number:10\n",
            "Enter the second number:30\n",
            "Enter the  third number:60\n",
            "60 is the biggest number\n"
          ],
          "name": "stdout"
        }
      ]
    },
    {
      "cell_type": "markdown",
      "metadata": {
        "id": "Dl3a4tq5V7lV"
      },
      "source": [
        "<pre>\n",
        "5.) Write a function that accepts a number as a parameter and prints the number of digits in that given number.\n",
        "</pre>"
      ]
    },
    {
      "cell_type": "code",
      "metadata": {
        "id": "HsW0Jro3WKd-"
      },
      "source": [
        "#Solved by :vinaya\n",
        "\n",
        "#Code/Answers below :\n"
      ],
      "execution_count": null,
      "outputs": []
    },
    {
      "cell_type": "code",
      "metadata": {
        "id": "d2Gx5nerq8U1",
        "outputId": "2de43fb9-6046-4357-d13b-0e56c9d80dbc",
        "colab": {
          "base_uri": "https://localhost:8080/",
          "height": 52
        }
      },
      "source": [
        "def dig(a):\n",
        "  count=0\n",
        "  for i in range(len(a)):\n",
        "       count+=1\n",
        "  print(\"number of digits\",count)      \n",
        "a = input(\"Enter the first number:\")\n",
        "dig(a)"
      ],
      "execution_count": null,
      "outputs": [
        {
          "output_type": "stream",
          "text": [
            "Enter the first number:11100\n",
            "number of digits 5\n"
          ],
          "name": "stdout"
        }
      ]
    },
    {
      "cell_type": "markdown",
      "metadata": {
        "id": "CytTILWvWLJl"
      },
      "source": [
        "<pre>\n",
        "6.) Accept two numbers using arguments in a function, if the first argument is bigger than the second argument then perform subraction between them, else perform addition between them.\n",
        "</pre>"
      ]
    },
    {
      "cell_type": "code",
      "metadata": {
        "id": "qM7uk39zdUym",
        "outputId": "642c29eb-64dd-44cd-ab55-b541ef3f55db",
        "colab": {
          "base_uri": "https://localhost:8080/",
          "height": 34
        }
      },
      "source": [
        "#Solved by :Maddipati Rakesh Kumar\n",
        "\n",
        "#Code/Answers below :\n",
        "def fun_2_calc(arg1,arg2):\n",
        "    if arg1>arg2:\n",
        "        print(arg1-arg2)\n",
        "    else :\n",
        "        print(arg1+arg2)\n",
        "\n",
        "fun_2_calc(-10,6)"
      ],
      "execution_count": null,
      "outputs": [
        {
          "output_type": "stream",
          "text": [
            "-4\n"
          ],
          "name": "stdout"
        }
      ]
    },
    {
      "cell_type": "markdown",
      "metadata": {
        "id": "bX0sH8ghMiRJ"
      },
      "source": [
        "<hr>\n",
        "\n",
        "# <h1><u><center><b> GROUP-2 (G-2) : </b></center></u></h1>\n",
        "<h2>MEMBERS : </h2>\n",
        "\n",
        "\n",
        "1.   **Prem Kumar (AI01) [LEADER]**\n",
        "2.  Rahul Madagni (MBA02)\n",
        "3. Ashish Singh (BA05)\n",
        "4. Vilma (MBA03)\n",
        "5. Dinesh Kumar (AI01)\n",
        "6. Bharadwaz Sripada (AI01)\n",
        "\n"
      ]
    },
    {
      "cell_type": "markdown",
      "metadata": {
        "id": "9e8J8NhFUR0t"
      },
      "source": [
        "<hr>\n",
        "\n",
        "## <h4><b><center><u>CHAPTER-1 </u></center></b></h4>\n",
        "\n",
        "<hr>"
      ]
    },
    {
      "cell_type": "markdown",
      "metadata": {
        "id": "t13zGzWvUTtS"
      },
      "source": [
        "<pre>\n",
        "1.) Which are correct type conversions? Also explain why are few of cases are failing to convert types.\n",
        "i) int (7.0+0.1) \n",
        "ii) str (1.2 * 3.4)\n",
        "iii) float (\"77\"+\".0\") \n",
        "iv) str ( 9 / 0 )\n",
        "</pre>"
      ]
    },
    {
      "cell_type": "code",
      "metadata": {
        "id": "m1XkkcBCUkhk",
        "outputId": "326b4f52-db98-48e7-a106-9649fc6c1870",
        "colab": {
          "base_uri": "https://localhost:8080/",
          "height": 282
        }
      },
      "source": [
        "#Solved by: Prem Kumar KM (AI 01)\n",
        "\n",
        "#Code/Answers below :\n",
        "#i),ii) and iii) are correct conversion\n",
        "\n",
        "#i)int(7.0+0.1)\n",
        "print(int(7.0+0.1)) #prints the integer value 7\n",
        "#output: 7 \n",
        "\n",
        "#ii)str(1.2*3.4)\n",
        "print(str(1.2*3.4)) #prints the string value '4.08'\n",
        "#output: '4.08'\n",
        "\n",
        "#iii)float(\"77\"+\".0\")\n",
        "print(float(\"77\"+\".0\")) #prints float value 77.0\n",
        "#output: 77.0\n",
        "\n",
        "#iv)str(9/0) is failing to convert incorrect conversion\n",
        "print(str(9/0)) #division by zero error\n",
        "#output:\n",
        "#ZeroDivisionError\n",
        "\n"
      ],
      "execution_count": null,
      "outputs": [
        {
          "output_type": "stream",
          "text": [
            "7\n",
            "4.08\n",
            "77.0\n"
          ],
          "name": "stdout"
        },
        {
          "output_type": "error",
          "ename": "ZeroDivisionError",
          "evalue": "ignored",
          "traceback": [
            "\u001b[0;31m---------------------------------------------------------------------------\u001b[0m",
            "\u001b[0;31mZeroDivisionError\u001b[0m                         Traceback (most recent call last)",
            "\u001b[0;32m<ipython-input-1-a26be93f6bf1>\u001b[0m in \u001b[0;36m<module>\u001b[0;34m()\u001b[0m\n\u001b[1;32m     17\u001b[0m \u001b[0;34m\u001b[0m\u001b[0m\n\u001b[1;32m     18\u001b[0m \u001b[0;31m#iv)str(9/0) is failing to convert incorrect conversion\u001b[0m\u001b[0;34m\u001b[0m\u001b[0;34m\u001b[0m\u001b[0;34m\u001b[0m\u001b[0m\n\u001b[0;32m---> 19\u001b[0;31m \u001b[0mprint\u001b[0m\u001b[0;34m(\u001b[0m\u001b[0mstr\u001b[0m\u001b[0;34m(\u001b[0m\u001b[0;36m9\u001b[0m\u001b[0;34m/\u001b[0m\u001b[0;36m0\u001b[0m\u001b[0;34m)\u001b[0m\u001b[0;34m)\u001b[0m \u001b[0;31m#division by zero error\u001b[0m\u001b[0;34m\u001b[0m\u001b[0;34m\u001b[0m\u001b[0m\n\u001b[0m\u001b[1;32m     20\u001b[0m \u001b[0;31m#output:\u001b[0m\u001b[0;34m\u001b[0m\u001b[0;34m\u001b[0m\u001b[0;34m\u001b[0m\u001b[0m\n\u001b[1;32m     21\u001b[0m \u001b[0;31m#ZeroDivisionError\u001b[0m\u001b[0;34m\u001b[0m\u001b[0;34m\u001b[0m\u001b[0;34m\u001b[0m\u001b[0m\n",
            "\u001b[0;31mZeroDivisionError\u001b[0m: division by zero"
          ]
        }
      ]
    },
    {
      "cell_type": "markdown",
      "metadata": {
        "id": "mk0DvyX3UnRP"
      },
      "source": [
        "<pre>\n",
        "2.) Which operations result in 8?\n",
        "i) 65 // 8 \n",
        "ii) 17 % 9 \n",
        "iii) 2**4\n",
        "iv) 64**0.5\n",
        "</pre>"
      ]
    },
    {
      "cell_type": "code",
      "metadata": {
        "id": "7eq7Uf3DU980"
      },
      "source": [
        "#Solved by: Ashish Singh\n",
        "\n",
        "#Code/Answers below :"
      ],
      "execution_count": null,
      "outputs": []
    },
    {
      "cell_type": "code",
      "metadata": {
        "id": "9tXhbUtZUubb",
        "outputId": "db990141-0ad5-4145-f29a-062a2e7f9289",
        "colab": {
          "base_uri": "https://localhost:8080/",
          "height": 34
        }
      },
      "source": [
        "#Floor division\t: The division of operands where the result is the quotient in which the digits after\n",
        "# the decimal point are removed. But if one of the operands is negative, the result is floored, \n",
        "#i.e., rounded away from zero (towards negative infinity)\n",
        "65//8"
      ],
      "execution_count": null,
      "outputs": [
        {
          "output_type": "execute_result",
          "data": {
            "text/plain": [
              "8"
            ]
          },
          "metadata": {
            "tags": []
          },
          "execution_count": 1
        }
      ]
    },
    {
      "cell_type": "code",
      "metadata": {
        "id": "wWeoZGcxVBn3",
        "outputId": "d7b98501-3bcf-4645-9d3a-9ad714fdb929",
        "colab": {
          "base_uri": "https://localhost:8080/",
          "height": 34
        }
      },
      "source": [
        "#Modulus : returns the remainder when first operand is divided by the second\n",
        "17%9"
      ],
      "execution_count": null,
      "outputs": [
        {
          "output_type": "execute_result",
          "data": {
            "text/plain": [
              "8"
            ]
          },
          "metadata": {
            "tags": []
          },
          "execution_count": 2
        }
      ]
    },
    {
      "cell_type": "code",
      "metadata": {
        "id": "aPu5rawGVIpm",
        "outputId": "ed971bd1-1766-4a83-b860-3de6bd5611d6",
        "colab": {
          "base_uri": "https://localhost:8080/",
          "height": 34
        }
      },
      "source": [
        "#Power : Returns first raised to power second\t\n",
        "64**0.5"
      ],
      "execution_count": null,
      "outputs": [
        {
          "output_type": "execute_result",
          "data": {
            "text/plain": [
              "8.0"
            ]
          },
          "metadata": {
            "tags": []
          },
          "execution_count": 4
        }
      ]
    },
    {
      "cell_type": "markdown",
      "metadata": {
        "id": "qi51O1HWVMOb"
      },
      "source": [
        "<pre>\n",
        "3.) Record what happens when following statements are executed:\n",
        "a) print (n=7)\n",
        "b) print (5+7)\n",
        "c) print (5.2, \"this\", 4-2, \"that\", 5/2.0)"
      ]
    },
    {
      "cell_type": "code",
      "metadata": {
        "id": "tcVZBbu0VaGs"
      },
      "source": [
        "#Solved by:Vilma Mitra (MBA03)\n",
        "\n",
        "#Code/Answers below :"
      ],
      "execution_count": null,
      "outputs": []
    },
    {
      "cell_type": "code",
      "metadata": {
        "id": "xfIv9fh-BjSl"
      },
      "source": [
        "#(a)\n",
        "print (n=7)\n",
        "SyntaxError: invalid syntax\n",
        "#(b)\n",
        "print (5+7)\n",
        "12\n",
        "#(c)\n",
        "print (5.2,\"this\",4-2,\"that\",5/2.0)\n",
        "5.2 this 2 that 2.5"
      ],
      "execution_count": null,
      "outputs": []
    },
    {
      "cell_type": "markdown",
      "metadata": {
        "id": "3I_a52PBVf99"
      },
      "source": [
        "<pre>\n",
        "4.) Calculate root of the following equation:\n",
        "a) 34x^2 + 68x - 510\n",
        "b) 2x^2 - x -3 = 0\n",
        "</pre>"
      ]
    },
    {
      "cell_type": "code",
      "metadata": {
        "id": "caRYabFrXQ0X"
      },
      "source": [
        "#Solved by: Dinesh Kumar (AI01)\n",
        "\n",
        "#Code/Answers below :"
      ],
      "execution_count": null,
      "outputs": []
    },
    {
      "cell_type": "code",
      "metadata": {
        "id": "_xA1A8a12yXl",
        "outputId": "678353a2-9da3-4f80-9987-23af0bd9f5d2",
        "colab": {
          "base_uri": "https://localhost:8080/",
          "height": 34
        }
      },
      "source": [
        "##(a)\n",
        "import cmath\n",
        "\n",
        "a = 34 # coeffcients of power 2\n",
        "b = 68 # coefficient of power 1\n",
        "c = -510 # constant\n",
        "\n",
        "# calculate the discriminant\n",
        "d = (b**2) - (4*a*c) #Formula substitution d = b^2 - 4 X a X c\n",
        "\n",
        "# find two solutions\n",
        "sol1 = (-b-cmath.sqrt(d))/(2*a)\n",
        "sol2 = (-b+cmath.sqrt(d))/(2*a)\n",
        "\n",
        "print('The solution are {0} and {1}'.format(sol1,sol2))"
      ],
      "execution_count": null,
      "outputs": [
        {
          "output_type": "stream",
          "text": [
            "The solution are (-5+0j) and (3+0j)\n"
          ],
          "name": "stdout"
        }
      ]
    },
    {
      "cell_type": "code",
      "metadata": {
        "id": "dAr8oI6W3MDj",
        "outputId": "9fae3bc8-45d3-48cc-ba0a-bff6fac4fb6a",
        "colab": {
          "base_uri": "https://localhost:8080/",
          "height": 33
        }
      },
      "source": [
        "#(b)\n",
        "import cmath\n",
        "\n",
        "a = 2\n",
        "b = 1\n",
        "c = -3\n",
        "\n",
        "# calculate the discriminant\n",
        "d = (b**2) - (4*a*c)\n",
        "\n",
        "# find two solutions\n",
        "sol1 = (-b-cmath.sqrt(d))/(2*a)\n",
        "sol2 = (-b+cmath.sqrt(d))/(2*a)\n",
        "\n",
        "print('The solution are {0} and {1}'.format(sol1,sol2))"
      ],
      "execution_count": null,
      "outputs": [
        {
          "output_type": "stream",
          "text": [
            "The solution are (-1.5+0j) and (1+0j)\n"
          ],
          "name": "stdout"
        }
      ]
    },
    {
      "cell_type": "markdown",
      "metadata": {
        "id": "0Ho9sDe7XSgT"
      },
      "source": [
        "<pre>\n",
        "5.) Write a program that asks two people for their names; stores the names in\n",
        "variables called name1 and name2; says hello to both of them.\n",
        "</pre>"
      ]
    },
    {
      "cell_type": "code",
      "metadata": {
        "id": "5kg-3kiLX5r_"
      },
      "source": [
        "#Solved by:Rahul\n",
        "\n",
        "#Code/Answers below :"
      ],
      "execution_count": null,
      "outputs": []
    },
    {
      "cell_type": "code",
      "metadata": {
        "id": "sIK-UlrWohPj",
        "outputId": "d420c772-f9e9-4feb-df7c-73a7eac37a91",
        "colab": {
          "base_uri": "https://localhost:8080/",
          "height": 82
        }
      },
      "source": [
        "name1 = input('Enter Name1')\n",
        "name2 = input('Enter Name2')\n",
        "print (' Hello ',name1)\n",
        "print (' Hello ',name2)\n",
        "\n"
      ],
      "execution_count": null,
      "outputs": [
        {
          "output_type": "stream",
          "text": [
            "Enter Name1Rahul\n",
            "Enter Name2Anand\n",
            " Hello  Rahul\n",
            " Hello  Anand\n"
          ],
          "name": "stdout"
        }
      ]
    },
    {
      "cell_type": "markdown",
      "metadata": {
        "id": "n5uQrWWobklx"
      },
      "source": [
        "<pre>\n",
        "6.) Given a number, N from the user. Return 5 previous numbers from N and 5 consecutive numbers from N.\n",
        "</pre>"
      ]
    },
    {
      "cell_type": "code",
      "metadata": {
        "id": "fwBhBjQucZiC"
      },
      "source": [
        "#Solved by:Bharadwaz S (AI 01)\n",
        "\n",
        "#Code/Answers below :"
      ],
      "execution_count": null,
      "outputs": []
    },
    {
      "cell_type": "code",
      "metadata": {
        "id": "i8FyWt7tM4G1",
        "outputId": "e5ed24ce-18e3-4ebf-8aa9-26909c5abc26",
        "colab": {
          "base_uri": "https://localhost:8080/",
          "height": 66
        }
      },
      "source": [
        "def prev_cons(n):# Define function\n",
        "    print('Given number:',n) #Print the given number\n",
        "    print('Previous 5 numbers:',n-1,n-2,n-3,n-4,n-5) #print previous 5 numbers using simple subtraction in print statement\n",
        "    print('Consecutive 5 numbers:',n+1,n+2,n+3,n+4,n+5) #print next 5 numbers using simple addition in print statement\n",
        " \n",
        "prev_cons(15) #Call function to print previous 5 numbers and next 5 numbers for given number 15."
      ],
      "execution_count": null,
      "outputs": [
        {
          "output_type": "stream",
          "text": [
            "Given number: 15\n",
            "Previous 5 numbers: 14 13 12 11 10\n",
            "Consecutive 5 numbers: 16 17 18 19 20\n"
          ],
          "name": "stdout"
        }
      ]
    },
    {
      "cell_type": "markdown",
      "metadata": {
        "id": "PUGQ3RvaWih7"
      },
      "source": [
        "<hr>\n",
        "\n",
        "## <h4><b><center><u>CHAPTER-2 </u></center></b></h4>\n",
        "\n",
        "Page 137 to 157 from [11th Std Book.](http://www.cbseacademic.nic.in/web_material/doc/cs/1_Computer-Science-Python-Book-Class-XI.pdf)\n",
        "<br><br>\n",
        "<b>Extra Reading Materials :</b> \n",
        "\n",
        "[www.javatpoint.com/python-functions](https://www.javatpoint.com/python-functions) \n",
        "\n",
        "\n",
        "(Learn about \\*args & \\*\\*kwargs if possible)\n",
        "\n",
        "<hr>"
      ]
    },
    {
      "cell_type": "markdown",
      "metadata": {
        "id": "Hs0tcwXUQ2J7"
      },
      "source": [
        "# New Section"
      ]
    },
    {
      "cell_type": "markdown",
      "metadata": {
        "id": "7ZucZV29Xrek"
      },
      "source": [
        "<pre>\n",
        "1.) Write a function that accepts two parameters which are numbers.<br> The first parameter is the base while the second parameter is the exponential,<br> hence the function should return the power raised to of first parameter<br> Do this without using the math,cmath or any module.\n",
        "\n",
        "Eg: func(3,4)\n",
        ">>> 81   #This is the output (3 to the power of 4)\n",
        "</pre>"
      ]
    },
    {
      "cell_type": "code",
      "metadata": {
        "id": "Dp3o_KkoaZne"
      },
      "source": [
        "#Solved by :DineshKumarS(AI01)\n",
        "\n",
        "#Code/Answers below :"
      ],
      "execution_count": null,
      "outputs": []
    },
    {
      "cell_type": "code",
      "metadata": {
        "id": "LHvuTxBtOWoU",
        "outputId": "08982ba7-366b-42f0-e5c8-296b771d5bd4",
        "colab": {
          "base_uri": "https://localhost:8080/",
          "height": 33
        }
      },
      "source": [
        "def mPwr(m,n):\n",
        "  p = m\n",
        "  for i in range(1,n): #without using math , cmath or any module\n",
        "    p = p*m\n",
        "  return p\n",
        "mPwr(3,4)"
      ],
      "execution_count": null,
      "outputs": [
        {
          "output_type": "execute_result",
          "data": {
            "text/plain": [
              "81"
            ]
          },
          "metadata": {
            "tags": []
          },
          "execution_count": 3
        }
      ]
    },
    {
      "cell_type": "code",
      "metadata": {
        "id": "tsTEVo1Z1lc_",
        "outputId": "bfd821a3-cd25-4dfb-9757-7e0a48bedc33",
        "colab": {
          "base_uri": "https://localhost:8080/",
          "height": 36
        }
      },
      "source": [
        "#Alternate suggestion by : Saket Savarn (Intern)\n",
        "\n",
        "#Code/Answers below :\n",
        "def Pwr(m,n):\n",
        "  return m**n\n",
        "\n",
        "Pwr(3,4)"
      ],
      "execution_count": null,
      "outputs": [
        {
          "output_type": "execute_result",
          "data": {
            "text/plain": [
              "81"
            ]
          },
          "metadata": {
            "tags": []
          },
          "execution_count": 1
        }
      ]
    },
    {
      "cell_type": "markdown",
      "metadata": {
        "id": "aNev216GabOn"
      },
      "source": [
        "<pre>\n",
        "2.) Write two separate functions. The first function accepts the two numbers and performs addition<br> on them, while the second function takes the sum of the added numbers from the first function<br> and multiplies it with 10 and returns the product.<br> (Use \"Composition\" concept as mentioned in the 11th std book)"
      ]
    },
    {
      "cell_type": "code",
      "metadata": {
        "id": "Y7VjxDs-b_lQ"
      },
      "source": [
        "#Solved by : Bharadwaz S (AI01)\n",
        "\n",
        "#Code/Answers below :\n"
      ],
      "execution_count": null,
      "outputs": []
    },
    {
      "cell_type": "code",
      "metadata": {
        "id": "Jk_G-jgSATMF",
        "outputId": "049f5065-1725-480c-ba63-5dada3a51819",
        "colab": {
          "base_uri": "https://localhost:8080/",
          "height": 84
        }
      },
      "source": [
        "def addnum(x,y): #Two numbers will be passed as parameters\n",
        "    print(\"First number:\",x) #Print first number\n",
        "    print(\"Second number:\",y) #Print second number\n",
        "    z = x+y #Add both the numbers and store the result in z\n",
        "    print(\"Addition of two numbers:\",z) #Print the addition of both the numbers\n",
        "    return(z) #Return the addition of both the number i.e., z\n",
        "def prod(z): #One number will be passed as an input to the function\n",
        "    a = z*10 #Multiply the input with 10 and store it in variable 'a' \n",
        "    print(\"Result after multiplying with 10:\",a) #Print the product after multiplying with 10\n",
        "prod(addnum(2,10))   "
      ],
      "execution_count": null,
      "outputs": [
        {
          "output_type": "stream",
          "text": [
            "First number: 2\n",
            "Second number: 10\n",
            "Addition of two numbers: 12\n",
            "Result after multiplying with 10: 120\n"
          ],
          "name": "stdout"
        }
      ]
    },
    {
      "cell_type": "markdown",
      "metadata": {
        "id": "Nyg4mYZecA4x"
      },
      "source": [
        "<pre>\n",
        "3.) Write a function that increments the value of the given number (passed as a parameter) by 1.\n",
        "</pre>"
      ]
    },
    {
      "cell_type": "code",
      "metadata": {
        "id": "qJQJOWYud5SO"
      },
      "source": [
        "#Solved by :\n",
        "\n",
        "#Code/Answers below :"
      ],
      "execution_count": null,
      "outputs": []
    },
    {
      "cell_type": "markdown",
      "metadata": {
        "id": "9f25LDrud69W"
      },
      "source": [
        "<pre>\n",
        "4.) Given that 1 USD is equal to 73.42 INR. Write a function that converts USD to INR where the USD is the first argument<br> of that function. In case nothing is passed take the default parameter value for usd as 1.\n",
        "</pre>"
      ]
    },
    {
      "cell_type": "code",
      "metadata": {
        "id": "Lwy9SBrmfOmu",
        "outputId": "e02893e5-b40b-4f0e-9255-af418fb19de3",
        "colab": {
          "base_uri": "https://localhost:8080/",
          "height": 68
        }
      },
      "source": [
        "#Solved by : Prem Kumar KM\n",
        "\n",
        "#Code/Answers below :\n",
        "def DollartoINR(USD=1):#Function to convert USD to INR default value $1\n",
        "  INR = float(USD)*73.42 #USD value 73.42\n",
        "  return INR\n",
        "#Default $ value is considered for function \n",
        "print(\"The Default $1 value to INR:\",DollartoINR()) #Call function with default\n",
        "\n",
        "#Enter Dollar value for converion\n",
        "USD=float(input(\"Enter the $ Dollar Value for Conversion: \"))\n",
        "print(\"The Dollar:$\", USD , \"Value to INR is:\", DollartoINR(USD)) #call function with parameter \n"
      ],
      "execution_count": null,
      "outputs": [
        {
          "output_type": "stream",
          "text": [
            "The Default $1 value to INR: 73.42\n",
            "Enter the $ Dollar Value for Conversion: 6\n",
            "The Dollar:$ 6.0 Value to INR is: 440.52\n"
          ],
          "name": "stdout"
        }
      ]
    },
    {
      "cell_type": "markdown",
      "metadata": {
        "id": "glWDiLJ7ffyP"
      },
      "source": [
        "<Pre>\n",
        "5.) Write a function that accepts one parameter and returns it's data-type.\n",
        "</pre>"
      ]
    },
    {
      "cell_type": "code",
      "metadata": {
        "id": "KkqD2Meuf-85"
      },
      "source": [
        "#Solved by :Ashish Singh (BA05)\n",
        "\n",
        "#Code/Answers below :"
      ],
      "execution_count": null,
      "outputs": []
    },
    {
      "cell_type": "code",
      "metadata": {
        "id": "-TcGqj61BZ18",
        "outputId": "bdd26559-ac4b-4884-a1b2-3a24aec924a4",
        "colab": {
          "base_uri": "https://localhost:8080/",
          "height": 50
        }
      },
      "source": [
        "def acceptParam(a):\n",
        "  return type(a)\n",
        "print (acceptParam(1))\n",
        "print (acceptParam('1'))"
      ],
      "execution_count": null,
      "outputs": [
        {
          "output_type": "stream",
          "text": [
            "<class 'int'>\n",
            "<class 'str'>\n"
          ],
          "name": "stdout"
        }
      ]
    },
    {
      "cell_type": "markdown",
      "metadata": {
        "id": "9htIU2TFf_zq"
      },
      "source": [
        "<pre>\n",
        "6.) Write the first function that prints \"hello\" and calls another second function.<br> The second function prints \"bye\". So whenever the first function is run, the output is \"Hello\" and \"bye\"<br> but when only second function is run, only \"bye\" is the output.\n",
        "</pre>"
      ]
    },
    {
      "cell_type": "code",
      "metadata": {
        "id": "IgLz0yBFgfHm"
      },
      "source": [
        "#Solved by : Rahul Madagni (MBA02)\n",
        "\n",
        "#Code/Answers below :"
      ],
      "execution_count": null,
      "outputs": []
    },
    {
      "cell_type": "code",
      "metadata": {
        "id": "iOyxvEFjCbfY",
        "outputId": "82107ece-5c71-4ec1-bd0f-8e0f24a25187",
        "colab": {
          "base_uri": "https://localhost:8080/",
          "height": 50
        }
      },
      "source": [
        "def mPrint1():#using simple print and return statements\n",
        "  print (\"bye\")\n",
        "  return \"bye\"\n",
        "def mPrint2():\n",
        "  print (\"hello\",mPrint1()) \n",
        "\n",
        "mPrint2()"
      ],
      "execution_count": null,
      "outputs": [
        {
          "output_type": "stream",
          "text": [
            "bye\n",
            "hello bye\n"
          ],
          "name": "stdout"
        }
      ]
    },
    {
      "cell_type": "code",
      "metadata": {
        "id": "ONMkydaTFJJE"
      },
      "source": [
        "def mPrint1(a='')"
      ],
      "execution_count": null,
      "outputs": []
    },
    {
      "cell_type": "markdown",
      "metadata": {
        "id": "uAox6FmXMyOm"
      },
      "source": [
        "<hr>\n",
        "\n",
        "# <h1><u><center><b> GROUP-3 (G-3) : </b></center></u></h1>\n",
        "<h2>MEMBERS : </h2>\n",
        "\n",
        "\n",
        "1. **Pritam Patnaik (AI01) [LEADER]**  \n",
        "2.  Taiba (BA05) (ph.no.9631931467)\n",
        "3. Krishna Kant Roy (BA07) (Ph. No.- 9587278418) \n",
        "4. Milind Rotti (AI01)\n",
        "5. Ajita Patel (MBA04)\n",
        "6. Madhukeshwar R K (BA06)\n",
        "\n"
      ]
    },
    {
      "cell_type": "markdown",
      "metadata": {
        "id": "HEctYK-GUNGH"
      },
      "source": [
        "<hr>\n",
        "\n",
        "## <h4><b><center><u>CHAPTER-1 </u></center></b></h4>\n",
        "\n",
        "<hr>"
      ]
    },
    {
      "cell_type": "markdown",
      "metadata": {
        "id": "BOo4eR8RYUWJ"
      },
      "source": [
        "<pre>\n",
        "1.) Write a simple calculator program that displays an option of set of operators.<br> The user inputs two numbers and chooses the operator from the options shown.<br> The output should be the operation between the two numbers and that operator chosen.\n",
        "</pre>"
      ]
    },
    {
      "cell_type": "code",
      "metadata": {
        "id": "7koBhlRBawHr"
      },
      "source": [
        "#Solved by:Ajita Patel\n",
        "\n",
        "#Code/Answers below :\n",
        "num1 = float(input(\"Enter First Number: \"))\n",
        "num2 = float(input(\"Enter Second Number: \"))\n",
        "\n",
        "op = input(\"Enter the operation you want to perform   +,-,*,/ : \")\n",
        "\n",
        "result = 0\n",
        "if op == '+':\n",
        "    result = num1 + num2\n",
        "elif op == '-':\n",
        "    result = num1 - num2\n",
        "elif op == '*':\n",
        "    result = num1 * num2\n",
        "elif op == '/':\n",
        "    result = num1 / num2\n",
        "else:\n",
        "    print(\"Input character is not recognized!\")\n",
        "\n",
        "print(num1, op , num2, \":\", result)\n"
      ],
      "execution_count": null,
      "outputs": []
    },
    {
      "cell_type": "markdown",
      "metadata": {
        "id": "7SZoj_zdayQM"
      },
      "source": [
        "<pre>2.) The Body Mass Index, BMI, is calculated as\n",
        "<center>BMI = w / h^2;</center><br> (here, h is raised to power of 2)\n",
        "where w is the person’s weight in kg and h is the person’s height in metres. Write a program that\n",
        "asks the user for their height their weight and prints out their BMI."
      ]
    },
    {
      "cell_type": "code",
      "metadata": {
        "id": "wbjwq8VEbQgP"
      },
      "source": [
        "#Solved by : Taiba Naz, BA-05,Chapter1,Group 3\n",
        "\n",
        "#Code/Answers below :\n",
        "#Take the height and weight of the user,convert into float first for mathematical operation,then using formula calculate BMI and print it.\n",
        "w = float(input(\"Enter your weight in Kg:\"))\n",
        "h = float(input(\"Enter your height in meters:\"))\n",
        "x = round(w/(h**2),2)#using round function to get the result upto 2 decimal place.\n",
        "print(\"your BMI is \", x)"
      ],
      "execution_count": null,
      "outputs": []
    },
    {
      "cell_type": "markdown",
      "metadata": {
        "id": "V9dq3jwebgVj"
      },
      "source": [
        "<pre>\n",
        "3.) Write the value :\n",
        "i) 2*(3+4)\n",
        "ii) 2*3+4\n",
        "iii) 2+3*4\n",
        "</pre>"
      ]
    },
    {
      "cell_type": "code",
      "metadata": {
        "id": "Q54B6426dzAU"
      },
      "source": [
        "#Solved by : Krishna Kant Roy, BA-07, Chapter-1, Group-3\n",
        "\n",
        "#Code/Answers below :\n",
        "print (2*(3+4))\n",
        "print (2*3+4) \n",
        "print (2+3*4)  \n",
        "\n",
        "# print (\" \")  #for breaking the line \n",
        "print ('\\n')\n",
        "\n",
        "# or, it can be solved by below method- \n",
        "a =  (2*(3+4))\n",
        "b =  (2*3+4) \n",
        "c =  (2+3*4) \n",
        "print(a, b, c)  #can be printed all together \n",
        "print ('\\n')  # for breaking the line \n",
        "print(a)   #can be printed individually \n",
        "print(b)\n",
        "print(c)  \n",
        "\n",
        "print('\\n')\n",
        "# or, it can be solved by below method (without any programme) - \n",
        "#Print multiple statements in same line (magic statement)\n",
        "from IPython.core.interactiveshell import InteractiveShell\n",
        "InteractiveShell.ast_node_interactivity=\"all\" \n",
        "\n",
        "2*(3+4) \n",
        "print(' ') #just to break the line\n",
        "\n",
        "2*3+4 \n",
        "print(\" \") #for breaking the line\n",
        "\n",
        "2+3*4\n"
      ],
      "execution_count": null,
      "outputs": []
    },
    {
      "cell_type": "markdown",
      "metadata": {
        "id": "8IqcEv1dd0zM"
      },
      "source": [
        "<pre>\n",
        "4.) Accept age from the user and check if he/she is eligible for voting or not. (Take age criteria for voting as 18)."
      ]
    },
    {
      "cell_type": "code",
      "metadata": {
        "id": "3W_M-mNjfIXK"
      },
      "source": [
        "#Solved by :Pritam Patnaik AI01\n",
        "\n",
        "#Code/Answers below :\n",
        "age = int(input('Kindly enter your age'))\n",
        "\n",
        "if age >= 18:\n",
        "  print('You are eligible. Vote responsibly')\n",
        "else : \n",
        "  diff = 18-age\n",
        "  print('Try again after',diff,'year(s)')"
      ],
      "execution_count": null,
      "outputs": []
    },
    {
      "cell_type": "markdown",
      "metadata": {
        "id": "4sy5pUr4fKGM"
      },
      "source": [
        "<pre>\n",
        "5.) Record what happens when following statements are executed:\n",
        "a) print (n=8;n=1)\n",
        "b) print (145+57.0)\n",
        "c) print (17.1, \"this\", 167-245, \"that\", 16/4.0)\n",
        "d) print (type(len(str(\"HELLO\"))))"
      ]
    },
    {
      "cell_type": "code",
      "metadata": {
        "id": "05YbaGnNfy48"
      },
      "source": [
        "#Solved by :\n",
        " \n",
        "#Code/Answers below :"
      ],
      "execution_count": null,
      "outputs": []
    },
    {
      "cell_type": "markdown",
      "metadata": {
        "id": "ko5zAzqnuwgY"
      },
      "source": [
        "<pre>\n",
        "6. ) Print the multiplication table for variable, n which is inputted by an user.\n",
        "</pre>"
      ]
    },
    {
      "cell_type": "code",
      "metadata": {
        "id": "XChn2nV2vkXw"
      },
      "source": [
        "#Solved by : Madhukeshwar R K\n",
        "\n",
        "#Code/Answers below :\n",
        "# Python Program to Print Multiplication Table of a Number n\n",
        "n = int(input(\"Enter the number n : \")) # provide the number to print multiplication table\n",
        "\n",
        "print(\"Multiplication Table of\", n)\n",
        "for i in range(1, 11):  # for loop to get numbers from 1 to 10.\n",
        "   print(n,\"X\",i,\"=\",n * i) # multiplies the input number for the numbers 1 - 10 and prints the output"
      ],
      "execution_count": null,
      "outputs": []
    },
    {
      "cell_type": "markdown",
      "metadata": {
        "id": "0ZQup--7h1E5"
      },
      "source": [
        "<hr>\n",
        "\n",
        "## <h4><b><center><u>CHAPTER-2 </u></center></b></h4>\n",
        "\n",
        "Page 137 to 157 from [11th Std Book.](http://www.cbseacademic.nic.in/web_material/doc/cs/1_Computer-Science-Python-Book-Class-XI.pdf)\n",
        "<br><br>\n",
        "<b>Extra Reading Materials :</b> \n",
        "\n",
        "[www.javatpoint.com/python-functions](https://www.javatpoint.com/python-functions) \n",
        "\n",
        "\n",
        "(Learn about \\*args & \\*\\*kwargs if possible)\n",
        "\n",
        "<hr>"
      ]
    },
    {
      "cell_type": "markdown",
      "metadata": {
        "id": "a8J6IbElh20H"
      },
      "source": [
        "<pre>\n",
        "1.) Write a function that takes three float values as parameters and returns it's average.<br> In case the no. pass in the parameter is negative, it takes it's absolute or modulus value.\n",
        "</pre>"
      ]
    },
    {
      "cell_type": "code",
      "metadata": {
        "id": "y81clY7TiIqA",
        "outputId": "9340471c-6686-4018-976e-8ac9a1c88e66",
        "colab": {
          "base_uri": "https://localhost:8080/",
          "height": 35
        }
      },
      "source": [
        "#Solved by : Taiba Naz, BA-05,Chapter2,Group 3\n",
        "\n",
        "#Code/Answers below :\n",
        "#define average function,take 3 float values(x,y,z) as parameters\n",
        "#using absolute function convert any negative into its positive value\n",
        "def average(x,y,z):\n",
        "  x = abs(float(x))\n",
        "  y = abs(float(y))\n",
        "  z = abs(float(z))\n",
        "  average=(x+y+z)/3  #take the average of 3 numbers\n",
        "  print(\"average is\",average) \n",
        "  \n",
        "#Evaluate the result\n",
        "average(1,-2,3)  "
      ],
      "execution_count": null,
      "outputs": [
        {
          "output_type": "stream",
          "text": [
            "average is 2.0\n"
          ],
          "name": "stdout"
        }
      ]
    },
    {
      "cell_type": "markdown",
      "metadata": {
        "id": "Ce2LhsBEiK3M"
      },
      "source": [
        "<pre>\n",
        "2.) Write a function that has one parameter. Check if that parameter is in the range of 1 to 100<br> (where both 1 and 100 are inclusive in the range). If the number is in the range, print \"Success\" or else print \"failure\"."
      ]
    },
    {
      "cell_type": "code",
      "metadata": {
        "id": "q1Ktbm_GiwwO"
      },
      "source": [
        "#Solved by :\n",
        "\n",
        "#Code/Answers below :\n"
      ],
      "execution_count": null,
      "outputs": []
    },
    {
      "cell_type": "code",
      "metadata": {
        "id": "yK1YrSGjF47r",
        "outputId": "fd42cc9f-0095-4e87-f826-8a0f75b88781",
        "colab": {
          "base_uri": "https://localhost:8080/",
          "height": 35
        }
      },
      "source": [
        "#Alternative suggested by :Taiba Naz\n",
        "def check(n):\n",
        "  if n in range(1,101):\n",
        "    print(\"Success\")\n",
        "  else:\n",
        "    print(\"Failure\")  \n",
        "check(100)"
      ],
      "execution_count": null,
      "outputs": [
        {
          "output_type": "stream",
          "text": [
            "Success\n"
          ],
          "name": "stdout"
        }
      ]
    },
    {
      "cell_type": "markdown",
      "metadata": {
        "id": "2S1uBK04i1ej"
      },
      "source": [
        "<pre>\n",
        "3.) Write a function to 3 numbers as a parameter/argument and concatenate them.\n",
        "Eg: func(3,6,5)\n",
        ">>> 365 # This is the output\n",
        "</pre>"
      ]
    },
    {
      "cell_type": "code",
      "metadata": {
        "id": "IQI_kt-njK4G"
      },
      "source": [
        "#Solved by : Ajita Patel\n",
        "\n",
        "\n",
        "#Code/Answers below :\n",
        "def numConcat(x,y,z):\n",
        "    x=str(input(\"Enter first number: \"))\n",
        "    y=str(input(\"Enter second number: \"))\n",
        "    z=str(input(\"Enter third number: \"))\n",
        "    return x+y+z\n",
        "x=0\n",
        "y=0\n",
        "z=0\n",
        "print(numConcat(x,y,z))"
      ],
      "execution_count": null,
      "outputs": []
    },
    {
      "cell_type": "code",
      "metadata": {
        "id": "F0F_2AYwGLZV",
        "outputId": "af500eab-5466-425e-f436-723311cddce1",
        "colab": {
          "base_uri": "https://localhost:8080/",
          "height": 35
        }
      },
      "source": [
        "#Alternative suggested by :Taiba Naz\n",
        "def conc(a,b,c):\n",
        "  a=str(a)\n",
        "  b=str(b)\n",
        "  c=str(c)\n",
        "  conc =a+b+c\n",
        "  print(conc)\n",
        "conc(3,6,5)  "
      ],
      "execution_count": null,
      "outputs": [
        {
          "output_type": "stream",
          "text": [
            "365\n"
          ],
          "name": "stdout"
        }
      ]
    },
    {
      "cell_type": "markdown",
      "metadata": {
        "id": "OpavfIWojLun"
      },
      "source": [
        "<pre>\n",
        "4.) Write a function that accepts a parameter. If the parameter is an even number, then it calls another user-defined<br> function called even and prints \"even\", else it calls anohter function called odd and prints \"odd\".\n",
        "</pre>"
      ]
    },
    {
      "cell_type": "code",
      "metadata": {
        "id": "8LoNrhFGjtIT",
        "outputId": "0121ae49-d58c-40c0-f071-11e58045f6f0",
        "colab": {
          "base_uri": "https://localhost:8080/",
          "height": 51
        }
      },
      "source": [
        "#Solved by : Krishna Kant (BA07)\n",
        "\n",
        "#Code/Answers below : \n",
        "def fun (X):  #first define the conditional loop\n",
        "  if X%2 == 0:\n",
        "    print ('even') \n",
        "  else :\n",
        "    print ('odd') \n",
        "\n",
        "#Lets check \n",
        "fun(10)  \n",
        "fun (15)"
      ],
      "execution_count": null,
      "outputs": [
        {
          "output_type": "stream",
          "text": [
            "even\n",
            "odd\n"
          ],
          "name": "stdout"
        }
      ]
    },
    {
      "cell_type": "code",
      "metadata": {
        "id": "LAto6AVDH2O5",
        "outputId": "1edfa779-0964-49b8-cb32-66ea2a6753d5",
        "colab": {
          "base_uri": "https://localhost:8080/",
          "height": 53
        }
      },
      "source": [
        "#Alternative suggested by :Taiba Naz\n",
        "def fun(x):\n",
        "  if x%2 == 0:\n",
        "    even()\n",
        "  else:  \n",
        "      odd()\n",
        "\n",
        "def even():\n",
        "  print(\"even\")  \n",
        "\n",
        "def odd():\n",
        "  print(\"odd\")      \n",
        "\n",
        "fun(7)  \n",
        "fun(8)    "
      ],
      "execution_count": null,
      "outputs": [
        {
          "output_type": "stream",
          "text": [
            "odd\n",
            "even\n"
          ],
          "name": "stdout"
        }
      ]
    },
    {
      "cell_type": "markdown",
      "metadata": {
        "id": "Bl5AlCHCjuTS"
      },
      "source": [
        "<pre>\n",
        "5.) Write a function to check if the parameter passed in it is divisible by 10 or not.\n",
        "</pre>"
      ]
    },
    {
      "cell_type": "code",
      "metadata": {
        "id": "En81zaoYj7ob",
        "outputId": "715054d9-35a2-4f45-f7de-14a4eba4a875",
        "colab": {
          "base_uri": "https://localhost:8080/",
          "height": 35
        }
      },
      "source": [
        "#Solved by :Pritam Patnaik AI01\n",
        "\n",
        "#Code/Answers below :\n",
        "def divByTen(num):\n",
        "  if num%10==0:\n",
        "    print(num,'is Divisible by 10')\n",
        "  else:print('Not divisible')\n",
        "\n",
        "divByTen(101)"
      ],
      "execution_count": null,
      "outputs": [
        {
          "output_type": "stream",
          "text": [
            "Not divisible\n"
          ],
          "name": "stdout"
        }
      ]
    },
    {
      "cell_type": "code",
      "metadata": {
        "id": "07U_isna9U1B"
      },
      "source": [
        ""
      ],
      "execution_count": null,
      "outputs": []
    },
    {
      "cell_type": "markdown",
      "metadata": {
        "id": "BQHfBSwHj8n7"
      },
      "source": [
        "<pre>\n",
        "6.) Write a function that accepts a number as parameter, then it converts that number to negative of itself, multiplies<br> negative number by 10, adds 24 to this product, divides this sum by 5 and finally returns the quotient.\n",
        "</pre>"
      ]
    },
    {
      "cell_type": "code",
      "metadata": {
        "id": "1_Z6VYulsRJK",
        "outputId": "86ab4241-2266-48ff-b7f5-ed8f0af9b216",
        "colab": {
          "base_uri": "https://localhost:8080/",
          "height": 35
        }
      },
      "source": [
        "#Solved by : Madhukeshwar R K\n",
        "\n",
        "#Code/Answers below :\n",
        "def number(n):\n",
        "    n = n * (-1) # converts that number to negative of itself\n",
        "    n = n * 10   # multiplies negative number by 10\n",
        "    n = n + 24   # adds 24 to this product\n",
        "    n = int(n / 5)    # divides this sum by 5\n",
        "    return abs(n)     # returns the quotient\n",
        "\n",
        "number(10)"
      ],
      "execution_count": null,
      "outputs": [
        {
          "output_type": "execute_result",
          "data": {
            "text/plain": [
              "15"
            ]
          },
          "metadata": {
            "tags": []
          },
          "execution_count": 21
        }
      ]
    },
    {
      "cell_type": "markdown",
      "metadata": {
        "id": "in7xjTkot0zh"
      },
      "source": [
        "<hr>\n",
        "\n",
        "\n",
        "## **ANDREA**\n",
        "\n",
        "\n",
        "<hr>"
      ]
    },
    {
      "cell_type": "markdown",
      "metadata": {
        "id": "1o3hd5STNA0A"
      },
      "source": [
        "<hr>\n",
        "\n",
        "# <h1><u><center><b> GROUP-4 (G-4) : </b></center></u></h1>\n",
        "<h2>MEMBERS : </h2>\n",
        "\n",
        "\n",
        "1. **Jitendra Surya (PhD) [LEADER] 9845097325**  \n",
        "2.  Nidhil (MBA02)\n",
        "3. Suresha K (BA05) 9481848789\n",
        "4. Srikanth (AI01) (9886053890)\n",
        "5. Anand Limbare (BA05) 9916118517\n",
        "6. Bipin K B (BA07)\n",
        "\n",
        "\n",
        "\n"
      ]
    },
    {
      "cell_type": "markdown",
      "metadata": {
        "id": "kECfbvzAT_29"
      },
      "source": [
        "<hr>\n",
        "\n",
        "## <h4><b><center><u>CHAPTER-1 </u></center></b></h4>\n",
        "\n",
        "<hr>"
      ]
    },
    {
      "cell_type": "markdown",
      "metadata": {
        "id": "NGedrluYd4rH"
      },
      "source": [
        "<pre>\n",
        "1.) Write a program that asks the user to enter their name. Then print out the user’s name three times on\n",
        "the same line.\n",
        "</pre>"
      ]
    },
    {
      "cell_type": "code",
      "metadata": {
        "id": "UA797MQWf1-c",
        "outputId": "7d6da8c4-c1f7-446d-b1c8-7482b42cbb8b",
        "colab": {
          "base_uri": "https://localhost:8080/",
          "height": 122
        }
      },
      "source": [
        "Ok#Solved by : Suresha K\n",
        " \n",
        "#Code/Answers below :\n",
        "# To play the message to ask name of the user\n",
        "name = input(\"Hello, What is your name? \") # Type your name and hit Enter\n",
        "# To play the messgae with user's name three times on the same line\n",
        "print(\"Nice to meet you! \", name, name, name ) \n",
        "print(\"Nice to meet you! \", name*3) \n",
        "times=int(input(\"How many times do you need to repeat? \")) # Type number of times\n",
        "print(\"Nice to meet you! \", (name+\" \")*times)"
      ],
      "execution_count": null,
      "outputs": [
        {
          "output_type": "stream",
          "text": [
            "Hello, What is your name? Suresha\n",
            "Nice to meet you!  Suresha Suresha Suresha\n",
            "Nice to meet you!  SureshaSureshaSuresha\n",
            "How many times do you need to repeat? 15\n",
            "Nice to meet you!  Suresha Suresha Suresha Suresha Suresha Suresha Suresha Suresha Suresha Suresha Suresha Suresha Suresha Suresha Suresha \n"
          ],
          "name": "stdout"
        }
      ]
    },
    {
      "cell_type": "code",
      "metadata": {
        "id": "ayTF8jroH4HI",
        "outputId": "2e2ea052-dc08-49cf-84ae-dcbfdd53fe59",
        "colab": {
          "base_uri": "https://localhost:8080/",
          "height": 68
        }
      },
      "source": [
        "#Alternative suggested by : Srikanth\n",
        "\n",
        "#Code/Answers below :\n",
        "# To play the message to ask name of the user\n",
        "name = input(\"Hello, What is your name? \") # Type your name and hit Enter\n",
        "times = int(input(\"how many times do u want to repeat \"));\n",
        "# To play the messgae with user's name multiple times on the same line \n",
        "def printval(name,times):\n",
        "  print(\"Nice to meet you! {}\".format((name+\" \")*times));\n",
        "\n",
        "printval(name,times)"
      ],
      "execution_count": null,
      "outputs": [
        {
          "output_type": "stream",
          "text": [
            "Hello, What is your name? sriyaa\n",
            "how many times do u want to repeat 3\n",
            "Nice to meet you! sriyaa sriyaa sriyaa \n"
          ],
          "name": "stdout"
        }
      ]
    },
    {
      "cell_type": "markdown",
      "metadata": {
        "id": "htmJaQYlf7fv"
      },
      "source": [
        "<pre>\n",
        "2.) Accept the length of a square and return it's perimeter and area."
      ]
    },
    {
      "cell_type": "code",
      "metadata": {
        "id": "TTtceiE_gNT0",
        "outputId": "c4d33e40-e7c8-4202-94fe-d718d1543601",
        "colab": {
          "base_uri": "https://localhost:8080/",
          "height": 67
        }
      },
      "source": [
        "#Solved by :Srikanth\n",
        "\n",
        "#Code/Answers below :\n",
        "#To play the message to ask value of the square length\n",
        "value = int(input(\"Enter side length of Square: \"));\n",
        "area = value**2;\n",
        "perimeter = 4*value;\n",
        "#print the total area of the square\n",
        "print(\"Area of square is {}\".format(area));\n",
        "# Perimeter formula is 4 times length of square\n",
        "print(\"Perimeter of square is {}\".format(perimeter));\n"
      ],
      "execution_count": null,
      "outputs": [
        {
          "output_type": "stream",
          "text": [
            "Enter side length of Square: 5\n",
            "Area of square is 25\n",
            "Perimeter of square is 20\n"
          ],
          "name": "stdout"
        }
      ]
    },
    {
      "cell_type": "markdown",
      "metadata": {
        "id": "Yu2UmYR7gOrW"
      },
      "source": [
        "<pre>\n",
        "3.) We know that : -(-1-1) = 2; knowing this :\n",
        "Get the sum of any three numbers which are inputted by the user <b>\"without\"</b> using the addition operator or plus (+) symbol. "
      ]
    },
    {
      "cell_type": "code",
      "metadata": {
        "id": "SKHAJGfMg0RW",
        "outputId": "8e94e078-4d32-4bb2-d260-2b12dad446b5",
        "colab": {
          "base_uri": "https://localhost:8080/",
          "height": 34
        }
      },
      "source": [
        "#Solved by : srikanth\n",
        "\n",
        "#Code/Answers below :\n",
        "\n",
        "print(-(-1-2-3))"
      ],
      "execution_count": null,
      "outputs": [
        {
          "output_type": "stream",
          "text": [
            "6\n"
          ],
          "name": "stdout"
        }
      ]
    },
    {
      "cell_type": "markdown",
      "metadata": {
        "id": "oJb8SntRg2e_"
      },
      "source": [
        "<pre>\n",
        "4.) Which are correct type conversions? Also explain why are few of cases are failing to convert types.\n",
        "i) int (9.0+7)\n",
        "ii) str (1.7 * 1.4)\n",
        "iii) float (\"99\"+\"1.0\")\n",
        "iv) int (\"hello\")\n",
        "</pre>"
      ]
    },
    {
      "cell_type": "code",
      "metadata": {
        "id": "SfJOg2-Vha9N",
        "outputId": "a138d2f1-6c9a-4475-a0eb-f15aedda1948",
        "colab": {
          "base_uri": "https://localhost:8080/",
          "height": 34
        }
      },
      "source": [
        "#Solved by :Srikanth\n",
        "\n",
        "#Code/Answers below :\n",
        "\n",
        "int(9.0+7)  #this will ignore the decimal value and convert 9.0 to 9 and sum it with 7 the expected value is 16 not 16.0\n",
        "str(1.7*1.4) # we can convert the number into string the expected result is '2.38' and the output is converted into string\n",
        "float(\"99\"+ '1.0') # strings get concatinated addition the expected output is 991.0 not 100.0. \n",
        "#int(\"hello\") # cannot convert string to number"
      ],
      "execution_count": null,
      "outputs": [
        {
          "output_type": "execute_result",
          "data": {
            "text/plain": [
              "991.0"
            ]
          },
          "metadata": {
            "tags": []
          },
          "execution_count": 13
        }
      ]
    },
    {
      "cell_type": "markdown",
      "metadata": {
        "id": "iDpaYOM-hctf"
      },
      "source": [
        "<pre>\n",
        "5.) Accept two numbers and find the difference in such a way that the output of the difference is not a negative number.<br> Do this using an inbuilt function and without an inbuilt function, both ways.\n",
        "</pre>"
      ]
    },
    {
      "cell_type": "code",
      "metadata": {
        "id": "8BVJcLaajUCH"
      },
      "source": [
        "#without using inbuit function first square the differnce and then take the square root\n",
        "x=int(input(\"Enter 1st number \"))\n",
        "y=int(input(\"Enter 2nd number \"))\n",
        "diff1 = x-y\n",
        "print(int((diff1**2)**0.5))\n",
        "#using inbuilt function\n",
        "diff2=abs( x-y )\n",
        "print(diff2 )"
      ],
      "execution_count": null,
      "outputs": []
    },
    {
      "cell_type": "markdown",
      "metadata": {
        "id": "DELN-BlXwJna"
      },
      "source": [
        "<pre>\n",
        "6. ) Given a number, n from the user. If the number is even, print an odd no.<br> series from n to n+11, if it is variable n is an odd no., then print an even no. series from n to n+10."
      ]
    },
    {
      "cell_type": "code",
      "metadata": {
        "id": "ICDkf9m2h1Hd",
        "outputId": "9971a491-4070-4d07-a700-3fd4b98d9949",
        "colab": {
          "base_uri": "https://localhost:8080/",
          "height": 115
        }
      },
      "source": [
        "#Solved by : Bipin\n",
        "\n",
        "#Code/Answers below : \n",
        "\n",
        "n = int(input('Please Enter the Number: '))\n",
        "\n",
        "if n%2==0:\n",
        "    even_odd=0 #flag\n",
        "else:\n",
        "    even_odd=1 #flag\n",
        "    \n",
        "if even_odd==0: #for odd number\n",
        "    for i in range(1,11):\n",
        "        if (n+i)%2==1:\n",
        "            print(n+i)\n",
        "elif even_odd==1: #for even number\n",
        "    for i in range(1,10):\n",
        "        if (n+i)%2==0:\n",
        "            print(n+i)"
      ],
      "execution_count": null,
      "outputs": [
        {
          "output_type": "stream",
          "text": [
            "Please Enter the Number: 2\n",
            "3\n",
            "5\n",
            "7\n",
            "9\n",
            "11\n"
          ],
          "name": "stdout"
        }
      ]
    },
    {
      "cell_type": "markdown",
      "metadata": {
        "id": "p3GJPUlM-4vd"
      },
      "source": [
        "<hr>\n",
        "\n",
        "## <h4><b><center><u>CHAPTER-2 </u></center></b></h4>\n",
        "\n",
        "Page 137 to 157 from [11th Std Book.](http://www.cbseacademic.nic.in/web_material/doc/cs/1_Computer-Science-Python-Book-Class-XI.pdf)\n",
        "<br><br>\n",
        "<b>Extra Reading Materials :</b> \n",
        "\n",
        "[www.javatpoint.com/python-functions](https://www.javatpoint.com/python-functions) \n",
        "\n",
        "\n",
        "(Learn about \\*args & \\*\\*kwargs if possible)\n",
        "\n",
        "<hr>"
      ]
    },
    {
      "cell_type": "code",
      "metadata": {
        "id": "AWcAvZ5i8Q7X"
      },
      "source": [
        ""
      ],
      "execution_count": null,
      "outputs": []
    },
    {
      "cell_type": "markdown",
      "metadata": {
        "id": "B-UXVgWC_frG"
      },
      "source": [
        "<pre>\n",
        "1.) Write a function which accept two parameters and check if that if the first parameter is completely divisible<br> by the second parameter. If it is return True or else return False.\n",
        "</pre>"
      ]
    },
    {
      "cell_type": "code",
      "metadata": {
        "id": "PyLeJYQWIEfk",
        "outputId": "26f7bbab-06f3-452b-ea0f-fc8962bb310e",
        "colab": {
          "base_uri": "https://localhost:8080/",
          "height": 68
        }
      },
      "source": [
        "#Solved by : Suresha K\n",
        "\n",
        "#Code/Answers below :\n",
        "\n",
        "#input values, first number as n1 and second number as n2\n",
        "n1 = int(input('Enter n1: '))\n",
        "n2 = int(input('Enter n2: '))\n",
        "\n",
        "#define function to divide n1 by n2\n",
        "def divide(n1,n2):\n",
        "   return True if n1 % n2 == 0 else False\n",
        "\n",
        "#print result\n",
        "print(\"Is n1 divisible by n2 ? :\", divide(n1,n2))"
      ],
      "execution_count": null,
      "outputs": [
        {
          "output_type": "stream",
          "text": [
            "Enter n1: 18\n",
            "Enter n2: 3\n",
            "Is n1 divisible by n2 ? : True\n"
          ],
          "name": "stdout"
        }
      ]
    },
    {
      "cell_type": "markdown",
      "metadata": {
        "id": "7nGe15_XIF6o"
      },
      "source": [
        "<pre>\n",
        "2.) Write a function to find the smallest number among three parameters passed in the function.\n",
        "</pre>"
      ]
    },
    {
      "cell_type": "code",
      "metadata": {
        "id": "75XIXW9JIfPl",
        "outputId": "16fb191d-7dc3-440a-84ec-ebfc031572a3",
        "colab": {
          "base_uri": "https://localhost:8080/",
          "height": 107
        }
      },
      "source": [
        "#Solved by : Jitendra R\n",
        "\n",
        "#Code/Answers below :\n",
        "number1 = int(input('Enter First number : '))\n",
        "number2 = int(input('Enter Second number : '))\n",
        "number3 = int(input('Enter Third number : '))\n",
        "def largest(num1, num2, num3):\n",
        "    if (num1 > num2) and (num1 > num3):\n",
        "        largest_num = num1\n",
        "    elif (num2 > num1) and (num2 > num3):\n",
        "        largest_num = num2\n",
        "    else:\n",
        "        largest_num = num3\n",
        "    print(\"The largest of the 3 numbers is : \", largest_num)\n",
        "def smallest(num1, num2, num3):\n",
        "    if (num1 < num2) and (num1 < num3):\n",
        "        smallest_num = num1\n",
        "    elif (num2 < num1) and (num2 < num3):\n",
        "        smallest_num = num2\n",
        "    else:\n",
        "        smallest_num = num3\n",
        "    print(\"The smallest of the 3 numbers is : \", smallest_num)\n",
        "largest(number1, number2, number3)\n",
        "smallest(number1, number2, number3)"
      ],
      "execution_count": null,
      "outputs": [
        {
          "output_type": "stream",
          "text": [
            "Enter First number : 3\n",
            "Enter Second number : 7\n",
            "Enter Third number : 5\n",
            "The largest of the 3 numbers is :  7\n",
            "The smallest of the 3 numbers is :  3\n"
          ],
          "name": "stdout"
        }
      ]
    },
    {
      "cell_type": "markdown",
      "metadata": {
        "id": "XiuTe965IgYV"
      },
      "source": [
        "<pre>\n",
        "3.) Write a function that accepts a string as an argument. If the length of the string is even then print \"Even\" or<br> else print \"odd\".\n",
        "<pre>"
      ]
    },
    {
      "cell_type": "code",
      "metadata": {
        "id": "go1fdbN-Jxiy",
        "outputId": "5524cf34-7992-40db-c2d3-08a8ea1216d9",
        "colab": {
          "base_uri": "https://localhost:8080/",
          "height": 34
        }
      },
      "source": [
        "#Solved by : Srikanth\n",
        "\n",
        "#Code/Answers below :\n",
        "\n",
        "def strlength(val):\n",
        "  if(len(val)%2 == 0):\n",
        "    print('even')\n",
        "  else:\n",
        "    print(\"odd\")\n",
        "\n",
        "strlength('srikanth');"
      ],
      "execution_count": null,
      "outputs": [
        {
          "output_type": "stream",
          "text": [
            "even\n"
          ],
          "name": "stdout"
        }
      ]
    },
    {
      "cell_type": "markdown",
      "metadata": {
        "id": "OKj6YlUsJz8H"
      },
      "source": [
        "<pre>\n",
        "4.) Find the output of the follwing case 'a' and case 'b' and explain why they are having different outputs for print(x).\n",
        "</pre>\n",
        "<pre>\n",
        "a.)\n",
        ">>> x = 10\n",
        ">>> def f(a):\n",
        "        x = int(input(\"Enter no. any no. besides 10 : \"))\n",
        "        print (x)\n",
        ">>>\n",
        ">>> f(x)\n",
        ">>> print (x)\n",
        "</pre> \n",
        "<pre>\n",
        "b.)\n",
        ">>> x = 10\n",
        ">>> def g(a):\n",
        "        global x\n",
        "        x = int(input(\"Enter any no. besides 10 : \"))\n",
        "        print (x)\n",
        ">>>\n",
        ">>> g(x)\n",
        ">>> print (x)\n",
        "</pre> \n"
      ]
    },
    {
      "cell_type": "code",
      "metadata": {
        "id": "5lCwAEg6PG2_"
      },
      "source": [
        "#Solved by : Anand Limbare\n",
        "\n",
        "#Code/Answers below :\n",
        "#a. Enter no. any no. besides 10 : 8\n",
        "#8\n",
        "#10\n",
        "\n",
        "# I did this problem on 24th, did someone accidentally erase it?"
      ],
      "execution_count": null,
      "outputs": []
    },
    {
      "cell_type": "markdown",
      "metadata": {
        "id": "DS6pF4mUPpxS"
      },
      "source": [
        "<pre>\n",
        "5.) Write a function to accept the area of a square as the parameter and then return it's lenght of the side.\n",
        "</pre>"
      ]
    },
    {
      "cell_type": "code",
      "metadata": {
        "id": "kt1__DoUP4MG",
        "outputId": "8dbd9cec-517e-4a06-e477-d41ad10242d6",
        "colab": {
          "base_uri": "https://localhost:8080/",
          "height": 34
        }
      },
      "source": [
        "#Solved by : Bipin K B \n",
        " \n",
        "#Code/Answers below :\n",
        "def area (length):\n",
        "    a = length**2\n",
        "    return length\n",
        "\n",
        "print(\"Length of the side is: \",area(5))"
      ],
      "execution_count": null,
      "outputs": [
        {
          "output_type": "stream",
          "text": [
            "Length of the side is:  5\n"
          ],
          "name": "stdout"
        }
      ]
    },
    {
      "cell_type": "markdown",
      "metadata": {
        "id": "lkZe17JWP55i"
      },
      "source": [
        "<pre>\n",
        "6.) Let ABC be a function that accepts three parameters namely a,b and c respectively which are the length<br> of the sides of a triangle. Knowing that the pythagoras theorem is a<sup>2</sup> + b<sup>2</sup> = c<sup>2</sup>. Find if the given triangle<br> is a right-angled triangle or not. \n",
        "<br>\n",
        "Eg : \n",
        ">>> ABC(12,5,13) #As 12<sup>2</sup>+5<sup>2</sup> = 13<sup>2</sup>\n",
        "Given triangle is a right angled triangle.\n",
        ">>> ABC(10,10,10)\n",
        "Not a right angled triangle"
      ]
    },
    {
      "cell_type": "code",
      "metadata": {
        "id": "b9TbqpyiRcVZ",
        "outputId": "fc1d09d7-33e0-419b-83f8-f5946e78b69c",
        "colab": {
          "base_uri": "https://localhost:8080/",
          "height": 51
        }
      },
      "source": [
        "#Solved by :Srikanth\n",
        "\n",
        "#Code/Answers below :\n",
        "\n",
        "def ABC(a,b,c):\n",
        "  if(a**2 + b**2 == c**2):\n",
        "    print('Given triangle is a right angled triangl')\n",
        "  else:\n",
        "    print(\"Not a right angled triangle\")\n",
        "\n",
        "ABC(12,5,13)\n",
        "ABC(10,10,10)\n"
      ],
      "execution_count": null,
      "outputs": [
        {
          "output_type": "stream",
          "text": [
            "Given triangle is a right angled triangl\n",
            "Not a right angled triangle\n"
          ],
          "name": "stdout"
        }
      ]
    },
    {
      "cell_type": "markdown",
      "metadata": {
        "id": "dYSyj7S4NCIs"
      },
      "source": [
        "<hr>\n",
        "\n",
        "# <h1><u><center><b> GROUP-5 (G-5) : </b></center></u></h1>\n",
        "<h2>MEMBERS : </h2>\n",
        "\n",
        "\n",
        "1. **Kiran Muloor (MBA04) [LEADER]** -- 8197418010  \n",
        "2. Tonima (BA06)\n",
        "3. Anshumaan Dash (MBA03)\n",
        "4. Ravi Prabhakar (MBA03)\n",
        "5. Parimala (MBA02)\n",
        "6. Mutturaj Uppaladinni (BA05)\n"
      ]
    },
    {
      "cell_type": "markdown",
      "metadata": {
        "id": "oOoesydDT7Rk"
      },
      "source": [
        "<hr>\n",
        "\n",
        "## <h4><b><center><u> CHAPTER-1 </u></center></b></h4>\n",
        "\n",
        "<hr>"
      ]
    },
    {
      "cell_type": "markdown",
      "metadata": {
        "id": "hZCucdUzh3Lp"
      },
      "source": [
        "<pre>\n",
        "1.) Accept the length and breadth of a rectangle and return it's perimeter and area."
      ]
    },
    {
      "cell_type": "code",
      "metadata": {
        "id": "68oPAjHNiBej",
        "outputId": "1ac8e01f-ac1e-4758-9051-7d0110084729",
        "colab": {
          "base_uri": "https://localhost:8080/",
          "height": 68
        }
      },
      "source": [
        "#Solved by :Kiran Muloor\n",
        "recLn = float(input(\"Enter Length for rectangle:\"))\n",
        "recBd = float(input(\"Enter Breadth for rectangle:\"))\n",
        "\n",
        "#Code/Answers below : Perimeter = 2(L+B)\n",
        "sPerimeter = 2* ( recLn + recBd)\n",
        "\n",
        "print(\"Perimeter of the rectangle is :\"+ str(sPerimeter))"
      ],
      "execution_count": null,
      "outputs": [
        {
          "output_type": "stream",
          "text": [
            "Enter Length for rectangle:10\n",
            "Enter Breadth for rectangle:2\n",
            "Perimeter of the rectangle is :24.0\n"
          ],
          "name": "stdout"
        }
      ]
    },
    {
      "cell_type": "markdown",
      "metadata": {
        "id": "WYAfUnTZiGgJ"
      },
      "source": [
        "<pre>\n",
        "2.) Calculate root of the following equation:\n",
        "a) 3x^2 - x - 10 = 0\n",
        "b) 2x^2 - 5x + 3 = 0\n",
        "(Here, ^2 means raised to power of 2)\n",
        "</pre>"
      ]
    },
    {
      "cell_type": "code",
      "metadata": {
        "id": "_uw6CMcni594",
        "outputId": "1361426e-1ac1-452f-ad27-98e3bd5b7773",
        "colab": {
          "base_uri": "https://localhost:8080/",
          "height": 90
        }
      },
      "source": [
        "#Solved by : Ravi Mummigatti\n",
        "#Code/Answers below :\n",
        "\n",
        "###### How to solve a quadratic equation #######\n",
        "# Roots of a quadratic equation of the form ax^2 + bx + c = 0 are given by the formula\n",
        "# x1 = (-b + sqrt(d))/2a\n",
        "# x2 = (-b - sqrt(d))/2a\n",
        "# We call the term b2 −4ac the discriminant d\n",
        "# d = (b^2 - 4ac) \n",
        "# a , b , c are the co-effecients of the respective terms of the quadratic equation\n",
        "# Roots are also called x-intercepts or zeros\n",
        "#################################################\n",
        "\n",
        "## Equations to solve \n",
        "## 1st equation : 3x^2 - x - 10 = 0\n",
        "## 2nd equation : 2x^2 - 5x + 3 = 0\n",
        "\n",
        "# Step 1 : import complex math module \n",
        "import cmath\n",
        "\n",
        "# Step 2: define the co-efficients\n",
        "## co-effieient of x^2\n",
        "a1 = 3                # co-efficient of x^2 for the 1st equation\n",
        "a2 = 2                # co-efficient of x^2 for the 2nd equation\n",
        "\n",
        "## co-efficient of x\n",
        "b1 = -1               # co-efficient of x for the 1st equation\n",
        "b2 = -5               # co-efficient of x for the 2nd equation\n",
        "\n",
        "## constant terms\n",
        "c1 = -10              # constant term for the 1st equation\n",
        "c2 = 3                # constant term for the 2nd equation\n",
        "\n",
        "# Step 3 : calculate and define the discriminants\n",
        "d1 = b1^2 - 4*a1*c1 # discriminat for the 1st equation\n",
        "d2 = b2^2 - 4*a2*c2 # discriminant for the 2nd equation\n",
        "\n",
        "\n",
        "# Step 4 : calculate the roots root 1 and root 2\n",
        "root1e1 = (-b1 + cmath.sqrt(d1))/2*a1 # 1st root\n",
        "root2e1 = (-b1 - cmath.sqrt(d1)) / 2*a1 # 2nd root\n",
        "root1e2 = (-b2 + cmath.sqrt(d2))/2*a2 # 1st root\n",
        "root2e2 = (-b2 - cmath.sqrt(d2)) / 2*a2 # 2nd root\n",
        "\n",
        "# Step 5 : print the results\n",
        "print(\"The 1st root of the equation 3x^2 - x - 10 = 0 is : \" , root1e1)\n",
        "print(\"The 2nd root of the equation 3x^2 - x - 10 = 0 is : \" , root2e1)\n",
        "print(\"The 1st root of the equation 2x^2 - 5x + 3 = 0 is : \" , root1e2)\n",
        "print(\"The 2nd root of the equation 2x^2 - 5x + 3 = 0 is : \" , root2e2)"
      ],
      "execution_count": null,
      "outputs": [
        {
          "output_type": "stream",
          "text": [
            "The 1st root of the equation 3x^2 - x - 10 = 0 is :  (1.5+16.635804759614125j)\n",
            "The 2nd root of the equation 3x^2 - x - 10 = 0 is :  (1.5-16.635804759614125j)\n",
            "The 1st root of the equation 2x^2 - 5x + 3 = 0 is :  (9.123105625617661+0j)\n",
            "The 2nd root of the equation 2x^2 - 5x + 3 = 0 is :  (0.8768943743823394+0j)\n"
          ],
          "name": "stdout"
        }
      ]
    },
    {
      "cell_type": "markdown",
      "metadata": {
        "id": "jU4BNmm3SwcP"
      },
      "source": [
        "# New Section"
      ]
    },
    {
      "cell_type": "code",
      "metadata": {
        "id": "bhe3hvepeBlr",
        "outputId": "9bafcecd-e962-41ce-aeed-5ff2e8d33d8a",
        "colab": {
          "base_uri": "https://localhost:8080/",
          "height": 51
        }
      },
      "source": [
        "#Alternative suggested by :Taiba Naz\n",
        "\"\"\"Above equation can been solved easily with/without the help of function &evaluated the result\"\"\"\n",
        "#if quadratic equation a(x**2)+bx+c=0, then x1=(-b+math.sqrt((b**2)-4*a*c)))/2*a,x2=(-b-math.sqrt((b**2)-4*a*c)))/2*a\n",
        "import math\n",
        "def root_quad_equ(a,b,c):\n",
        "  d=b**2-4*a*c# if it is positive, we get two Real solutions\n",
        "  print(\"d is \",d)\n",
        "  x1 = round((-b+math.sqrt((b**2)-(4*(a*c))))/(2*a),2)\n",
        "  x2 = round((-b-math.sqrt((b**2)-(4*(a*c))))/(2*a),2)\n",
        "  print(\"roots of equation is \",x1,\"&\",x2)\n",
        "root_quad_equ(3,-1,-10)\n"
      ],
      "execution_count": null,
      "outputs": [
        {
          "output_type": "stream",
          "text": [
            "d is  121\n",
            "roots of equation is  2.0 & -1.67\n"
          ],
          "name": "stdout"
        }
      ]
    },
    {
      "cell_type": "code",
      "metadata": {
        "id": "C9u6FyQwe51a",
        "outputId": "ebe0cb24-913b-4306-f77a-9cace3860a53",
        "colab": {
          "base_uri": "https://localhost:8080/",
          "height": 34
        }
      },
      "source": [
        "#Evaluate the result\n",
        "x1=2.0\n",
        "x2=-1.67\n",
        "y1=round(3*(x1**2)-x1-10,2)# it should be zero if 1st root is right\n",
        "y2=round(3*(x2**2)-x2-10,2)# it should again zero if 2nd root is right\n",
        "print(y1,\"&\",y2,\"~ 0\")"
      ],
      "execution_count": null,
      "outputs": [
        {
          "output_type": "stream",
          "text": [
            "0.0 & 0.04 ~ 0\n"
          ],
          "name": "stdout"
        }
      ]
    },
    {
      "cell_type": "markdown",
      "metadata": {
        "id": "hE5QiYg7jGVu"
      },
      "source": [
        "<pre>\n",
        "3.) Write a code that accepts your name and bday and prints the <br>name and the Birthday and gives output as \"Hello NAME, Your bday is on Jan 1\".\n",
        "</pre>"
      ]
    },
    {
      "cell_type": "code",
      "metadata": {
        "id": "KH7BDQcMj3Ty",
        "outputId": "3c4eed3c-83e2-4e93-b045-3caa4238e800",
        "colab": {
          "base_uri": "https://localhost:8080/",
          "height": 68
        }
      },
      "source": [
        "#Solved by :Kiran Muloor\n",
        "from datetime import datetime\n",
        "\n",
        "sName = input(\"Enter your Name:\")\n",
        "\n",
        "date_entry = input('Enter a date in YYYY-MM-DD format')\n",
        "year, month, day = map(int, date_entry.split('-'))\n",
        "sDOB = datetime(year, month, day)\n",
        "\n",
        "\n",
        "#Code/Answers below :\n",
        "print(\"Hello %s, your bday is on %s\"%(sName,sDOB)) "
      ],
      "execution_count": null,
      "outputs": [
        {
          "output_type": "stream",
          "text": [
            "Enter your Name:asf\n",
            "Enter a date in YYYY-MM-DD format2012-2-22\n",
            "Hello asf, your bday is on 2012-02-22 00:00:00\n"
          ],
          "name": "stdout"
        }
      ]
    },
    {
      "cell_type": "code",
      "metadata": {
        "id": "43OF1cq6loVt",
        "outputId": "c01c0aff-3518-4709-8221-010c44baff32",
        "colab": {
          "base_uri": "https://localhost:8080/",
          "height": 68
        }
      },
      "source": [
        "#Alternative suggested by :Taiba Naz\n",
        "#Birthday we never say with time and year,we just mention the day & month,right??\n",
        "#simple solution should be\n",
        "name=input(\"Enter your name \")\n",
        "bday=input(\"Enter your birthday \")\n",
        "print(\"Hello,\",name, \"Your birthday is on\",bday)"
      ],
      "execution_count": null,
      "outputs": [
        {
          "output_type": "stream",
          "text": [
            "Enter your name Sheza\n",
            "Enter your birthday 28th August\n",
            "Hello, Sheza Your birthday is on 28th August\n"
          ],
          "name": "stdout"
        }
      ]
    },
    {
      "cell_type": "markdown",
      "metadata": {
        "id": "zRa0jxhKj5at"
      },
      "source": [
        "<pre>\n",
        "4.) Write a program that asks the user to enter a distance in kilometers and then prints out how far that\n",
        "distance is in miles. There are 0.621371 miles in one kilometer.\n",
        "</pre>"
      ]
    },
    {
      "cell_type": "code",
      "metadata": {
        "id": "AnVm8FTFO1IF"
      },
      "source": [
        ""
      ],
      "execution_count": null,
      "outputs": []
    },
    {
      "cell_type": "code",
      "metadata": {
        "id": "TdKRLVV3kdrk",
        "outputId": "ee5cfdda-42a7-4262-8667-49f1a78a3cde",
        "colab": {
          "base_uri": "https://localhost:8080/",
          "height": 50
        }
      },
      "source": [
        "#Solved by :Mutturaj UPPALADINNI\n",
        "\n",
        "#Code/Answers below : \n",
        "km = int(input(\"Enter the value in kilometers: \"))\n",
        "# 1 Kilometre = 0.621371 Mile\n",
        "ratio = 0.621371\n",
        "# Converting km to mi.\n",
        "mi = km * ratio\n",
        "print(\"The entered value in Miles: \", mi)"
      ],
      "execution_count": null,
      "outputs": [
        {
          "output_type": "stream",
          "text": [
            "Enter the value in kilometers: 1\n",
            "The entered value in Miles:  0.621371\n"
          ],
          "name": "stdout"
        }
      ]
    },
    {
      "cell_type": "markdown",
      "metadata": {
        "id": "khEfcZZLkhGj"
      },
      "source": [
        "<pre>\n",
        "5.) Write the value :\n",
        "i) 7*(4+5)\n",
        "ii) 7*4+5\n",
        "iii) 7+4*5\n",
        "</pre> "
      ]
    },
    {
      "cell_type": "code",
      "metadata": {
        "id": "QPfP8k_jWJNO",
        "outputId": "dfa4b188-12d8-4619-8e62-be8241123cbd",
        "colab": {
          "base_uri": "https://localhost:8080/",
          "height": 68
        }
      },
      "source": [
        "#Solved by :Parimala Mudimela\n",
        "\n",
        "#Code/Answers below :\n",
        "#i\n",
        "print(7*(4+5))\n",
        "#ii\n",
        "print(7*4+5)\n",
        "#iii\n",
        "print(7+4*5)\n"
      ],
      "execution_count": null,
      "outputs": [
        {
          "output_type": "stream",
          "text": [
            "63\n",
            "33\n",
            "27\n"
          ],
          "name": "stdout"
        }
      ]
    },
    {
      "cell_type": "code",
      "metadata": {
        "id": "TFN2SFy222aY",
        "outputId": "7a4d4892-5b90-48dc-863d-3948129ecd87",
        "colab": {
          "base_uri": "https://localhost:8080/",
          "height": 68
        }
      },
      "source": [
        "#Solved by :Parimala Mudimela\n",
        "\n",
        "#Code/Answers below :\n",
        "#i\n",
        "A=7*(4+5)\n",
        "print(\"The result of i) is %d\"%A)\n",
        "#ii\n",
        "B=7*4+5\n",
        "print(\"The result of ii) is %d\"%B)\n",
        "#iii\n",
        "C=7+4*5\n",
        "print(\"The result of iii) is %d\"%C)"
      ],
      "execution_count": null,
      "outputs": [
        {
          "output_type": "stream",
          "text": [
            "The result of i) is 63\n",
            "The result of ii) is 33\n",
            "The result of iii) is 27\n"
          ],
          "name": "stdout"
        }
      ]
    },
    {
      "cell_type": "markdown",
      "metadata": {
        "id": "vrQKR4tLVjyT"
      },
      "source": [
        "<pre>\n",
        "6.) Calculate root of the following equation:\n",
        "i) u^2−5u−14 = 0\n",
        "ii) 6w^2−w = 5 \n",
        "\n",
        "(Here, ^2 means raised to the power of 2)\n",
        "</pre>"
      ]
    },
    {
      "cell_type": "code",
      "metadata": {
        "id": "6IH9QG99V8gc",
        "outputId": "5aec712f-d467-45f4-a2b2-c957576f03b9",
        "colab": {
          "base_uri": "https://localhost:8080/",
          "height": 51
        }
      },
      "source": [
        "#Solved by :Taiba Naz\n",
        "\n",
        "#Code/Answers below : \n",
        "#if quadratic equation a(x**2)+bx+c=0, then x1=(-b+math.sqrt((b**2)-4*a*c)))/2*a,x2=(-b-math.sqrt((b**2)-4*a*c)))/2*a\n",
        "import math\n",
        "def root_quad_equ(a,b,c):\n",
        "  d=b**2-4*a*c# if it is positive, we get two Real solutions\n",
        "  print(\"d is \",d)\n",
        "  u1 = round((-b+math.sqrt((b**2)-(4*(a*c))))/(2*a),2)\n",
        "  u2 = round((-b-math.sqrt((b**2)-(4*(a*c))))/(2*a),2)\n",
        "  print(\"roots of equation is \",u1,\"&\",u2)\n",
        "root_quad_equ(1,-5,-14)\n",
        "\n"
      ],
      "execution_count": null,
      "outputs": [
        {
          "output_type": "stream",
          "text": [
            "d is  81\n",
            "roots of equation is  7.0 & -2.0\n"
          ],
          "name": "stdout"
        }
      ]
    },
    {
      "cell_type": "code",
      "metadata": {
        "id": "FAGBf1QMhOoF",
        "outputId": "1d160295-b68a-4503-adee-512da019c26e",
        "colab": {
          "base_uri": "https://localhost:8080/",
          "height": 51
        }
      },
      "source": [
        "#for 6w^2−w = 5 i.e 6w^2−w-5 =0\n",
        "root_quad_equ(6,-1,-5)\n"
      ],
      "execution_count": null,
      "outputs": [
        {
          "output_type": "stream",
          "text": [
            "d is  121\n",
            "roots of equation is  1.0 & -0.83\n"
          ],
          "name": "stdout"
        }
      ]
    },
    {
      "cell_type": "markdown",
      "metadata": {
        "id": "qgF91PnoRxly"
      },
      "source": [
        "<hr>\n",
        "\n",
        "## <h4><b><center><u>CHAPTER-2 </u></center></b></h4>\n",
        "\n",
        "Page 137 to 157 from [11th Std Book.](http://www.cbseacademic.nic.in/web_material/doc/cs/1_Computer-Science-Python-Book-Class-XI.pdf)\n",
        "<br><br>\n",
        "<b>Extra Reading Materials :</b> \n",
        "\n",
        "[www.javatpoint.com/python-functions](https://www.javatpoint.com/python-functions) \n",
        "\n",
        "\n",
        "(Learn about \\*args & \\*\\*kwargs if possible)\n",
        "\n",
        "<hr>"
      ]
    },
    {
      "cell_type": "markdown",
      "metadata": {
        "id": "9XFhYUrwRzy3"
      },
      "source": [
        "<pre>\n",
        "1.) Understand the \"Composition\" concept from the 11th book and demonstrate the example of 3 user-defined functions<br> using composition concept.\n",
        "Eg : \n",
        ">>> f1(f2(f3(x))"
      ]
    },
    {
      "cell_type": "code",
      "metadata": {
        "id": "aCCp8cALS9_l"
      },
      "source": [
        "#Solved by : Kiran Muloor\n",
        "\n",
        "#Code/Answers below :Composition is an art of combining simple function(s) to build more complicated ones,\n",
        "#i.e., result of one function is used as the input to another.\n",
        "#Suppose we have two functions fn1 & fn2, such that\n",
        "# a= fn2 (x)\n",
        "# b= fn1 (a)\n",
        "# then call to the two functions can be combined as\n",
        "# b= fn1 (fn2 (x)).\n",
        "\n",
        "def fn1(x):\n",
        "  return x;\n",
        "\n",
        "def fn2(a):\n",
        "  return 1 + a;\n",
        "\n",
        "def fn3(b):\n",
        "  return 2+ b;"
      ],
      "execution_count": null,
      "outputs": []
    },
    {
      "cell_type": "code",
      "metadata": {
        "id": "zFASgZs0evzu",
        "outputId": "5553c547-e9be-4129-8aeb-018def8c76f3",
        "colab": {
          "base_uri": "https://localhost:8080/",
          "height": 33
        }
      },
      "source": [
        "fn1(fn2(fn3(10)))\n",
        "\n",
        "#Answer : function fn3 will be called first\n",
        "# with the input value then fn2 and finally f1 will be executed.\n",
        "# fn3--> fn2-->fn1 with result\n"
      ],
      "execution_count": null,
      "outputs": [
        {
          "output_type": "execute_result",
          "data": {
            "text/plain": [
              "13"
            ]
          },
          "metadata": {
            "tags": []
          },
          "execution_count": 2
        }
      ]
    },
    {
      "cell_type": "markdown",
      "metadata": {
        "id": "cZDameGdS_oh"
      },
      "source": [
        "<pre>\n",
        "2.) Write a function that has two parameters. The first parameters accepts distance in km while the second parameters<br> accepts the time in hours. Calculate the speed in km/hr using this function & return it.\n",
        "</pre>"
      ]
    },
    {
      "cell_type": "code",
      "metadata": {
        "id": "XrFSiWCiTr6R",
        "outputId": "3d3cf7bb-8d93-42b9-b6b0-cf41b1589162",
        "colab": {
          "base_uri": "https://localhost:8080/",
          "height": 83
        }
      },
      "source": [
        "#Solved by :Mutturaj UPPALADINNI\n",
        "\n",
        "# Code/Answers below :\n",
        "#The formula for speed is speed = distance ÷ time. To work out what the units are for speed, you need to know the units for distance and time. In this example, \n",
        "# distance is in Kilometers(km) and time is in Hour(Hr), so the units will be in Kilometers per Hours (Km/Hr).\n",
        "\n",
        "\n",
        "# Function to calculate speed \n",
        "def cal_speed(dist, time): \n",
        "\tprint(\" Distance(km) :\", dist); \n",
        "\tprint(\" Time(hr) :\", time); \n",
        "\treturn dist / time; \n",
        "\n",
        "# Calling function cal_speed() \n",
        "print(\" The calculated Speed(km / hr) is :\", \n",
        "\t\t\t\t\tcal_speed(45, 1.5 )); \n",
        "print(\"\"); "
      ],
      "execution_count": null,
      "outputs": [
        {
          "output_type": "stream",
          "text": [
            " Distance(km) : 45\n",
            " Time(hr) : 1.5\n",
            " The calculated Speed(km / hr) is : 30.0\n",
            "\n"
          ],
          "name": "stdout"
        }
      ]
    },
    {
      "cell_type": "markdown",
      "metadata": {
        "id": "2g6g8OyfTtzM"
      },
      "source": [
        "<pre>\n",
        "3.) Write a function that accepts a number as a parameter and reduces it by 1 and then returns it.\n",
        "</pre>"
      ]
    },
    {
      "cell_type": "code",
      "metadata": {
        "id": "22B-oLTCUSgR",
        "outputId": "952dccf2-51c7-4b25-cf84-e9c536cef55b",
        "colab": {
          "base_uri": "https://localhost:8080/",
          "height": 53
        }
      },
      "source": [
        "#Solved by :Taiba Naz\n",
        "\n",
        "#Code/Answers below :\n",
        "def redby1():\n",
        "  n=int(input(\"enter a number \"))\n",
        "  x = n-1\n",
        "  return x\n",
        "redby1()\n",
        "\n",
        "\n"
      ],
      "execution_count": null,
      "outputs": [
        {
          "output_type": "stream",
          "text": [
            "enter a number 5\n"
          ],
          "name": "stdout"
        },
        {
          "output_type": "execute_result",
          "data": {
            "text/plain": [
              "4"
            ]
          },
          "metadata": {
            "tags": []
          },
          "execution_count": 31
        }
      ]
    },
    {
      "cell_type": "markdown",
      "metadata": {
        "id": "UIm2OU3EKRpR"
      },
      "source": [
        "4.) Write a function that accepts three numbers as the parameter and returns the number which isn't the largest and which isn't the smallest. It returns the middle value"
      ]
    },
    {
      "cell_type": "code",
      "metadata": {
        "id": "JZOxIxWRJv8-",
        "outputId": "a9dde0e9-1cbc-4eb3-bf24-5bd881f40eef",
        "colab": {
          "base_uri": "https://localhost:8080/",
          "height": 84
        }
      },
      "source": [
        "#Solved by : Tonima Paul\n",
        "\n",
        "#Code/Answers below :\n",
        "\n",
        "number1 = input('Enter First number : ')\n",
        "number2 = input('Enter Second number : ')\n",
        "number3 = input('Enter Third number : ')\n",
        "\n",
        "def MiddleNumber(num1, num2, num3):\n",
        "    if (num1 > num2) and (num1 < num3):\n",
        "        mid_num = num1\n",
        "    elif (num1 < num2) and (num1 > num3):\n",
        "        mid_num = num1\n",
        "    elif (num2 < num1) and (num2 > num3):\n",
        "        mid_num = num2\n",
        "    elif (num2 > num1) and (num2 < num3):\n",
        "        mid_num = num2\n",
        "    else:\n",
        "        mid_num = num3\n",
        "    print(\"The middle number of the 3 numbers is : \", mid_num)\n",
        "\n",
        "MiddleNumber(number1, number2, number3)"
      ],
      "execution_count": null,
      "outputs": [
        {
          "output_type": "stream",
          "text": [
            "Enter First number : 7.7\n",
            "Enter Second number : 2.2\n",
            "Enter Third number : 9.8\n",
            "The middle number of the 3 numbers is :  7.7\n"
          ],
          "name": "stdout"
        }
      ]
    },
    {
      "cell_type": "markdown",
      "metadata": {
        "id": "5JCziy7wU3H9"
      },
      "source": [
        "<pre>\n",
        "5.) Write a function that two numbers as the paramter and if no values are passed into the function on running it<br> uses default values as 10,20. Return the larger even number among the two no.s, if none of them<br> are even then print \"Failed\".\n",
        "</pre>"
      ]
    },
    {
      "cell_type": "code",
      "metadata": {
        "id": "Ro9slJr0VU3m",
        "outputId": "f1ecd1c6-428c-48b9-cb66-c44709c100ac",
        "colab": {
          "base_uri": "https://localhost:8080/",
          "height": 89
        }
      },
      "source": [
        "#Solved by :Taiba naz\n",
        "\n",
        "#Code/Answers below :\n",
        "def larger_even(a=10,b=20):\n",
        "  if a%2==0 and b%2==0:\n",
        "    if a>b:\n",
        "      print(a)\n",
        "    else:\n",
        "      print(b)\n",
        "  elif a%2==0 and b%2!=0:   \n",
        "     print(a)\n",
        "  else:\n",
        "    print(b) \n",
        "larger_even(5,8)\n",
        "larger_even(4,8)\n",
        "larger_even(4,9)\n",
        "larger_even()"
      ],
      "execution_count": null,
      "outputs": [
        {
          "output_type": "stream",
          "text": [
            "8\n",
            "8\n",
            "4\n",
            "20\n"
          ],
          "name": "stdout"
        }
      ]
    },
    {
      "cell_type": "markdown",
      "metadata": {
        "id": "PnU1i8WhVWRG"
      },
      "source": [
        "<pre> 6.) Write a function that accepts a number as a parameter. If the number is even return it's squared value, if<br> it is odd then return it's cube.\n",
        "</pre>"
      ]
    },
    {
      "cell_type": "code",
      "metadata": {
        "id": "yElaQ_JcVkUq",
        "outputId": "b5ac8460-b0b1-4912-9c37-4f79a91242a2",
        "colab": {
          "base_uri": "https://localhost:8080/",
          "height": 50
        }
      },
      "source": [
        "#Solved by : Tonima Paul\n",
        "\n",
        "#Code/Answers below :\n",
        "\n",
        "number = int(input(\"Enter a number: \"))\n",
        "\n",
        "def Num_SqCube(num):\n",
        "    if (num % 2) == 0:\n",
        "        print(format(pow(num, 2)))\n",
        "    else:\n",
        "        print(format(pow(num, 3)))\n",
        "\n",
        "Num_SqCube(number)"
      ],
      "execution_count": null,
      "outputs": [
        {
          "output_type": "stream",
          "text": [
            "Enter a number: 5\n",
            "125\n"
          ],
          "name": "stdout"
        }
      ]
    },
    {
      "cell_type": "markdown",
      "metadata": {
        "id": "plWGxTnVNHdt"
      },
      "source": [
        "<hr>\n",
        "\n",
        "# <h1><u><center><b> GROUP-6 (G-6) : </b></center></u></h1>\n",
        "<h2>MEMBERS : </h2>\n",
        "\n",
        "\n",
        "1. **Ashok (MBA02) [LEADER]**  \n",
        "2. Anand KN (BA06) \n",
        "3. Suresha HP (BA05)\n",
        "4. Preethi (BA05)\n",
        "5. Pradeep (BA06)\n",
        "6. Sneha (BA06)\n",
        "\n",
        "\n",
        "\n"
      ]
    },
    {
      "cell_type": "markdown",
      "metadata": {
        "id": "4D27x6lpUHhC"
      },
      "source": [
        "<hr>\n",
        "\n",
        "## <h4><b><center><u>CHAPTER-1 </u></center></b></h4>\n",
        "\n",
        "<hr>"
      ]
    },
    {
      "cell_type": "markdown",
      "metadata": {
        "id": "DPlHFHqMk6rL"
      },
      "source": [
        "<pre>\n",
        "1.) Accept the radius of a circle from the user and return the diameter, area and perimeter of the circle.\n",
        "</pre>"
      ]
    },
    {
      "cell_type": "code",
      "metadata": {
        "id": "fT8hSZcHlG0v",
        "outputId": "a4642b46-bab3-43f0-d80d-f9cc4417b0e0",
        "colab": {
          "base_uri": "https://localhost:8080/",
          "height": 50
        }
      },
      "source": [
        "#Solved by :Pradeep Thota\n",
        "\n",
        "#Code/Answers below : \n",
        "# Here radius of circle formula is pi*r(square), and pi is constans r(radius) we need to give as input\n",
        "#Pi formula is available in math function as predfined so we imported it\n",
        "from math import pi\n",
        "#r is the radius we need to give as input and its always good to go with data type as float as it can accept decimal point hence we given the same\n",
        "#reading R value\n",
        "r = float(input (\"Input the radius of the circle : \"))\n",
        "# displaying data and here we used str(r) is to see data in string format and applied formula as radius = pi*r(squared)\n",
        "print (\"The area of the circle with radius \" + str(r) + \" is: \" + str(pi * r**2))"
      ],
      "execution_count": null,
      "outputs": [
        {
          "output_type": "stream",
          "text": [
            "Input the radius of the circle : 4\n",
            "The area of the circle with radius 4.0 is: 50.26548245743669\n"
          ],
          "name": "stdout"
        }
      ]
    },
    {
      "cell_type": "markdown",
      "metadata": {
        "id": "ImbPaFoilIRe"
      },
      "source": [
        "<pre>\n",
        "2.) A ride can only accept ages 12 and below. Accept the age of the user and<br>check if he/she is eligible to take the ride or not.\n",
        "</pre>"
      ]
    },
    {
      "cell_type": "code",
      "metadata": {
        "id": "pB_Ip1kyldI4"
      },
      "source": [
        "#Solved by :Preethi B.S\n",
        " \n",
        "#Code/Answers below : \n",
        "#Taking age as input file which is of float\n",
        "age = float(input (\"Please Enter your Age : \"))\n",
        "# applying if condition as if age is below 12 ride is accepted\n",
        "if(age < 12):\n",
        "    print(\"You are eligible for Ride please enjoy.\")\n",
        "# apllying else (if not) condition if their age is more that 12 we are not accepting ride\n",
        "else:\n",
        "    print(\"Sorry your age is \"+ str(age) + \" you are not eligible for ride as we accept ride for below 12 years age.\")"
      ],
      "execution_count": null,
      "outputs": []
    },
    {
      "cell_type": "markdown",
      "metadata": {
        "id": "q5vfQZZZleWS"
      },
      "source": [
        "<pre>\n",
        "3.) Record what happens when following statements are executed:\n",
        "a) print (n=5;n=3)\n",
        "b) print (1478+5192.0)\n",
        "c) print (12.167, \"this\", 12967-245, \"that\", 16/40.5)\n",
        "d) print (type(len(str(\"HELLO\"))))\n",
        "</pre>"
      ]
    },
    {
      "cell_type": "code",
      "metadata": {
        "id": "g7rK5paTmG8v",
        "outputId": "7fde68ae-30ef-4380-9571-bd0c5053bf64",
        "colab": {
          "base_uri": "https://localhost:8080/",
          "height": 129
        }
      },
      "source": [
        "#Solved by :Pradeep Thota\n",
        "\n",
        "#Code/Answers below : \n",
        "# A) Throws an error because we are printing value without quotes and assigning values in side print statement.\n",
        "# B) It does addition without erroes\n",
        "# c) prints all data inside print statement\n",
        "# D) Gives the class/type of the statement\n",
        "\n",
        "print (1478+5192.0)\n",
        "print (12.167, \"this\", 12967-245, \"that\", 16/40.5)\n",
        "print (type(len(str(\"HELLO\"))))\n",
        "print (n=5;n=3)"
      ],
      "execution_count": null,
      "outputs": [
        {
          "output_type": "error",
          "ename": "SyntaxError",
          "evalue": "ignored",
          "traceback": [
            "\u001b[0;36m  File \u001b[0;32m\"<ipython-input-1-1318c967378d>\"\u001b[0;36m, line \u001b[0;32m12\u001b[0m\n\u001b[0;31m    print (n=5;n=3)\u001b[0m\n\u001b[0m              ^\u001b[0m\n\u001b[0;31mSyntaxError\u001b[0m\u001b[0;31m:\u001b[0m invalid syntax\n"
          ]
        }
      ]
    },
    {
      "cell_type": "markdown",
      "metadata": {
        "id": "wf1blyc7mItc"
      },
      "source": [
        "<pre>\n",
        "4.) Accept the temperature in Fahrenheit in variable F, and calculate the same in celsius, C, given that :\n",
        "<center> C = (F - 32) × 5/9</center>\n",
        "Print the temperature in both Fahrenheit and celsium.\n",
        "</pre>\n"
      ]
    },
    {
      "cell_type": "code",
      "metadata": {
        "id": "14vOgLF5nCS4",
        "outputId": "e6c9f8c0-86d0-4285-c165-5f27ff36b4f0",
        "colab": {
          "base_uri": "https://localhost:8080/",
          "height": 50
        }
      },
      "source": [
        "#Solved by : Suresha HP\n",
        "\n",
        "#Code/Answers below : \n",
        "# Reading temperature in Fahrenheit\n",
        "Fahrenheit = float(input('Enter temperature in Fahernheit: '))\n",
        "# Converting Fahrenheit to celsius\n",
        "celsius = (Fahrenheit - 32) * 5/9\n",
        "# Displaying output\n",
        "print('%.2f Fahrenheit is: %0.2f Celsius' %(Fahrenheit, celsius))"
      ],
      "execution_count": null,
      "outputs": [
        {
          "output_type": "stream",
          "text": [
            "Enter temperature in Fahernheit: 10\n",
            "10.00 Fahrenheit is: -12.22 Celsius\n"
          ],
          "name": "stdout"
        }
      ]
    },
    {
      "cell_type": "markdown",
      "metadata": {
        "id": "uxVZMNhHnDtx"
      },
      "source": [
        "<pre>\n",
        "5.) Check all syntactically correct statements\n",
        "i) a = input ( )\n",
        "ii) a = input (“enter a number”)\n",
        "iii) a = input (enter your name)\n",
        "</pre>"
      ]
    },
    {
      "cell_type": "code",
      "metadata": {
        "id": "FCowYVBvn6Rc"
      },
      "source": [
        "#Solved by : Preethi BS\n",
        "\n",
        "#Code/Answers below : \n",
        "# i) is syntatically correct as it runs empty string and takes input dynamically and stores in a as a String\n",
        "# ii) Worng syntax it wont consider to take input\n",
        "# iii) Worng syntax it wont consider to take input\n"
      ],
      "execution_count": null,
      "outputs": []
    },
    {
      "cell_type": "markdown",
      "metadata": {
        "id": "YD47SPO5099f"
      },
      "source": [
        "<hr>"
      ]
    },
    {
      "cell_type": "markdown",
      "metadata": {
        "id": "lTbnX362WNv_"
      },
      "source": [
        "<hr>\n",
        "\n",
        "## <h4><b><center><u>CHAPTER-2 </u></center></b></h4>\n",
        "\n",
        "Page 137 to 157 from [11th Std Book.](http://www.cbseacademic.nic.in/web_material/doc/cs/1_Computer-Science-Python-Book-Class-XI.pdf)\n",
        "<br><br>\n",
        "<b>Extra Reading Materials :</b> \n",
        "\n",
        "[www.javatpoint.com/python-functions](https://www.javatpoint.com/python-functions) \n",
        "\n",
        "\n",
        "(Learn about \\*args & \\*\\*kwargs if possible)\n",
        "\n",
        "<hr>"
      ]
    },
    {
      "cell_type": "markdown",
      "metadata": {
        "id": "uARC53n-WXke"
      },
      "source": [
        "<pre>\n",
        "1.) The formula for gravitational force is given as follows :\n",
        "\n",
        "<center> F = (G x m1 x m2)/r<sup>2</sup></center>\n",
        "\n",
        "HERE, m1 = Mass of body 1 \n",
        "      m2 = Mass of body 2 \n",
        "      r  = distance between body 1 & 2\n",
        "      Consider, G = 100\n",
        "\n",
        "Write a function that accepts m1,m2, and r as it's three parameters respectively and then return the<br>gravitational force, F.\n",
        "\n",
        "NOTE : Ignore units like kg for mass, metres for distance. Just take the values as it is without converting them.\n",
        "\n",
        "      "
      ]
    },
    {
      "cell_type": "code",
      "metadata": {
        "id": "Si-MvyqSYO6D",
        "outputId": "34926256-67fc-4726-ca52-2dc2ca23df04",
        "colab": {
          "base_uri": "https://localhost:8080/",
          "height": 84
        }
      },
      "source": [
        "#Solved by :Pradeep Thota\n",
        "\n",
        "#Code/Answers below :\n",
        "m1=float(input(\"Enter the mass of object m1: \"))\n",
        "m2=float(input(\"Enter the mass of object m2: \"))\n",
        "r =float(input(\"Enter the distance between the two objects m1 and m2: \"))\n",
        "G=100\n",
        "f=(G*m1*m2)/r**2\n",
        "print(\"The force of gravity between two objects m1 and m2 =\",f)"
      ],
      "execution_count": null,
      "outputs": [
        {
          "output_type": "stream",
          "text": [
            "Enter the mass of object m1: 10\n",
            "Enter the mass of object m2: 12\n",
            "Enter the distance between the two objects m1 and m2: 8\n",
            "The force of gravity between two objects m1 and m2 = 187.5\n"
          ],
          "name": "stdout"
        }
      ]
    },
    {
      "cell_type": "markdown",
      "metadata": {
        "id": "s4Ndjj4WYQtN"
      },
      "source": [
        "<pre>\n",
        "2.) Write a function that accepts a no. as it's parameter and return it's predecessor no. and the successor no.\n",
        "\n",
        "Eg : func(28)\n",
        "Predecessor : 27\n",
        "Successor : 29\n",
        "</pre>"
      ]
    },
    {
      "cell_type": "code",
      "metadata": {
        "id": "HfxJ__zHYeM6"
      },
      "source": [
        "#Solved by : Sneha_MBA05\n",
        "\n",
        "#Code/Answers below :\n",
        "x =int(input(\"Enter the number X: \"))\n",
        "Pre = x-1\n",
        "Suc = x+1\n",
        "print(\"The predecessor of the given number is: \",Pre)\n",
        "print(\"The successor of the given number is: \",Suc)\n",
        "\n"
      ],
      "execution_count": null,
      "outputs": []
    },
    {
      "cell_type": "markdown",
      "metadata": {
        "id": "Zs6TdrwIYnN7"
      },
      "source": [
        "<pre>\n",
        "3.) Write a function that has a parameter. If no value is passed on running the function take default value as 10.<br>Check wheter if the function is a single digit no. or not.\n",
        "</pre>"
      ]
    },
    {
      "cell_type": "code",
      "metadata": {
        "id": "fb9oyhnfZNr6"
      },
      "source": [
        "#Solved by : Sneha_MBA05\n",
        "\n",
        "#Code/Answers below :\n",
        "x =int(input(\"Enter the number X: \"))\n",
        "if( len(str(x)) > 1):\n",
        " print(\"The number is not Single Digit \")\n",
        "else:\n",
        "  print(\"The number is  Single Digit \")\n",
        "\n",
        "\n"
      ],
      "execution_count": null,
      "outputs": []
    },
    {
      "cell_type": "markdown",
      "metadata": {
        "id": "tCAqvxS3ZOVo"
      },
      "source": [
        "<pre>\n",
        "4.) Write a function that accepts the hour (not the minutes, only hour) as a parameter in 24 hours format,<br>and returns it in 12 hour format.\n",
        "\n",
        "Eg : func(17)\n",
        "17 hr in 12 hour format is 5 hr.\n",
        "</pre>"
      ]
    },
    {
      "cell_type": "code",
      "metadata": {
        "id": "dKFbAo_bZ6Eu"
      },
      "source": [
        "#Solved by :\n",
        "\n",
        "#Code/Answers below :"
      ],
      "execution_count": null,
      "outputs": []
    },
    {
      "cell_type": "markdown",
      "metadata": {
        "id": "HYgUDKdcZ6ts"
      },
      "source": [
        "<pre>\n",
        "5.) Explain what is happening in this code and how we get the output. What is the usage of global keyword?<br>What happens when we remove global from both f() and g() functions and why does it happen?\n",
        "\n",
        ">>> x = 1\n",
        ">>> def f():\n",
        "      global x\n",
        "      print (x)\n",
        "      if x>0:\n",
        "        g()\n",
        "\n",
        ">>> def g():\n",
        "      global x\n",
        "      x+=1\n",
        "      if x<11:\n",
        "        f()\n",
        "\n",
        ">>> f()\n",
        "</pre>      \n",
        "\n"
      ]
    },
    {
      "cell_type": "code",
      "metadata": {
        "id": "30uIwSXQcRCk",
        "outputId": "900c9bec-ee78-472f-aca2-c247acc6219c",
        "colab": {
          "base_uri": "https://localhost:8080/",
          "height": 185
        }
      },
      "source": [
        "#Solved by : Preethi BS\n",
        "\n",
        "#Code/Answers below :\n",
        "# we have assigned 1 value to x\n",
        "x = 1\n",
        "\n",
        "#defined a function f(), made x as a global variable so it can be used in another condition if we remove that we cant call x\n",
        "#gave a condition if x is greater than 0 assign that value to g\n",
        "def f():\n",
        "      global x\n",
        "      print (x)\n",
        "      if x>0:\n",
        "        g()\n",
        "\n",
        "#defined a function g() and made x as auto increment,\n",
        "# gave a condition if x is lessthan 11 then assign that to f\n",
        "# so here f value contains numbers 1 to 10 and g values contains from 2 to 10\n",
        "def g():\n",
        "      global x\n",
        "      x+=1\n",
        "      if x<11:\n",
        "        f()\n",
        "\n",
        "f()"
      ],
      "execution_count": null,
      "outputs": [
        {
          "output_type": "stream",
          "text": [
            "1\n",
            "2\n",
            "3\n",
            "4\n",
            "5\n",
            "6\n",
            "7\n",
            "8\n",
            "9\n",
            "10\n"
          ],
          "name": "stdout"
        }
      ]
    },
    {
      "cell_type": "markdown",
      "metadata": {
        "id": "ZytmO3h8ciHK"
      },
      "source": [
        "<pre>\n",
        "6.) Write a function that accepts a string as a parameter and return it's length.\n",
        "</pre>"
      ]
    },
    {
      "cell_type": "code",
      "metadata": {
        "id": "7FWr40xQc7tG"
      },
      "source": [
        "#Solved by : Anand KN\n",
        "\n",
        "#Code/Answers below :\n",
        "\n",
        "#This can be acheived in two ways:\n",
        "#Method 1:\n",
        "str = input(\"Enter a string: \")\n",
        "print(\"Length of the input string is:\", len(str))\n",
        "\n",
        "# counter variable to count the character in a string\n",
        "#Method 2:\n",
        "counter = 0\n",
        "for s in str:\n",
        "      counter = counter+1\n",
        "print(\"Length of the input string is:\", counter)\n",
        "\n",
        "\n"
      ],
      "execution_count": null,
      "outputs": []
    },
    {
      "cell_type": "markdown",
      "metadata": {
        "id": "HJ4XuSSwfbe_"
      },
      "source": [
        "<hr>\n",
        "\n",
        "# <h1><u><center><b> GROUP-7 (G-7) : </b></center></u></h1>\n",
        "<center>Under both Saket & Andrea ma'am (Can reach out to either for help).</center>\n",
        "<h2>MEMBERS : </h2>\n",
        "\n",
        "\n",
        "1. **Anuraag Anand (MBA03) [LEADER]**  \n",
        "2. Lalit Aggarwal (BA05)\n",
        "3. Gurushanth (AI01)\n",
        "4. Rajanna (AI01) \n",
        "5. Gaurav (AI01)\n"
      ]
    },
    {
      "cell_type": "markdown",
      "metadata": {
        "id": "W4Fb8aJGlIG7"
      },
      "source": [
        "<hr>\n",
        "\n",
        "## <h4><b><center><u>CHAPTER-1 </u></center></b></h4>\n",
        "<center>Questions will be added soon</center>\n",
        "<hr>"
      ]
    },
    {
      "cell_type": "markdown",
      "metadata": {
        "id": "d54zmBtclJvb"
      },
      "source": [
        "<hr>\n",
        "\n",
        "## <h4><b><center><u>CHAPTER-2 </u></center></b></h4>\n",
        "\n",
        "Page 137 to 157 from [11th Std Book.](http://www.cbseacademic.nic.in/web_material/doc/cs/1_Computer-Science-Python-Book-Class-XI.pdf)\n",
        "<br><br>\n",
        "<b>Extra Reading Materials :</b> \n",
        "\n",
        "[www.javatpoint.com/python-functions](https://www.javatpoint.com/python-functions) \n",
        "\n",
        "\n",
        "(Learn about \\*args & \\*\\*kwargs if possible)\n",
        "\n",
        "<hr>"
      ]
    },
    {
      "cell_type": "markdown",
      "metadata": {
        "id": "d35wjrll6IhR"
      },
      "source": [
        "# New Section"
      ]
    },
    {
      "cell_type": "markdown",
      "metadata": {
        "id": "sYfXlaGUkXXp"
      },
      "source": [
        "<pre>\n",
        "1.) Write a program to ask for following as input :\n",
        "Enter your first name: Rahul\n",
        "Enter your last name: Kumar\n",
        "Enter your date of birth\n",
        "Month? March\n",
        "Day? 10\n",
        "Year? 1992\n",
        "And display following on screen\n",
        "Rahul Kumar was born on March 10, 1992.\n",
        "</pre>"
      ]
    },
    {
      "cell_type": "code",
      "metadata": {
        "id": "xl5_96q6lBGo"
      },
      "source": [
        "#Solved by : Anuraag [MBA03]\n",
        "\n",
        "#Code/Answers below :\n",
        "\n",
        "def ask_detail1(): \n",
        "  \"\"\"\n",
        "  Enter First Name :\n",
        "  Enter Last Name :\n",
        "  Enter DOB: Month: (\"Jan\")/Day(\"01\")/Year(\"1999\").\n",
        "  \"\"\"\n",
        "  firstname=str (input(\"Enter your first name: \"))\n",
        "  lastname= str (input(\"Enter your last name: \"))\n",
        "  print(\"Enter your date of birth:(MMM/DD/YYYY)\")\n",
        "  Month=str(input(\"Month? \"))\n",
        "  Day=int(input(\"Day? \"))\n",
        "  Year=int(input(\"Year? \"))\n",
        "  print(\"%s %s was born on %s, %d %d\" % (firstname,lastname,Month,Day,Year))"
      ],
      "execution_count": null,
      "outputs": []
    },
    {
      "cell_type": "code",
      "metadata": {
        "id": "ThVQ_CiWq4iO",
        "outputId": "a9b0eeb6-94f0-4e44-bb48-1640b7b4c347",
        "colab": {
          "base_uri": "https://localhost:8080/",
          "height": 169
        }
      },
      "source": [
        "ask_detail1()"
      ],
      "execution_count": null,
      "outputs": [
        {
          "output_type": "error",
          "ename": "NameError",
          "evalue": "ignored",
          "traceback": [
            "\u001b[0;31m---------------------------------------------------------------------------\u001b[0m",
            "\u001b[0;31mNameError\u001b[0m                                 Traceback (most recent call last)",
            "\u001b[0;32m<ipython-input-14-9d1787c2dabd>\u001b[0m in \u001b[0;36m<module>\u001b[0;34m()\u001b[0m\n\u001b[0;32m----> 1\u001b[0;31m \u001b[0mask_detail1\u001b[0m\u001b[0;34m(\u001b[0m\u001b[0;34m)\u001b[0m\u001b[0;34m\u001b[0m\u001b[0;34m\u001b[0m\u001b[0m\n\u001b[0m",
            "\u001b[0;31mNameError\u001b[0m: name 'ask_detail1' is not defined"
          ]
        }
      ]
    },
    {
      "cell_type": "code",
      "metadata": {
        "id": "wpFFs_jP4GWs",
        "outputId": "a4d80a70-983c-4588-adaf-a749d5d02978",
        "colab": {
          "base_uri": "https://localhost:8080/",
          "height": 143
        }
      },
      "source": [
        "def details():\n",
        "  f_name=input(\"Enter your first name: \")\n",
        "  l_name= input(\"Enter your last name: \")\n",
        "  print(\"Enter your date of birth:(MMM/DD/YYYY)\")\n",
        "  Month=input(\"Month? \")\n",
        "  Day=input(\"Day? \")\n",
        "  Year=input(\"Year? \")\n",
        "  print(f_name+l_name+\"was born on \"+Month+Day+\", \"+Year)\n",
        "details()  "
      ],
      "execution_count": null,
      "outputs": [
        {
          "output_type": "stream",
          "text": [
            "Enter your first name: Rahul\n",
            "Enter your last name: Kumar\n",
            "Enter your date of birth:(MMM/DD/YYYY)\n",
            "Month? March\n",
            "Day? 10\n",
            "Year? 1992\n",
            "RahulKumarwas born on March10,1992\n"
          ],
          "name": "stdout"
        }
      ]
    },
    {
      "cell_type": "markdown",
      "metadata": {
        "id": "OMTKkoUglXOA"
      },
      "source": [
        "<pre>\n",
        "2.) Using \"composite\" concept taught in the 11th class book, make two of your own user-defined functions that<br>use the composite concept.\n",
        "</pre>"
      ]
    },
    {
      "cell_type": "code",
      "metadata": {
        "id": "DIUr5X5hmjFR",
        "outputId": "33d8c831-1001-4920-bc1b-3407b26acbda",
        "colab": {
          "base_uri": "https://localhost:8080/",
          "height": 50
        }
      },
      "source": [
        "#Solved by : Gurushanth - AI01 \n",
        "\n",
        "#Code/Answers below :\n",
        "curr_salary = 10000 # current salary of employee.\n",
        "\t\n",
        "def cal_bonus(percent=10):\n",
        "  ''' calculate bonous amount.\n",
        "\t\n",
        "\t\t\tpercent - percentage of bounus, default 10 percent\n",
        "\t\t\treturn bonus amount '''\n",
        "  return (curr_salary * percent)/100\n",
        "\t\t\n",
        "def cal_total_salary(bonus):\n",
        "  ''' calculate total salary.\n",
        "\t   \n",
        "\t   bonus - bonus amount\n",
        "\t   print total salary'''\n",
        "  print(curr_salary + bonus)\n",
        "\t\n",
        "# using python composition, pass cal_bonous() return value as argument to cal_total_salary() to calculate total salary. \t\n",
        "cal_total_salary(cal_bonus(5.5))\n",
        "# calculate with default 10% bonus \n",
        "cal_total_salary(cal_bonus())"
      ],
      "execution_count": null,
      "outputs": [
        {
          "output_type": "stream",
          "text": [
            "10550.0\n",
            "11000.0\n"
          ],
          "name": "stdout"
        }
      ]
    },
    {
      "cell_type": "markdown",
      "metadata": {
        "id": "BaJ_bCmxmkyo"
      },
      "source": [
        "<pre>\n",
        "3.) Accept three parameters for a function where the first parameter is the final velocity 'v', second parameter<br>is the initial velocity 'u', and the third parameter is the time taken 't'.<br>The user-defined function has to take these three parameters and calculate the acceleration which is given as :\n",
        "\n",
        "<center>a = (v-u)/t</center>\n",
        "</pre>"
      ]
    },
    {
      "cell_type": "code",
      "metadata": {
        "id": "lq-bZEp-wcgb",
        "outputId": "bf27d9a8-06fc-4f53-a03d-8c01e29c6511",
        "colab": {
          "base_uri": "https://localhost:8080/",
          "height": 84
        }
      },
      "source": [
        "#Solved by : Rajanna, AI01, G-7\n",
        "\n",
        "#Code/Answers below :\n",
        "\n",
        "# This code is to calculate acceleration (a), given final velocity (v), Initial velocity (u) and time take (t)\n",
        "\n",
        "v = input (\"Enter final velocity 'v' in km/h \") # Prompts for initial velocity 'v'\n",
        "u = input (\"Enter initial velocity 'u' in km/h \") # Prompts for initial velocity 'u'\n",
        "t = input (\"Enter time taken 't' in Seconds \") # Prompts for time taken 't'\n",
        "\n",
        "V = int(v)\n",
        "U = int(u)\n",
        "T = float(t)\n",
        "\n",
        "a = (V-U)/T  # calculates Acceleration\n",
        "\n",
        "print(\"Acceleration is \", a , \"Seconds\") # Displays calculated acceleration value"
      ],
      "execution_count": null,
      "outputs": [
        {
          "output_type": "stream",
          "text": [
            "Enter final velocity 'v' in km/h 100\n",
            "Enter initial velocity 'u' in km/h 20\n",
            "Enter time taken 't' in Seconds 10\n",
            "Acceleration is  8.0 Seconds\n"
          ],
          "name": "stdout"
        }
      ]
    },
    {
      "cell_type": "code",
      "metadata": {
        "id": "phW3Jz-T6euI",
        "outputId": "c291117c-6231-4e09-f65f-247d9ce4a428",
        "colab": {
          "base_uri": "https://localhost:8080/",
          "height": 53
        }
      },
      "source": [
        "#Alternative suggested by :Taiba Naz\n",
        "#A function where initial velocity 'u',final velocity 'v', time taken 't'.\n",
        "def acc(u,v,t):\n",
        "  acc = (v-u)/t #acceleration formula\n",
        "  print(\"Acceleration is \", acc , \"m/s2\")\n",
        "  return acc\n",
        "  \n",
        "#check the result  \n",
        "acc(5,25,10)#where u=5m/s,v=25m/s & t=10sec,acceleration will be in m/s2."
      ],
      "execution_count": null,
      "outputs": [
        {
          "output_type": "stream",
          "text": [
            "Acceleration is  2.0 m/s2\n"
          ],
          "name": "stdout"
        },
        {
          "output_type": "execute_result",
          "data": {
            "text/plain": [
              "2.0"
            ]
          },
          "metadata": {
            "tags": []
          },
          "execution_count": 4
        }
      ]
    },
    {
      "cell_type": "markdown",
      "metadata": {
        "id": "xqLbmle2wfXx"
      },
      "source": [
        "<pre>\n",
        "4.) Write a function that accepts two numbers as parameters and tells which one are the even no.s and which one are the odd no.s.\n",
        "</pre>"
      ]
    },
    {
      "cell_type": "code",
      "metadata": {
        "id": "_L0eHKmCxpMU"
      },
      "source": [
        "#Solved by : Anuraag [MBA03]\n",
        "\n",
        "#Code/Answers below :\n",
        "\n",
        "\"\"\"\n",
        "n1: int or float.\n",
        "n2: int or float.\n",
        "\"\"\"\n",
        "# Fuction to identify even number using mod(%) operator\n",
        "\n",
        "def findeven():\n",
        "  n1 = int(input(\"Enter a number1: \"))\n",
        "  n2 = int(input(\"Enter a number2: \"))\n",
        "  if (n1 % 2) == 0:\n",
        "    print(\"{0} is Even number\". format(n1))\n",
        "  else:\n",
        "    print(\"{0} is Odd number\". format(n1))\n",
        "  if (n2 % 2) == 0:\n",
        "    print(\"{0} is Even number\". format(n2))\n",
        "  else:\n",
        "    print(\"{0} is Odd number\". format(n2))"
      ],
      "execution_count": null,
      "outputs": []
    },
    {
      "cell_type": "code",
      "metadata": {
        "id": "7IfaNrgPwUnl",
        "outputId": "65b7f38f-2cb8-4366-9000-2ae29a4a0345",
        "colab": {
          "base_uri": "https://localhost:8080/",
          "height": 87
        }
      },
      "source": [
        "findeven()"
      ],
      "execution_count": null,
      "outputs": [
        {
          "output_type": "stream",
          "text": [
            "Enter a number1: 5\n",
            "Enter a number2: 8\n",
            "5 is Odd number\n",
            "8 is Even number\n"
          ],
          "name": "stdout"
        }
      ]
    },
    {
      "cell_type": "markdown",
      "metadata": {
        "id": "bkcF-cMnoWRS"
      },
      "source": [
        "<pre>\n",
        "5.) Write a function that accepts two strings as the parameter or argument and returns the<br>string with more length or characters in it.\n",
        "</pre>"
      ]
    },
    {
      "cell_type": "code",
      "metadata": {
        "id": "Ze8bKg10ogIC",
        "outputId": "74b881d3-506a-4ee3-f7f6-f331caab52a9",
        "colab": {
          "base_uri": "https://localhost:8080/",
          "height": 35
        }
      },
      "source": [
        "#Solved by :Taiba naz\n",
        "\n",
        "#Code/Answers below :\n",
        "def fun5(str1,str2):\n",
        "  if len(str1)>len(str2):\n",
        "    print(str1)\n",
        "  else:\n",
        "    print(str2) \n",
        "fun5(\"Naaz\",\"Taiba\")     "
      ],
      "execution_count": null,
      "outputs": [
        {
          "output_type": "stream",
          "text": [
            "Taiba\n"
          ],
          "name": "stdout"
        }
      ]
    },
    {
      "cell_type": "code",
      "metadata": {
        "id": "QwyJkgxU9tja",
        "outputId": "a3c11753-9f88-4569-fca6-5b0387b1e956",
        "colab": {
          "base_uri": "https://localhost:8080/",
          "height": 89
        }
      },
      "source": [
        "i=1\n",
        "for i in range(1,5):\n",
        "  for j in range(1,i):\n",
        "    print(j,end='')\n",
        "    j=j+1\n",
        "  print()  \n",
        "  i=i+1\n"
      ],
      "execution_count": null,
      "outputs": [
        {
          "output_type": "stream",
          "text": [
            "\n",
            "1\n",
            "12\n",
            "123\n"
          ],
          "name": "stdout"
        }
      ]
    },
    {
      "cell_type": "code",
      "metadata": {
        "id": "3_7_SaYS-RyT",
        "outputId": "426dd89f-47b3-44e4-e169-f5d5e972b948",
        "colab": {
          "base_uri": "https://localhost:8080/",
          "height": 179
        }
      },
      "source": [
        "i=1\n",
        "while i<=9:\n",
        "  j=1\n",
        "  while j<=i:\n",
        "    print(j,end=\"\")\n",
        "    j=j+1\n",
        "  print()  \n",
        "  i=i+1\n"
      ],
      "execution_count": null,
      "outputs": [
        {
          "output_type": "stream",
          "text": [
            "1\n",
            "12\n",
            "123\n",
            "1234\n",
            "12345\n",
            "123456\n",
            "1234567\n",
            "12345678\n",
            "123456789\n"
          ],
          "name": "stdout"
        }
      ]
    }
  ]
}